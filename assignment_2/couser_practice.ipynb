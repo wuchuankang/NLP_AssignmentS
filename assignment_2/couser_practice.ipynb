{
 "cells": [
  {
   "cell_type": "code",
   "execution_count": 1,
   "metadata": {},
   "outputs": [
    {
     "name": "stdout",
     "output_type": "stream",
     "text": [
      "['/home/wck/.local/lib/python3.6/site-packages/matplotlib']\n"
     ]
    }
   ],
   "source": [
    "import matplotlib\n",
    "print(matplotlib.__path__)"
   ]
  },
  {
   "cell_type": "code",
   "execution_count": 2,
   "metadata": {},
   "outputs": [],
   "source": [
    "import re"
   ]
  },
  {
   "cell_type": "code",
   "execution_count": 3,
   "metadata": {},
   "outputs": [],
   "source": [
    "import networkx as nx"
   ]
  },
  {
   "cell_type": "code",
   "execution_count": 4,
   "metadata": {},
   "outputs": [],
   "source": [
    "coordination_source = \"\"\"\n",
    "{name:'兰州', geoCoord:[103.73, 36.03]},\n",
    "{name:'嘉峪关', geoCoord:[98.17, 39.47]},\n",
    "{name:'西宁', geoCoord:[101.74, 36.56]},\n",
    "{name:'成都', geoCoord:[104.06, 30.67]},\n",
    "{name:'石家庄', geoCoord:[114.48, 38.03]},\n",
    "{name:'拉萨', geoCoord:[102.73, 25.04]},\n",
    "{name:'贵阳', geoCoord:[106.71, 26.57]},\n",
    "{name:'武汉', geoCoord:[114.31, 30.52]},\n",
    "{name:'郑州', geoCoord:[113.65, 34.76]},\n",
    "{name:'济南', geoCoord:[117, 36.65]},\n",
    "{name:'南京', geoCoord:[118.78, 32.04]},\n",
    "{name:'合肥', geoCoord:[117.27, 31.86]},\n",
    "{name:'杭州', geoCoord:[120.19, 30.26]},\n",
    "{name:'南昌', geoCoord:[115.89, 28.68]},\n",
    "{name:'福州', geoCoord:[119.3, 26.08]},\n",
    "{name:'广州', geoCoord:[113.23, 23.16]},\n",
    "{name:'长沙', geoCoord:[113, 28.21]},\n",
    "//{name:'海口', geoCoord:[110.35, 20.02]},\n",
    "{name:'沈阳', geoCoord:[123.38, 41.8]},\n",
    "{name:'长春', geoCoord:[125.35, 43.88]},\n",
    "{name:'哈尔滨', geoCoord:[126.63, 45.75]},\n",
    "{name:'太原', geoCoord:[112.53, 37.87]},\n",
    "{name:'西安', geoCoord:[108.95, 34.27]},\n",
    "//{name:'台湾', geoCoord:[121.30, 25.03]},\n",
    "{name:'北京', geoCoord:[116.46, 39.92]},\n",
    "{name:'上海', geoCoord:[121.48, 31.22]},\n",
    "{name:'重庆', geoCoord:[106.54, 29.59]},\n",
    "{name:'天津', geoCoord:[117.2, 39.13]},\n",
    "{name:'呼和浩特', geoCoord:[111.65, 40.82]},\n",
    "{name:'南宁', geoCoord:[108.33, 22.84]},\n",
    "//{name:'西藏', geoCoord:[91.11, 29.97]},\n",
    "{name:'银川', geoCoord:[106.27, 38.47]},\n",
    "{name:'乌鲁木齐', geoCoord:[87.68, 43.77]},\n",
    "{name:'香港', geoCoord:[114.17, 22.28]},\n",
    "{name:'澳门', geoCoord:[113.54, 22.19]}\n",
    "\"\"\""
   ]
  },
  {
   "cell_type": "code",
   "execution_count": 5,
   "metadata": {},
   "outputs": [
    {
     "name": "stdout",
     "output_type": "stream",
     "text": [
      "兰州 (103.73, 36.03)\n",
      "嘉峪关 (98.17, 39.47)\n",
      "西宁 (101.74, 36.56)\n",
      "成都 (104.06, 30.67)\n",
      "石家庄 (114.48, 38.03)\n",
      "拉萨 (102.73, 25.04)\n",
      "贵阳 (106.71, 26.57)\n",
      "武汉 (114.31, 30.52)\n",
      "郑州 (113.65, 34.76)\n",
      "济南 (117.0, 36.65)\n",
      "南京 (118.78, 32.04)\n",
      "合肥 (117.27, 31.86)\n",
      "杭州 (120.19, 30.26)\n",
      "南昌 (115.89, 28.68)\n",
      "福州 (119.3, 26.08)\n",
      "广州 (113.23, 23.16)\n",
      "长沙 (113.0, 28.21)\n",
      "沈阳 (123.38, 41.8)\n",
      "长春 (125.35, 43.88)\n",
      "哈尔滨 (126.63, 45.75)\n",
      "太原 (112.53, 37.87)\n",
      "西安 (108.95, 34.27)\n",
      "北京 (116.46, 39.92)\n",
      "上海 (121.48, 31.22)\n",
      "重庆 (106.54, 29.59)\n",
      "天津 (117.2, 39.13)\n",
      "呼和浩特 (111.65, 40.82)\n",
      "南宁 (108.33, 22.84)\n",
      "银川 (106.27, 38.47)\n",
      "乌鲁木齐 (87.68, 43.77)\n",
      "香港 (114.17, 22.28)\n",
      "澳门 (113.54, 22.19)\n"
     ]
    }
   ],
   "source": [
    "city_location ={}\n",
    "for line in coordination_source.split('\\n'):\n",
    "    if line.startswith('//'):continue     #将以//开头的行去掉\n",
    "    if line.strip() == '': continue   #将空行去掉\n",
    "    \n",
    "    city = re.findall(\"name:'(\\w+)'\", line)[0]    #注意里面单引号，也可以写成.(\\w+).；因为.可以匹配除了换行符\\n的任意字符，\\w智能匹配a-z A-Z 中文 _(下划线)，\n",
    "    x_y = re.findall(r\"Coord:\\[(\\d+.\\d+),\\s(\\d+.\\d+)\\]\", line)[0]  #当有两个()，则输出列表中的元素是tuple\n",
    "    x_y = tuple(map(float, x_y))  #将tuple中的字符串改成数字，这里的map高级用法，很值得学习！\n",
    "    city_location[city] = x_y\n",
    "    print(city, x_y)\n"
   ]
  },
  {
   "cell_type": "code",
   "execution_count": 6,
   "metadata": {},
   "outputs": [],
   "source": [
    "import math"
   ]
  },
  {
   "cell_type": "code",
   "execution_count": 7,
   "metadata": {},
   "outputs": [],
   "source": [
    "def geo_distance(origin, destination):\n",
    "    lat1, lon1 = origin\n",
    "    lat2, lon2 = destination\n",
    "    radius = 6371\n",
    "    \n",
    "    dlat = math.radians(lat2 - lat1)\n",
    "    dlon = math.radians(lon2 - lon1)\n",
    "    a = (math.sin(dlat / 2) * math.sin(dlat / 2) +\n",
    "         math.cos(math.radians(lat1)) * math.cos(math.radians(lat2)) *\n",
    "         math.sin(dlon / 2) * math.sin(dlon / 2))\n",
    "    c = 2 * math.atan2(math.sqrt(a), math.sqrt(1 - a))\n",
    "    d = radius * c\n",
    "\n",
    "    return d"
   ]
  },
  {
   "cell_type": "code",
   "execution_count": 8,
   "metadata": {},
   "outputs": [],
   "source": [
    "def get_city_distance(city1, city2):\n",
    "    return geo_distance(city_location[city1], city_location[city2])"
   ]
  },
  {
   "cell_type": "code",
   "execution_count": 9,
   "metadata": {},
   "outputs": [
    {
     "data": {
      "text/plain": [
       "153.5185697155768"
      ]
     },
     "execution_count": 9,
     "metadata": {},
     "output_type": "execute_result"
    }
   ],
   "source": [
    "get_city_distance(\"上海\",\"杭州\")"
   ]
  },
  {
   "cell_type": "code",
   "execution_count": 10,
   "metadata": {},
   "outputs": [],
   "source": [
    "import networkx as nx"
   ]
  },
  {
   "cell_type": "code",
   "execution_count": 11,
   "metadata": {},
   "outputs": [],
   "source": [
    "cities = list(city_location.keys())"
   ]
  },
  {
   "cell_type": "code",
   "execution_count": 12,
   "metadata": {},
   "outputs": [],
   "source": [
    "city_graph = nx.Graph()"
   ]
  },
  {
   "cell_type": "code",
   "execution_count": 13,
   "metadata": {},
   "outputs": [],
   "source": [
    "city_graph.add_nodes_from(cities)"
   ]
  },
  {
   "cell_type": "code",
   "execution_count": 14,
   "metadata": {},
   "outputs": [],
   "source": [
    "%matplotlib inline"
   ]
  },
  {
   "cell_type": "code",
   "execution_count": 15,
   "metadata": {},
   "outputs": [],
   "source": [
    "import matplotlib.pyplot as plt"
   ]
  },
  {
   "cell_type": "code",
   "execution_count": 16,
   "metadata": {},
   "outputs": [],
   "source": [
    "plt.rcParams['font.sans-serif'] = ['SimHei']\n",
    "plt.rcParams['axes.unicode_minus'] = False"
   ]
  },
  {
   "cell_type": "code",
   "execution_count": 17,
   "metadata": {},
   "outputs": [],
   "source": [
    "#nx.draw(city_graph, city_location, with_lables=True, node_size=10)"
   ]
  },
  {
   "cell_type": "code",
   "execution_count": 18,
   "metadata": {},
   "outputs": [
    {
     "name": "stderr",
     "output_type": "stream",
     "text": [
      "findfont: Font family ['sans-serif'] not found. Falling back to DejaVu Sans.\n",
      "/home/wck/.local/lib/python3.6/site-packages/matplotlib/backends/backend_agg.py:211: RuntimeWarning: Glyph 20848 missing from current font.\n",
      "  font.set_text(s, 0.0, flags=flags)\n",
      "/home/wck/.local/lib/python3.6/site-packages/matplotlib/backends/backend_agg.py:211: RuntimeWarning: Glyph 24030 missing from current font.\n",
      "  font.set_text(s, 0.0, flags=flags)\n",
      "/home/wck/.local/lib/python3.6/site-packages/matplotlib/backends/backend_agg.py:180: RuntimeWarning: Glyph 20848 missing from current font.\n",
      "  font.set_text(s, 0, flags=flags)\n",
      "/home/wck/.local/lib/python3.6/site-packages/matplotlib/backends/backend_agg.py:180: RuntimeWarning: Glyph 24030 missing from current font.\n",
      "  font.set_text(s, 0, flags=flags)\n",
      "/home/wck/.local/lib/python3.6/site-packages/matplotlib/backends/backend_agg.py:211: RuntimeWarning: Glyph 22025 missing from current font.\n",
      "  font.set_text(s, 0.0, flags=flags)\n",
      "/home/wck/.local/lib/python3.6/site-packages/matplotlib/backends/backend_agg.py:211: RuntimeWarning: Glyph 23786 missing from current font.\n",
      "  font.set_text(s, 0.0, flags=flags)\n",
      "/home/wck/.local/lib/python3.6/site-packages/matplotlib/backends/backend_agg.py:211: RuntimeWarning: Glyph 20851 missing from current font.\n",
      "  font.set_text(s, 0.0, flags=flags)\n",
      "/home/wck/.local/lib/python3.6/site-packages/matplotlib/backends/backend_agg.py:180: RuntimeWarning: Glyph 22025 missing from current font.\n",
      "  font.set_text(s, 0, flags=flags)\n",
      "/home/wck/.local/lib/python3.6/site-packages/matplotlib/backends/backend_agg.py:180: RuntimeWarning: Glyph 23786 missing from current font.\n",
      "  font.set_text(s, 0, flags=flags)\n",
      "/home/wck/.local/lib/python3.6/site-packages/matplotlib/backends/backend_agg.py:180: RuntimeWarning: Glyph 20851 missing from current font.\n",
      "  font.set_text(s, 0, flags=flags)\n",
      "/home/wck/.local/lib/python3.6/site-packages/matplotlib/backends/backend_agg.py:211: RuntimeWarning: Glyph 35199 missing from current font.\n",
      "  font.set_text(s, 0.0, flags=flags)\n",
      "/home/wck/.local/lib/python3.6/site-packages/matplotlib/backends/backend_agg.py:211: RuntimeWarning: Glyph 23425 missing from current font.\n",
      "  font.set_text(s, 0.0, flags=flags)\n",
      "/home/wck/.local/lib/python3.6/site-packages/matplotlib/backends/backend_agg.py:180: RuntimeWarning: Glyph 35199 missing from current font.\n",
      "  font.set_text(s, 0, flags=flags)\n",
      "/home/wck/.local/lib/python3.6/site-packages/matplotlib/backends/backend_agg.py:180: RuntimeWarning: Glyph 23425 missing from current font.\n",
      "  font.set_text(s, 0, flags=flags)\n",
      "/home/wck/.local/lib/python3.6/site-packages/matplotlib/backends/backend_agg.py:211: RuntimeWarning: Glyph 25104 missing from current font.\n",
      "  font.set_text(s, 0.0, flags=flags)\n",
      "/home/wck/.local/lib/python3.6/site-packages/matplotlib/backends/backend_agg.py:211: RuntimeWarning: Glyph 37117 missing from current font.\n",
      "  font.set_text(s, 0.0, flags=flags)\n",
      "/home/wck/.local/lib/python3.6/site-packages/matplotlib/backends/backend_agg.py:180: RuntimeWarning: Glyph 25104 missing from current font.\n",
      "  font.set_text(s, 0, flags=flags)\n",
      "/home/wck/.local/lib/python3.6/site-packages/matplotlib/backends/backend_agg.py:180: RuntimeWarning: Glyph 37117 missing from current font.\n",
      "  font.set_text(s, 0, flags=flags)\n",
      "/home/wck/.local/lib/python3.6/site-packages/matplotlib/backends/backend_agg.py:211: RuntimeWarning: Glyph 30707 missing from current font.\n",
      "  font.set_text(s, 0.0, flags=flags)\n",
      "/home/wck/.local/lib/python3.6/site-packages/matplotlib/backends/backend_agg.py:211: RuntimeWarning: Glyph 23478 missing from current font.\n",
      "  font.set_text(s, 0.0, flags=flags)\n",
      "/home/wck/.local/lib/python3.6/site-packages/matplotlib/backends/backend_agg.py:211: RuntimeWarning: Glyph 24196 missing from current font.\n",
      "  font.set_text(s, 0.0, flags=flags)\n",
      "/home/wck/.local/lib/python3.6/site-packages/matplotlib/backends/backend_agg.py:180: RuntimeWarning: Glyph 30707 missing from current font.\n",
      "  font.set_text(s, 0, flags=flags)\n",
      "/home/wck/.local/lib/python3.6/site-packages/matplotlib/backends/backend_agg.py:180: RuntimeWarning: Glyph 23478 missing from current font.\n",
      "  font.set_text(s, 0, flags=flags)\n",
      "/home/wck/.local/lib/python3.6/site-packages/matplotlib/backends/backend_agg.py:180: RuntimeWarning: Glyph 24196 missing from current font.\n",
      "  font.set_text(s, 0, flags=flags)\n",
      "/home/wck/.local/lib/python3.6/site-packages/matplotlib/backends/backend_agg.py:211: RuntimeWarning: Glyph 25289 missing from current font.\n",
      "  font.set_text(s, 0.0, flags=flags)\n",
      "/home/wck/.local/lib/python3.6/site-packages/matplotlib/backends/backend_agg.py:211: RuntimeWarning: Glyph 33832 missing from current font.\n",
      "  font.set_text(s, 0.0, flags=flags)\n",
      "/home/wck/.local/lib/python3.6/site-packages/matplotlib/backends/backend_agg.py:180: RuntimeWarning: Glyph 25289 missing from current font.\n",
      "  font.set_text(s, 0, flags=flags)\n",
      "/home/wck/.local/lib/python3.6/site-packages/matplotlib/backends/backend_agg.py:180: RuntimeWarning: Glyph 33832 missing from current font.\n",
      "  font.set_text(s, 0, flags=flags)\n",
      "/home/wck/.local/lib/python3.6/site-packages/matplotlib/backends/backend_agg.py:211: RuntimeWarning: Glyph 36149 missing from current font.\n",
      "  font.set_text(s, 0.0, flags=flags)\n",
      "/home/wck/.local/lib/python3.6/site-packages/matplotlib/backends/backend_agg.py:211: RuntimeWarning: Glyph 38451 missing from current font.\n",
      "  font.set_text(s, 0.0, flags=flags)\n",
      "/home/wck/.local/lib/python3.6/site-packages/matplotlib/backends/backend_agg.py:180: RuntimeWarning: Glyph 36149 missing from current font.\n",
      "  font.set_text(s, 0, flags=flags)\n",
      "/home/wck/.local/lib/python3.6/site-packages/matplotlib/backends/backend_agg.py:180: RuntimeWarning: Glyph 38451 missing from current font.\n",
      "  font.set_text(s, 0, flags=flags)\n",
      "/home/wck/.local/lib/python3.6/site-packages/matplotlib/backends/backend_agg.py:211: RuntimeWarning: Glyph 27494 missing from current font.\n",
      "  font.set_text(s, 0.0, flags=flags)\n",
      "/home/wck/.local/lib/python3.6/site-packages/matplotlib/backends/backend_agg.py:211: RuntimeWarning: Glyph 27721 missing from current font.\n",
      "  font.set_text(s, 0.0, flags=flags)\n",
      "/home/wck/.local/lib/python3.6/site-packages/matplotlib/backends/backend_agg.py:180: RuntimeWarning: Glyph 27494 missing from current font.\n",
      "  font.set_text(s, 0, flags=flags)\n",
      "/home/wck/.local/lib/python3.6/site-packages/matplotlib/backends/backend_agg.py:180: RuntimeWarning: Glyph 27721 missing from current font.\n",
      "  font.set_text(s, 0, flags=flags)\n",
      "/home/wck/.local/lib/python3.6/site-packages/matplotlib/backends/backend_agg.py:211: RuntimeWarning: Glyph 37073 missing from current font.\n",
      "  font.set_text(s, 0.0, flags=flags)\n",
      "/home/wck/.local/lib/python3.6/site-packages/matplotlib/backends/backend_agg.py:180: RuntimeWarning: Glyph 37073 missing from current font.\n",
      "  font.set_text(s, 0, flags=flags)\n",
      "/home/wck/.local/lib/python3.6/site-packages/matplotlib/backends/backend_agg.py:211: RuntimeWarning: Glyph 27982 missing from current font.\n",
      "  font.set_text(s, 0.0, flags=flags)\n",
      "/home/wck/.local/lib/python3.6/site-packages/matplotlib/backends/backend_agg.py:211: RuntimeWarning: Glyph 21335 missing from current font.\n",
      "  font.set_text(s, 0.0, flags=flags)\n",
      "/home/wck/.local/lib/python3.6/site-packages/matplotlib/backends/backend_agg.py:180: RuntimeWarning: Glyph 27982 missing from current font.\n",
      "  font.set_text(s, 0, flags=flags)\n",
      "/home/wck/.local/lib/python3.6/site-packages/matplotlib/backends/backend_agg.py:180: RuntimeWarning: Glyph 21335 missing from current font.\n",
      "  font.set_text(s, 0, flags=flags)\n",
      "/home/wck/.local/lib/python3.6/site-packages/matplotlib/backends/backend_agg.py:211: RuntimeWarning: Glyph 20140 missing from current font.\n",
      "  font.set_text(s, 0.0, flags=flags)\n",
      "/home/wck/.local/lib/python3.6/site-packages/matplotlib/backends/backend_agg.py:180: RuntimeWarning: Glyph 20140 missing from current font.\n",
      "  font.set_text(s, 0, flags=flags)\n",
      "/home/wck/.local/lib/python3.6/site-packages/matplotlib/backends/backend_agg.py:211: RuntimeWarning: Glyph 21512 missing from current font.\n",
      "  font.set_text(s, 0.0, flags=flags)\n",
      "/home/wck/.local/lib/python3.6/site-packages/matplotlib/backends/backend_agg.py:211: RuntimeWarning: Glyph 32933 missing from current font.\n",
      "  font.set_text(s, 0.0, flags=flags)\n",
      "/home/wck/.local/lib/python3.6/site-packages/matplotlib/backends/backend_agg.py:180: RuntimeWarning: Glyph 21512 missing from current font.\n",
      "  font.set_text(s, 0, flags=flags)\n",
      "/home/wck/.local/lib/python3.6/site-packages/matplotlib/backends/backend_agg.py:180: RuntimeWarning: Glyph 32933 missing from current font.\n",
      "  font.set_text(s, 0, flags=flags)\n",
      "/home/wck/.local/lib/python3.6/site-packages/matplotlib/backends/backend_agg.py:211: RuntimeWarning: Glyph 26477 missing from current font.\n",
      "  font.set_text(s, 0.0, flags=flags)\n",
      "/home/wck/.local/lib/python3.6/site-packages/matplotlib/backends/backend_agg.py:180: RuntimeWarning: Glyph 26477 missing from current font.\n",
      "  font.set_text(s, 0, flags=flags)\n",
      "/home/wck/.local/lib/python3.6/site-packages/matplotlib/backends/backend_agg.py:211: RuntimeWarning: Glyph 26124 missing from current font.\n",
      "  font.set_text(s, 0.0, flags=flags)\n",
      "/home/wck/.local/lib/python3.6/site-packages/matplotlib/backends/backend_agg.py:180: RuntimeWarning: Glyph 26124 missing from current font.\n",
      "  font.set_text(s, 0, flags=flags)\n",
      "/home/wck/.local/lib/python3.6/site-packages/matplotlib/backends/backend_agg.py:211: RuntimeWarning: Glyph 31119 missing from current font.\n",
      "  font.set_text(s, 0.0, flags=flags)\n",
      "/home/wck/.local/lib/python3.6/site-packages/matplotlib/backends/backend_agg.py:180: RuntimeWarning: Glyph 31119 missing from current font.\n",
      "  font.set_text(s, 0, flags=flags)\n",
      "/home/wck/.local/lib/python3.6/site-packages/matplotlib/backends/backend_agg.py:211: RuntimeWarning: Glyph 24191 missing from current font.\n",
      "  font.set_text(s, 0.0, flags=flags)\n",
      "/home/wck/.local/lib/python3.6/site-packages/matplotlib/backends/backend_agg.py:180: RuntimeWarning: Glyph 24191 missing from current font.\n",
      "  font.set_text(s, 0, flags=flags)\n",
      "/home/wck/.local/lib/python3.6/site-packages/matplotlib/backends/backend_agg.py:211: RuntimeWarning: Glyph 38271 missing from current font.\n",
      "  font.set_text(s, 0.0, flags=flags)\n",
      "/home/wck/.local/lib/python3.6/site-packages/matplotlib/backends/backend_agg.py:211: RuntimeWarning: Glyph 27801 missing from current font.\n",
      "  font.set_text(s, 0.0, flags=flags)\n",
      "/home/wck/.local/lib/python3.6/site-packages/matplotlib/backends/backend_agg.py:180: RuntimeWarning: Glyph 38271 missing from current font.\n",
      "  font.set_text(s, 0, flags=flags)\n",
      "/home/wck/.local/lib/python3.6/site-packages/matplotlib/backends/backend_agg.py:180: RuntimeWarning: Glyph 27801 missing from current font.\n",
      "  font.set_text(s, 0, flags=flags)\n",
      "/home/wck/.local/lib/python3.6/site-packages/matplotlib/backends/backend_agg.py:211: RuntimeWarning: Glyph 27784 missing from current font.\n",
      "  font.set_text(s, 0.0, flags=flags)\n",
      "/home/wck/.local/lib/python3.6/site-packages/matplotlib/backends/backend_agg.py:180: RuntimeWarning: Glyph 27784 missing from current font.\n",
      "  font.set_text(s, 0, flags=flags)\n",
      "/home/wck/.local/lib/python3.6/site-packages/matplotlib/backends/backend_agg.py:211: RuntimeWarning: Glyph 26149 missing from current font.\n",
      "  font.set_text(s, 0.0, flags=flags)\n",
      "/home/wck/.local/lib/python3.6/site-packages/matplotlib/backends/backend_agg.py:180: RuntimeWarning: Glyph 26149 missing from current font.\n",
      "  font.set_text(s, 0, flags=flags)\n",
      "/home/wck/.local/lib/python3.6/site-packages/matplotlib/backends/backend_agg.py:211: RuntimeWarning: Glyph 21704 missing from current font.\n",
      "  font.set_text(s, 0.0, flags=flags)\n",
      "/home/wck/.local/lib/python3.6/site-packages/matplotlib/backends/backend_agg.py:211: RuntimeWarning: Glyph 23572 missing from current font.\n",
      "  font.set_text(s, 0.0, flags=flags)\n",
      "/home/wck/.local/lib/python3.6/site-packages/matplotlib/backends/backend_agg.py:211: RuntimeWarning: Glyph 28392 missing from current font.\n",
      "  font.set_text(s, 0.0, flags=flags)\n",
      "/home/wck/.local/lib/python3.6/site-packages/matplotlib/backends/backend_agg.py:180: RuntimeWarning: Glyph 21704 missing from current font.\n",
      "  font.set_text(s, 0, flags=flags)\n",
      "/home/wck/.local/lib/python3.6/site-packages/matplotlib/backends/backend_agg.py:180: RuntimeWarning: Glyph 23572 missing from current font.\n",
      "  font.set_text(s, 0, flags=flags)\n",
      "/home/wck/.local/lib/python3.6/site-packages/matplotlib/backends/backend_agg.py:180: RuntimeWarning: Glyph 28392 missing from current font.\n",
      "  font.set_text(s, 0, flags=flags)\n",
      "/home/wck/.local/lib/python3.6/site-packages/matplotlib/backends/backend_agg.py:211: RuntimeWarning: Glyph 22826 missing from current font.\n",
      "  font.set_text(s, 0.0, flags=flags)\n",
      "/home/wck/.local/lib/python3.6/site-packages/matplotlib/backends/backend_agg.py:211: RuntimeWarning: Glyph 21407 missing from current font.\n",
      "  font.set_text(s, 0.0, flags=flags)\n",
      "/home/wck/.local/lib/python3.6/site-packages/matplotlib/backends/backend_agg.py:180: RuntimeWarning: Glyph 22826 missing from current font.\n",
      "  font.set_text(s, 0, flags=flags)\n",
      "/home/wck/.local/lib/python3.6/site-packages/matplotlib/backends/backend_agg.py:180: RuntimeWarning: Glyph 21407 missing from current font.\n",
      "  font.set_text(s, 0, flags=flags)\n",
      "/home/wck/.local/lib/python3.6/site-packages/matplotlib/backends/backend_agg.py:211: RuntimeWarning: Glyph 23433 missing from current font.\n",
      "  font.set_text(s, 0.0, flags=flags)\n",
      "/home/wck/.local/lib/python3.6/site-packages/matplotlib/backends/backend_agg.py:180: RuntimeWarning: Glyph 23433 missing from current font.\n",
      "  font.set_text(s, 0, flags=flags)\n",
      "/home/wck/.local/lib/python3.6/site-packages/matplotlib/backends/backend_agg.py:211: RuntimeWarning: Glyph 21271 missing from current font.\n",
      "  font.set_text(s, 0.0, flags=flags)\n",
      "/home/wck/.local/lib/python3.6/site-packages/matplotlib/backends/backend_agg.py:180: RuntimeWarning: Glyph 21271 missing from current font.\n",
      "  font.set_text(s, 0, flags=flags)\n",
      "/home/wck/.local/lib/python3.6/site-packages/matplotlib/backends/backend_agg.py:211: RuntimeWarning: Glyph 19978 missing from current font.\n",
      "  font.set_text(s, 0.0, flags=flags)\n",
      "/home/wck/.local/lib/python3.6/site-packages/matplotlib/backends/backend_agg.py:211: RuntimeWarning: Glyph 28023 missing from current font.\n",
      "  font.set_text(s, 0.0, flags=flags)\n",
      "/home/wck/.local/lib/python3.6/site-packages/matplotlib/backends/backend_agg.py:180: RuntimeWarning: Glyph 19978 missing from current font.\n",
      "  font.set_text(s, 0, flags=flags)\n",
      "/home/wck/.local/lib/python3.6/site-packages/matplotlib/backends/backend_agg.py:180: RuntimeWarning: Glyph 28023 missing from current font.\n",
      "  font.set_text(s, 0, flags=flags)\n",
      "/home/wck/.local/lib/python3.6/site-packages/matplotlib/backends/backend_agg.py:211: RuntimeWarning: Glyph 37325 missing from current font.\n",
      "  font.set_text(s, 0.0, flags=flags)\n",
      "/home/wck/.local/lib/python3.6/site-packages/matplotlib/backends/backend_agg.py:211: RuntimeWarning: Glyph 24198 missing from current font.\n",
      "  font.set_text(s, 0.0, flags=flags)\n",
      "/home/wck/.local/lib/python3.6/site-packages/matplotlib/backends/backend_agg.py:180: RuntimeWarning: Glyph 37325 missing from current font.\n",
      "  font.set_text(s, 0, flags=flags)\n",
      "/home/wck/.local/lib/python3.6/site-packages/matplotlib/backends/backend_agg.py:180: RuntimeWarning: Glyph 24198 missing from current font.\n",
      "  font.set_text(s, 0, flags=flags)\n",
      "/home/wck/.local/lib/python3.6/site-packages/matplotlib/backends/backend_agg.py:211: RuntimeWarning: Glyph 22825 missing from current font.\n",
      "  font.set_text(s, 0.0, flags=flags)\n",
      "/home/wck/.local/lib/python3.6/site-packages/matplotlib/backends/backend_agg.py:211: RuntimeWarning: Glyph 27941 missing from current font.\n",
      "  font.set_text(s, 0.0, flags=flags)\n",
      "/home/wck/.local/lib/python3.6/site-packages/matplotlib/backends/backend_agg.py:180: RuntimeWarning: Glyph 22825 missing from current font.\n",
      "  font.set_text(s, 0, flags=flags)\n",
      "/home/wck/.local/lib/python3.6/site-packages/matplotlib/backends/backend_agg.py:180: RuntimeWarning: Glyph 27941 missing from current font.\n",
      "  font.set_text(s, 0, flags=flags)\n",
      "/home/wck/.local/lib/python3.6/site-packages/matplotlib/backends/backend_agg.py:211: RuntimeWarning: Glyph 21628 missing from current font.\n",
      "  font.set_text(s, 0.0, flags=flags)\n",
      "/home/wck/.local/lib/python3.6/site-packages/matplotlib/backends/backend_agg.py:211: RuntimeWarning: Glyph 21644 missing from current font.\n",
      "  font.set_text(s, 0.0, flags=flags)\n",
      "/home/wck/.local/lib/python3.6/site-packages/matplotlib/backends/backend_agg.py:211: RuntimeWarning: Glyph 28009 missing from current font.\n",
      "  font.set_text(s, 0.0, flags=flags)\n",
      "/home/wck/.local/lib/python3.6/site-packages/matplotlib/backends/backend_agg.py:211: RuntimeWarning: Glyph 29305 missing from current font.\n",
      "  font.set_text(s, 0.0, flags=flags)\n",
      "/home/wck/.local/lib/python3.6/site-packages/matplotlib/backends/backend_agg.py:180: RuntimeWarning: Glyph 21628 missing from current font.\n",
      "  font.set_text(s, 0, flags=flags)\n",
      "/home/wck/.local/lib/python3.6/site-packages/matplotlib/backends/backend_agg.py:180: RuntimeWarning: Glyph 21644 missing from current font.\n",
      "  font.set_text(s, 0, flags=flags)\n",
      "/home/wck/.local/lib/python3.6/site-packages/matplotlib/backends/backend_agg.py:180: RuntimeWarning: Glyph 28009 missing from current font.\n",
      "  font.set_text(s, 0, flags=flags)\n",
      "/home/wck/.local/lib/python3.6/site-packages/matplotlib/backends/backend_agg.py:180: RuntimeWarning: Glyph 29305 missing from current font.\n",
      "  font.set_text(s, 0, flags=flags)\n",
      "/home/wck/.local/lib/python3.6/site-packages/matplotlib/backends/backend_agg.py:211: RuntimeWarning: Glyph 38134 missing from current font.\n",
      "  font.set_text(s, 0.0, flags=flags)\n",
      "/home/wck/.local/lib/python3.6/site-packages/matplotlib/backends/backend_agg.py:211: RuntimeWarning: Glyph 24029 missing from current font.\n",
      "  font.set_text(s, 0.0, flags=flags)\n",
      "/home/wck/.local/lib/python3.6/site-packages/matplotlib/backends/backend_agg.py:180: RuntimeWarning: Glyph 38134 missing from current font.\n",
      "  font.set_text(s, 0, flags=flags)\n",
      "/home/wck/.local/lib/python3.6/site-packages/matplotlib/backends/backend_agg.py:180: RuntimeWarning: Glyph 24029 missing from current font.\n",
      "  font.set_text(s, 0, flags=flags)\n",
      "/home/wck/.local/lib/python3.6/site-packages/matplotlib/backends/backend_agg.py:211: RuntimeWarning: Glyph 20044 missing from current font.\n",
      "  font.set_text(s, 0.0, flags=flags)\n",
      "/home/wck/.local/lib/python3.6/site-packages/matplotlib/backends/backend_agg.py:211: RuntimeWarning: Glyph 40065 missing from current font.\n",
      "  font.set_text(s, 0.0, flags=flags)\n",
      "/home/wck/.local/lib/python3.6/site-packages/matplotlib/backends/backend_agg.py:211: RuntimeWarning: Glyph 26408 missing from current font.\n",
      "  font.set_text(s, 0.0, flags=flags)\n",
      "/home/wck/.local/lib/python3.6/site-packages/matplotlib/backends/backend_agg.py:211: RuntimeWarning: Glyph 40784 missing from current font.\n",
      "  font.set_text(s, 0.0, flags=flags)\n",
      "/home/wck/.local/lib/python3.6/site-packages/matplotlib/backends/backend_agg.py:180: RuntimeWarning: Glyph 20044 missing from current font.\n",
      "  font.set_text(s, 0, flags=flags)\n",
      "/home/wck/.local/lib/python3.6/site-packages/matplotlib/backends/backend_agg.py:180: RuntimeWarning: Glyph 40065 missing from current font.\n",
      "  font.set_text(s, 0, flags=flags)\n",
      "/home/wck/.local/lib/python3.6/site-packages/matplotlib/backends/backend_agg.py:180: RuntimeWarning: Glyph 26408 missing from current font.\n",
      "  font.set_text(s, 0, flags=flags)\n",
      "/home/wck/.local/lib/python3.6/site-packages/matplotlib/backends/backend_agg.py:180: RuntimeWarning: Glyph 40784 missing from current font.\n",
      "  font.set_text(s, 0, flags=flags)\n",
      "/home/wck/.local/lib/python3.6/site-packages/matplotlib/backends/backend_agg.py:211: RuntimeWarning: Glyph 39321 missing from current font.\n",
      "  font.set_text(s, 0.0, flags=flags)\n",
      "/home/wck/.local/lib/python3.6/site-packages/matplotlib/backends/backend_agg.py:211: RuntimeWarning: Glyph 28207 missing from current font.\n",
      "  font.set_text(s, 0.0, flags=flags)\n",
      "/home/wck/.local/lib/python3.6/site-packages/matplotlib/backends/backend_agg.py:180: RuntimeWarning: Glyph 39321 missing from current font.\n",
      "  font.set_text(s, 0, flags=flags)\n",
      "/home/wck/.local/lib/python3.6/site-packages/matplotlib/backends/backend_agg.py:180: RuntimeWarning: Glyph 28207 missing from current font.\n",
      "  font.set_text(s, 0, flags=flags)\n",
      "/home/wck/.local/lib/python3.6/site-packages/matplotlib/backends/backend_agg.py:211: RuntimeWarning: Glyph 28595 missing from current font.\n",
      "  font.set_text(s, 0.0, flags=flags)\n",
      "/home/wck/.local/lib/python3.6/site-packages/matplotlib/backends/backend_agg.py:211: RuntimeWarning: Glyph 38376 missing from current font.\n",
      "  font.set_text(s, 0.0, flags=flags)\n",
      "/home/wck/.local/lib/python3.6/site-packages/matplotlib/backends/backend_agg.py:180: RuntimeWarning: Glyph 28595 missing from current font.\n",
      "  font.set_text(s, 0, flags=flags)\n",
      "/home/wck/.local/lib/python3.6/site-packages/matplotlib/backends/backend_agg.py:180: RuntimeWarning: Glyph 38376 missing from current font.\n",
      "  font.set_text(s, 0, flags=flags)\n"
     ]
    },
    {
     "data": {
      "image/png": "[encoded data removed]",
      "text/plain": [
       "<Figure size 432x288 with 1 Axes>"
      ]
     },
     "metadata": {},
     "output_type": "display_data"
    }
   ],
   "source": [
    "nx.draw(city_graph, city_location, with_labels=True, node_size=10)"
   ]
  },
  {
   "cell_type": "code",
   "execution_count": 19,
   "metadata": {},
   "outputs": [],
   "source": [
    "threshold = 300"
   ]
  },
  {
   "cell_type": "code",
   "execution_count": 20,
   "metadata": {},
   "outputs": [],
   "source": [
    "from collections import defaultdict "
   ]
  },
  {
   "cell_type": "code",
   "execution_count": 21,
   "metadata": {},
   "outputs": [],
   "source": [
    "cities_connection = defaultdict(list)   #给cities_connection中新出现的key默认赋一个空列表，这样在不初始化的时候就可以直接用，而不会出现keyError"
   ]
  },
  {
   "cell_type": "code",
   "execution_count": 22,
   "metadata": {},
   "outputs": [],
   "source": [
    "for c1 in cities:\n",
    "    for c2 in cities:\n",
    "        if c1==c2: continue\n",
    "        \n",
    "        if get_city_distance(c1, c2) < threshold:\n",
    "            cities_connection[c1].append(c2)"
   ]
  },
  {
   "cell_type": "code",
   "execution_count": 23,
   "metadata": {},
   "outputs": [
    {
     "data": {
      "text/plain": [
       "['西宁', '成都', '银川']"
      ]
     },
     "execution_count": 23,
     "metadata": {},
     "output_type": "execute_result"
    }
   ],
   "source": [
    "cities_connection['兰州']"
   ]
  },
  {
   "cell_type": "code",
   "execution_count": 24,
   "metadata": {},
   "outputs": [
    {
     "name": "stdout",
     "output_type": "stream",
     "text": [
      "key:兰州,value:['西宁', '成都', '银川']\n",
      "key:西宁,value:['兰州', '成都', '拉萨']\n",
      "key:成都,value:['兰州', '西宁', '拉萨', '重庆']\n",
      "key:石家庄,value:['郑州', '济南', '太原', '北京']\n",
      "key:拉萨,value:['西宁', '成都']\n",
      "key:贵阳,value:['重庆', '南宁']\n",
      "key:武汉,value:['郑州', '南昌', '长沙']\n",
      "key:郑州,value:['石家庄', '武汉', '长沙', '太原']\n",
      "key:济南,value:['石家庄', '合肥', '北京', '天津']\n",
      "key:南京,value:['合肥', '杭州']\n",
      "key:合肥,value:['济南', '南京', '南昌']\n",
      "key:杭州,value:['南京', '福州', '上海']\n",
      "key:南昌,value:['武汉', '合肥']\n",
      "key:福州,value:['杭州']\n",
      "key:广州,value:['长沙', '香港', '澳门']\n",
      "key:长沙,value:['武汉', '郑州', '广州', '香港', '澳门']\n",
      "key:沈阳,value:['长春']\n",
      "key:长春,value:['沈阳', '哈尔滨']\n",
      "key:哈尔滨,value:['长春']\n",
      "key:太原,value:['石家庄', '郑州', '呼和浩特']\n",
      "key:北京,value:['石家庄', '济南', '天津']\n",
      "key:上海,value:['杭州']\n",
      "key:重庆,value:['成都', '贵阳', '银川']\n",
      "key:天津,value:['济南', '北京']\n",
      "key:呼和浩特,value:['太原']\n",
      "key:南宁,value:['贵阳']\n",
      "key:银川,value:['兰州', '重庆']\n",
      "key:香港,value:['广州', '长沙', '澳门']\n",
      "key:澳门,value:['广州', '长沙', '香港']\n"
     ]
    }
   ],
   "source": [
    "for key, value in cities_connection.items():\n",
    "    print(\"key:{},value:{}\".format(key, value))"
   ]
  },
  {
   "cell_type": "code",
   "execution_count": 25,
   "metadata": {},
   "outputs": [
    {
     "name": "stderr",
     "output_type": "stream",
     "text": [
      "/home/wck/.local/lib/python3.6/site-packages/networkx/drawing/nx_pylab.py:579: MatplotlibDeprecationWarning: \n",
      "The iterable function was deprecated in Matplotlib 3.1 and will be removed in 3.3. Use np.iterable instead.\n",
      "  if not cb.iterable(width):\n"
     ]
    },
    {
     "data": {
      "image/png": "[encoded data removed]",
      "text/plain": [
       "<Figure size 432x288 with 1 Axes>"
      ]
     },
     "metadata": {},
     "output_type": "display_data"
    }
   ],
   "source": [
    "cities_connection_graph = nx.Graph(cities_connection)\n",
    "nx.draw(cities_connection_graph, city_location, with_labels=True, node_size=10)"
   ]
  },
  {
   "cell_type": "code",
   "execution_count": 26,
   "metadata": {},
   "outputs": [],
   "source": [
    "def is_goal(desitination):    #判断是否到达目的地\n",
    "    def _warp(current_path):\n",
    "        return current_path[-1] == desitination\n",
    "    return _warp"
   ]
  },
  {
   "cell_type": "code",
   "execution_count": 27,
   "metadata": {},
   "outputs": [],
   "source": [
    "def search(graph, start, is_goal, search_strategy):\n",
    "    pathes = [[start]]\n",
    "    seen = set()\n",
    "    while pathes:\n",
    "        path = pathes.pop(0)\n",
    "        frontier = path[-1] #取出最后一个元素，因为只有最后一个元素需要检查\n",
    "        \n",
    "        if frontier in seen: continue\n",
    "        \n",
    "        successor = graph[frontier]\n",
    "        \n",
    "        for city in successor:\n",
    "            if city in path: continue\n",
    "                \n",
    "            new_path = path+[city]\n",
    "            \n",
    "            pathes.append(new_path)\n",
    "            \n",
    "            if is_goal(new_path):return new_path    #这里由一个问题就是一旦选择了一条路，那么另外的可能性的路就不探索了，使得策略search_search失效，因为只有一条路\n",
    "        seen.add(frontier)\n",
    "        pathes = search_strategy(pathes)"
   ]
  },
  {
   "cell_type": "code",
   "execution_count": 28,
   "metadata": {},
   "outputs": [],
   "source": [
    "search(cities_connection, start='西安', is_goal=is_goal('上海'), search_strategy=lambda n: n)"
   ]
  },
  {
   "cell_type": "markdown",
   "metadata": {},
   "source": [
    "修正程序，找到所有路径，然后才好用search_strategy"
   ]
  },
  {
   "cell_type": "code",
   "execution_count": 29,
   "metadata": {},
   "outputs": [],
   "source": [
    "\n",
    "def search(graph, start, is_goal, search_strategy):\n",
    "    pathes = [[start]]\n",
    "    seen = set()\n",
    "    final_pathes = []\n",
    "    while pathes:\n",
    "        path = pathes.pop(0)\n",
    "        frontier = path[-1]   #取出最后一个元素，因为只有最后一个元素需要检查\n",
    "        \n",
    "        if frontier in seen: continue\n",
    "        \n",
    "        successor = graph[frontier]\n",
    "        \n",
    "        for city in successor:\n",
    "            if city in path: continue\n",
    "                \n",
    "            new_path = path+[city]\n",
    "            \n",
    "            pathes.append(new_path)\n",
    "            \n",
    "            if is_goal(new_path):\n",
    "                final_pathes.append(new_path)\n",
    "                #break\n",
    "                continue\n",
    "        seen.add(frontier)\n",
    "        #pathes = search_strategy(pathes)\n",
    "    return final_pathes"
   ]
  },
  {
   "cell_type": "code",
   "execution_count": 30,
   "metadata": {},
   "outputs": [
    {
     "data": {
      "text/plain": [
       "[['北京', '济南'], ['北京', '石家庄', '济南'], ['北京', '天津', '济南']]"
      ]
     },
     "execution_count": 30,
     "metadata": {},
     "output_type": "execute_result"
    }
   ],
   "source": [
    "search(cities_connection, start='北京', is_goal=is_goal('济南'), search_strategy=lambda n: n)"
   ]
  },
  {
   "cell_type": "code",
   "execution_count": 65,
   "metadata": {},
   "outputs": [],
   "source": [
    "test_graph = {\"a\":[\"b\", \"e\",\"c\"],\"b\":[\"a\",\"d\",\"f\",\"c\"], \"e\":[\"a\",\"c\"],\"c\":[\"b\",\"a\",\"e\",\"d\",\"f\"],\"d\":[\"b\", \"c\"],\"f\":[\"b\",\"c\"]}"
   ]
  },
  {
   "cell_type": "code",
   "execution_count": 66,
   "metadata": {},
   "outputs": [
    {
     "data": {
      "text/plain": [
       "{'a': ['b', 'e', 'c'],\n",
       " 'b': ['a', 'd', 'f', 'c'],\n",
       " 'e': ['a', 'c'],\n",
       " 'c': ['b', 'a', 'e', 'd', 'f'],\n",
       " 'd': ['b', 'c'],\n",
       " 'f': ['b', 'c']}"
      ]
     },
     "execution_count": 66,
     "metadata": {},
     "output_type": "execute_result"
    }
   ],
   "source": [
    "test_graph"
   ]
  },
  {
   "cell_type": "code",
   "execution_count": 43,
   "metadata": {},
   "outputs": [
    {
     "data": {
      "text/plain": [
       "[['a', 'b', 'f'], ['a', 'c', 'f']]"
      ]
     },
     "execution_count": 43,
     "metadata": {},
     "output_type": "execute_result"
    }
   ],
   "source": [
    "search(test_graph, start='a', is_goal=is_goal('f'), search_strategy=lambda n: n)"
   ]
  },
  {
   "cell_type": "markdown",
   "metadata": {},
   "source": [
    "## 自己写的算法，最小边树，也就是最小换乘路线"
   ]
  },
  {
   "cell_type": "code",
   "execution_count": 46,
   "metadata": {},
   "outputs": [
    {
     "data": {
      "text/plain": [
       "{3}"
      ]
     },
     "execution_count": 46,
     "metadata": {},
     "output_type": "execute_result"
    }
   ],
   "source": [
    "a = set()\n",
    "a.add(3)\n",
    "a"
   ]
  },
  {
   "cell_type": "code",
   "execution_count": 63,
   "metadata": {},
   "outputs": [],
   "source": []
  },
  {
   "cell_type": "code",
   "execution_count": 78,
   "metadata": {},
   "outputs": [],
   "source": [
    "#my method\n",
    "\n",
    "def my_search(graph, start, destination):\n",
    "    seen = set()\n",
    "    seen.add(start)    #将第一个点标记为已经看到\n",
    "    l = {}   #是距离start点最少边数\n",
    "    l[start] = 0\n",
    "    \n",
    "    queue = [start]   #队列\n",
    "    while queue:\n",
    "        v = queue.pop(0)\n",
    "        for v_station in graph[v]:\n",
    "            if v_station not in seen:\n",
    "                seen.add(v_station)\n",
    "                l[v_station] = l[v] + 1\n",
    "                queue.append(v_station)\n",
    "                if v_station == destination:\n",
    "                    return l\n",
    "    \n",
    "    return \"destination is not in graph!\" #说明destination不在图中"
   ]
  },
  {
   "cell_type": "code",
   "execution_count": 79,
   "metadata": {},
   "outputs": [
    {
     "data": {
      "text/plain": [
       "'destination is not in graph!'"
      ]
     },
     "execution_count": 79,
     "metadata": {},
     "output_type": "execute_result"
    }
   ],
   "source": [
    "number_l = my_search(test_graph, start='a',destination=\"g\")\n",
    "number_l"
   ]
  },
  {
   "cell_type": "code",
   "execution_count": 87,
   "metadata": {},
   "outputs": [
    {
     "data": {
      "text/plain": [
       "{'a': 0, 'b': 1, 'e': 1, 'c': 1, 'd': 2, 'f': 2}"
      ]
     },
     "execution_count": 87,
     "metadata": {},
     "output_type": "execute_result"
    }
   ],
   "source": [
    "number_l = my_search(test_graph, start='a',destination=\"f\")\n",
    "number_l"
   ]
  },
  {
   "cell_type": "code",
   "execution_count": 109,
   "metadata": {},
   "outputs": [],
   "source": [
    "def find_path(destination, start, graph, l):\n",
    "    queue = [[destination]]    #这点技巧是为了加入所有最短路径\n",
    "    best_path = []\n",
    "    \n",
    "    while queue:\n",
    "        v = queue.pop(0)\n",
    "        path = v[-1]\n",
    "        for station in graph[path]:\n",
    "            if l[station] == (l[path]-1):\n",
    "                new_path = v + [station]\n",
    "                queue.append(new_path)\n",
    "                if l[station] == 0:\n",
    "                    best_path.append(new_path)\n",
    "                    \n",
    "    solution_path = []\n",
    "    for path in best_path:\n",
    "        rev_path = []\n",
    "        for station in reversed(path):\n",
    "            rev_path.append(station)\n",
    "        solution_path.append(rev_path)\n",
    "    \n",
    "    return solution_path     \n",
    "         "
   ]
  },
  {
   "cell_type": "code",
   "execution_count": 108,
   "metadata": {},
   "outputs": [
    {
     "data": {
      "text/plain": [
       "[]"
      ]
     },
     "execution_count": 108,
     "metadata": {},
     "output_type": "execute_result"
    }
   ],
   "source": [
    "find_path(\"f\",\"a\",test_graph, number_l)"
   ]
  },
  {
   "cell_type": "code",
   "execution_count": 102,
   "metadata": {},
   "outputs": [
    {
     "data": {
      "text/plain": [
       "{'a': ['b', 'c'],\n",
       " 'b': ['a', 'd', 'e'],\n",
       " 'c': ['a', 'e'],\n",
       " 'd': ['b', 'f'],\n",
       " 'e': ['b', 'c', 'f'],\n",
       " 'f': ['d', 'e']}"
      ]
     },
     "execution_count": 102,
     "metadata": {},
     "output_type": "execute_result"
    }
   ],
   "source": [
    "test = {\"a\":[\"b\",'c'],\"b\":['a','d','e'],'c':['a','e'],'d':['b','f'],'e':['b','c','f'],'f':['d','e']}\n",
    "test"
   ]
  },
  {
   "cell_type": "code",
   "execution_count": 105,
   "metadata": {},
   "outputs": [
    {
     "data": {
      "text/plain": [
       "{'a': 0, 'b': 1, 'c': 1, 'd': 2, 'e': 2, 'f': 3}"
      ]
     },
     "execution_count": 105,
     "metadata": {},
     "output_type": "execute_result"
    }
   ],
   "source": [
    "number_l = my_search(test, start='a',destination=\"f\")\n",
    "number_l"
   ]
  },
  {
   "cell_type": "code",
   "execution_count": 110,
   "metadata": {},
   "outputs": [
    {
     "data": {
      "text/plain": [
       "[['a', 'b', 'd', 'f'], ['a', 'b', 'e', 'f'], ['a', 'c', 'e', 'f']]"
      ]
     },
     "execution_count": 110,
     "metadata": {},
     "output_type": "execute_result"
    }
   ],
   "source": [
    "find_path(\"f\",\"a\",test, number_l)"
   ]
  },
  {
   "cell_type": "code",
   "execution_count": 31,
   "metadata": {},
   "outputs": [],
   "source": [
    "def search(graph, start, is_goal, search_strategy):\n",
    "    pathes = [[start]]\n",
    "    seen = set()\n",
    "    final_pathes = []\n",
    "    while pathes:\n",
    "        path = pathes.pop(0)\n",
    "        frontier = path[-1]   #取出最后一个元素，因为只有最后一个元素需要检查\n",
    "        \n",
    "        if frontier in seen: continue\n",
    "        \n",
    "        successor = graph[frontier]\n",
    "        \n",
    "        for city in successor:\n",
    "            if city in path: continue\n",
    "                \n",
    "            new_path = path+[city]\n",
    "            \n",
    "            pathes.append(new_path)\n",
    "            \n",
    "            if is_goal(new_path):\n",
    "                final_pathes.append(new_path)\n",
    "                #break\n",
    "                continue\n",
    "        seen.add(frontier)\n",
    "        #pathes = search_strategy(pathes)   #如果在这里排序就是局部最优，每一步取最近的距离，就是贪心算法，不一定是最优的\n",
    "    return search_strategy(final_pathes)"
   ]
  },
  {
   "cell_type": "code",
   "execution_count": 32,
   "metadata": {},
   "outputs": [
    {
     "data": {
      "text/plain": [
       "[['北京', '济南'], ['北京', '石家庄', '济南'], ['北京', '天津', '济南']]"
      ]
     },
     "execution_count": 32,
     "metadata": {},
     "output_type": "execute_result"
    }
   ],
   "source": [
    "search(cities_connection, start='北京', is_goal=is_goal('济南'), search_strategy=lambda n: n)"
   ]
  },
  {
   "cell_type": "markdown",
   "metadata": {},
   "source": [
    "添加策略，一个是最短换乘，一个是最短路径"
   ]
  },
  {
   "cell_type": "code",
   "execution_count": 53,
   "metadata": {},
   "outputs": [],
   "source": [
    "def transfer_shortest_station(pathes): \n",
    "    pathes_sorted = sorted(pathes, key=len)\n",
    "    print(pathes_sorted)\n",
    "    return pathes_sorted[0]"
   ]
  },
  {
   "cell_type": "code",
   "execution_count": 54,
   "metadata": {},
   "outputs": [
    {
     "name": "stdout",
     "output_type": "stream",
     "text": [
      "[['北京', '济南'], ['北京', '石家庄', '济南'], ['北京', '天津', '济南']]\n"
     ]
    },
    {
     "data": {
      "text/plain": [
       "['北京', '济南']"
      ]
     },
     "execution_count": 54,
     "metadata": {},
     "output_type": "execute_result"
    }
   ],
   "source": [
    "search(cities_connection, start='北京', is_goal=is_goal('济南'), search_strategy=transfer_shortest_station)"
   ]
  },
  {
   "cell_type": "code",
   "execution_count": 55,
   "metadata": {},
   "outputs": [],
   "source": [
    "def distance_shortest_station(pathes):\n",
    "    print(pathes)\n",
    "    path_distace = [0 for i in range(len(pathes))]\n",
    "    for index,path in enumerate(pathes):\n",
    "        previous_city = path[0]\n",
    "        for city in path:\n",
    "            path_distace[index] += get_city_distance(previous_city,city)\n",
    "            previous_city = city\n",
    "    #参考他人，更简洁的做法是\n",
    "       # for i in range(1,len(path)):\n",
    "       #\n",
    "    path_distace[index] += get_city_distance(path[i-1],path[i])\n",
    "            \n",
    "    best_path_index = sorted(enumerate(path_distace), key=lambda x:x[1])[0][0]    #将所有的路径找出来，然后再计算所有路径的距离，再排序，这么做就是全局最有\n",
    "    return pathes[best_path_index]\n",
    "        "
   ]
  },
  {
   "cell_type": "code",
   "execution_count": 59,
   "metadata": {},
   "outputs": [
    {
     "name": "stdout",
     "output_type": "stream",
     "text": [
      "[['北京', '济南'], ['北京', '石家庄', '济南'], ['北京', '天津', '济南']]\n"
     ]
    },
    {
     "data": {
      "text/plain": [
       "['北京', '济南']"
      ]
     },
     "execution_count": 59,
     "metadata": {},
     "output_type": "execute_result"
    }
   ],
   "source": [
    "search(cities_connection, start='北京', is_goal=is_goal('济南'), search_strategy=distance_shortest_station)"
   ]
  },
  {
   "cell_type": "code",
   "execution_count": 57,
   "metadata": {},
   "outputs": [
    {
     "name": "stdout",
     "output_type": "stream",
     "text": [
      "0 ['北京', '济南']\n",
      "1 ['北京', '石家庄', '济南']\n",
      "2 ['北京', '天津', '济南']\n"
     ]
    }
   ],
   "source": [
    "a = [['北京', '济南'], ['北京', '石家庄', '济南'], ['北京', '天津', '济南']]\n",
    "for i,j in enumerate(a):\n",
    "    print(i,j)"
   ]
  },
  {
   "cell_type": "code",
   "execution_count": 58,
   "metadata": {},
   "outputs": [
    {
     "data": {
      "text/plain": [
       "153.5185697155768"
      ]
     },
     "execution_count": 58,
     "metadata": {},
     "output_type": "execute_result"
    }
   ],
   "source": [
    "get_city_distance(\"上海\",\"杭州\")"
   ]
  },
  {
   "cell_type": "code",
   "execution_count": 39,
   "metadata": {},
   "outputs": [],
   "source": [
    "def dfs(graph, start):\n",
    "    \"\"\"\n",
    "    deapth first search\n",
    "    \"\"\"\n",
    "    visit = [start]\n",
    "    seen = set()\n",
    "    \n",
    "    while visit:\n",
    "        frontier = visit.pop()   #取出visit.pop(-1)\n",
    "        \n",
    "        if frontier in seen: continue\n",
    "            \n",
    "        for successor in graph[frontier]:\n",
    "            print(successor)\n",
    "            if successor in seen: continue\n",
    "                \n",
    "            visit.append(successor)\n",
    "            \n",
    "        seen.add(frontier)\n",
    "        \n",
    "    return"
   ]
  },
  {
   "cell_type": "code",
   "execution_count": null,
   "metadata": {},
   "outputs": [],
   "source": []
  },
  {
   "cell_type": "code",
   "execution_count": 40,
   "metadata": {},
   "outputs": [],
   "source": [
    "#dfs(cities_connection, \"西安\")"
   ]
  },
  {
   "cell_type": "code",
   "execution_count": 41,
   "metadata": {},
   "outputs": [],
   "source": [
    "def dfs(graph, start):\n",
    "    \"\"\"\n",
    "    breadth first search\n",
    "    \"\"\"\n",
    "    visit = [start]\n",
    "    seen = ()\n",
    "    \n",
    "    while visit:\n",
    "        frontier = visit.pop(0)\n",
    "        if frontier in seen: continue\n",
    "            \n",
    "        for successor in graph[frontier]:\n",
    "            if successor in seen:\n",
    "                continue\n",
    "            visit.append(successor)\n",
    "            \n",
    "        seen.add(frontier)\n",
    "        \n",
    "    return\n"
   ]
  },
  {
   "cell_type": "markdown",
   "metadata": {},
   "source": [
    "网络爬虫"
   ]
  },
  {
   "cell_type": "code",
   "execution_count": 2,
   "metadata": {},
   "outputs": [],
   "source": [
    "import requests"
   ]
  },
  {
   "cell_type": "code",
   "execution_count": 3,
   "metadata": {},
   "outputs": [],
   "source": [
    "url = \"https://movie.douban.com/subject/27060077/?tag=%E7%83%AD%E9%97%A8&from=gaia_video\""
   ]
  },
  {
   "cell_type": "code",
   "execution_count": 5,
   "metadata": {},
   "outputs": [
    {
     "data": {
      "text/plain": [
       "<Response [200]>"
      ]
     },
     "execution_count": 5,
     "metadata": {},
     "output_type": "execute_result"
    }
   ],
   "source": [
    "requests.get(url)"
   ]
  },
  {
   "cell_type": "markdown",
   "metadata": {},
   "source": [
    "当上条语句结果是<Response [200]>，说明网络是通的"
   ]
  },
  {
   "cell_type": "code",
   "execution_count": 6,
   "metadata": {},
   "outputs": [],
   "source": [
    "response = requests.get(url)"
   ]
  },
  {
   "cell_type": "code",
   "execution_count": 7,
   "metadata": {},
   "outputs": [
    {
     "data": {
      "text/plain": [
       "'<!DOCTYPE html>\\n<html lang=\"zh-cmn-Hans\" class=\"\">\\n<head>\\n    <meta http-equiv=\"Content-Type\" content=\"text/html; charset=utf-8\">\\n    <meta name=\"renderer\" content=\"webkit\">\\n    <meta name=\"referrer\" content=\"always\">\\n    <meta name=\"google-site-verification\" content=\"ok0wCgT20tBBgo9_zat2iAcimtN4Ftf5ccsh092Xeyw\" />\\n    <title>\\n        绿皮书 (豆瓣)\\n</title>\\n    \\n    <meta name=\"baidu-site-verification\" content=\"cZdR4xxR7RxmM4zE\" />\\n    <meta http-equiv=\"Pragma\" content=\"no-cache\">\\n    <meta http-equiv=\"Expires\" content=\"Sun, 6 Mar 2005 01:00:00 GMT\">\\n    \\n    <link rel=\"apple-touch-icon\" href=\"https://img3.doubanio.com/f/movie/d59b2715fdea4968a450ee5f6c95c7d7a2030065/pics/movie/apple-touch-icon.png\">\\n    <link href=\"https://img3.doubanio.com/f/shire/52c9997d6d42db58eab418e976a14d5f3eff981e/css/douban.css\" rel=\"stylesheet\" type=\"text/css\">\\n    <link href=\"https://img3.doubanio.com/f/shire/ae3f5a3e3085968370b1fc63afcecb22d3284848/css/separation/_all.css\" rel=\"stylesheet\" type=\"text/css\">\\n    <link href=\"https://img3.doubanio.com/f/movie/8864d3756094f5272d3c93e30ee2e324665855b0/css/movie/base/init.css\" rel=\"stylesheet\">\\n    <script type=\"text/javascript\">var _head_start = new Date();</script>\\n    <script type=\"text/javascript\" src=\"https://img3.doubanio.com/f/movie/0495cb173e298c28593766009c7b0a953246c5b5/js/movie/lib/jquery.js\"></script>\\n    <script type=\"text/javascript\" src=\"https://img3.doubanio.com/f/shire/1316664523258f7b8b536e4ce45afc9cb37b8963/js/douban.js\"></script>\\n    <script type=\"text/javascript\" src=\"https://img3.doubanio.com/f/shire/0efdc63b77f895eaf85281fb0e44d435c6239a3f/js/separation/_all.js\"></script>\\n    \\n    <meta name=\"keywords\" content=\"绿皮书,Green Book,绿皮书影评,剧情介绍,电影图片,预告片,影讯,在线购票,论坛\">\\n    <meta name=\"description\" content=\"绿皮书电影简介和剧情介绍,绿皮书影评、图片、预告片、影讯、论坛、在线购票\">\\n    <meta name=\"mobile-agent\" content=\"format=html5; url=http://m.douban.com/movie/subject/27060077/\"/>\\n    <link rel=\"alternate\" href=\"android-app://com.douban.movie/doubanmovie/subject/27060077/\" />\\n    <link rel=\"stylesheet\" href=\"https://img3.doubanio.com/dae/cdnlib/libs/LikeButton/1.0.5/style.min.css\">\\n    <script type=\"text/javascript\" src=\"https://img3.doubanio.com/f/shire/77323ae72a612bba8b65f845491513ff3329b1bb/js/do.js\" data-cfg-autoload=\"false\"></script>\\n    <script type=\"text/javascript\">\\n      Do.add(\\'dialog\\', {path: \\'https://img3.doubanio.com/f/shire/383a6e43f2108dc69e3ff2681bc4dc6c72a5ffb0/js/ui/dialog.js\\', type: \\'js\\'});\\n      Do.add(\\'dialog-css\\', {path: \\'https://img3.doubanio.com/f/shire/8377b9498330a2e6f056d863987cc7a37eb4d486/css/ui/dialog.css\\', type: \\'css\\'});\\n      Do.add(\\'handlebarsjs\\', {path: \\'https://img3.doubanio.com/f/movie/3d4f8e4a8918718256450eb6e57ec8e1f7a2e14b/js/movie/lib/handlebars.current.js\\', type: \\'js\\'});\\n    </script>\\n    \\n  <script type=\\'text/javascript\\'>\\n  var _vwo_code = (function() {\\n    var account_id = 249272,\\n      settings_tolerance = 0,\\n      library_tolerance = 2500,\\n      use_existing_jquery = false,\\n      // DO NOT EDIT BELOW THIS LINE\\n      f=false,d=document;return{use_existing_jquery:function(){return use_existing_jquery;},library_tolerance:function(){return library_tolerance;},finish:function(){if(!f){f=true;var a=d.getElementById(\\'_vis_opt_path_hides\\');if(a)a.parentNode.removeChild(a);}},finished:function(){return f;},load:function(a){var b=d.createElement(\\'script\\');b.src=a;b.type=\\'text/javascript\\';b.innerText;b.onerror=function(){_vwo_code.finish();};d.getElementsByTagName(\\'head\\')[0].appendChild(b);},init:function(){settings_timer=setTimeout(\\'_vwo_code.finish()\\',settings_tolerance);var a=d.createElement(\\'style\\'),b=\\'body{opacity:0 !important;filter:alpha(opacity=0) !important;background:none !important;}\\',h=d.getElementsByTagName(\\'head\\')[0];a.setAttribute(\\'id\\',\\'_vis_opt_path_hides\\');a.setAttribute(\\'type\\',\\'text/css\\');if(a.styleSheet)a.styleSheet.cssText=b;else a.appendChild(d.createTextNode(b));h.appendChild(a);this.load(\\'//dev.visualwebsiteoptimizer.com/j.php?a=\\'+account_id+\\'&u=\\'+encodeURIComponent(d.URL)+\\'&r=\\'+Math.random());return settings_timer;}};}());\\n\\n  +function () {\\n    var bindEvent = function (el, type, handler) {\\n        var $ = window.jQuery || window.Zepto || window.$\\n       if ($ && $.fn && $.fn.on) {\\n           $(el).on(type, handler)\\n       } else if($ && $.fn && $.fn.bind) {\\n           $(el).bind(type, handler)\\n       } else if (el.addEventListener){\\n         el.addEventListener(type, handler, false);\\n       } else if (el.attachEvent){\\n         el.attachEvent(\"on\" + type, handler);\\n       } else {\\n         el[\"on\" + type] = handler;\\n       }\\n     }\\n\\n    var _origin_load = _vwo_code.load\\n    _vwo_code.load = function () {\\n      var args = [].slice.call(arguments)\\n      bindEvent(window, \\'load\\', function () {\\n        _origin_load.apply(_vwo_code, args)\\n      })\\n    }\\n  }()\\n\\n  _vwo_settings_timer = _vwo_code.init();\\n  </script>\\n\\n\\n    \\n\\n\\n<script type=\"application/ld+json\">\\n{\\n  \"@context\": \"http://schema.org\",\\n  \"name\": \"绿皮书 Green Book\",\\n  \"url\": \"/subject/27060077/\",\\n  \"image\": \"https://img3.doubanio.com/view/photo/s_ratio_poster/public/p2549177902.jpg\",\\n  \"director\": \\n  [\\n    {\\n      \"@type\": \"Person\",\\n      \"url\": \"/celebrity/1036662/\",\\n      \"name\": \"彼得·法雷里 Peter Farrelly\"\\n    }\\n  ]\\n,\\n  \"author\": \\n  [\\n    {\\n      \"@type\": \"Person\",\\n      \"url\": \"/celebrity/1050517/\",\\n      \"name\": \"尼克·瓦莱隆加 Nick Vallelonga\"\\n    }\\n    ,\\n    {\\n      \"@type\": \"Person\",\\n      \"url\": \"/celebrity/1403831/\",\\n      \"name\": \"布莱恩·海耶斯·库瑞 Brian Hayes Currie\"\\n    }\\n    ,\\n    {\\n      \"@type\": \"Person\",\\n      \"url\": \"/celebrity/1036662/\",\\n      \"name\": \"彼得·法雷里 Peter Farrelly\"\\n    }\\n  ]\\n,\\n  \"actor\": \\n  [\\n    {\\n      \"@type\": \"Person\",\\n      \"url\": \"/celebrity/1054520/\",\\n      \"name\": \"维果·莫腾森 Viggo Mortensen\"\\n    }\\n    ,\\n    {\\n      \"@type\": \"Person\",\\n      \"url\": \"/celebrity/1004702/\",\\n      \"name\": \"马赫沙拉·阿里 Mahershala Ali\"\\n    }\\n    ,\\n    {\\n      \"@type\": \"Person\",\\n      \"url\": \"/celebrity/1010545/\",\\n      \"name\": \"琳达·卡德里尼 Linda Cardellini\"\\n    }\\n    ,\\n    {\\n      \"@type\": \"Person\",\\n      \"url\": \"/celebrity/1379169/\",\\n      \"name\": \"塞巴斯蒂安·马尼斯科 Sebastian Maniscalco\"\\n    }\\n    ,\\n    {\\n      \"@type\": \"Person\",\\n      \"url\": \"/celebrity/1406427/\",\\n      \"name\": \"迪米特·D·马里诺夫 Dimiter D. Marinov\"\\n    }\\n    ,\\n    {\\n      \"@type\": \"Person\",\\n      \"url\": \"/celebrity/1228545/\",\\n      \"name\": \"迈克·哈顿 Mike Hatton\"\\n    }\\n    ,\\n    {\\n      \"@type\": \"Person\",\\n      \"url\": \"/celebrity/1321106/\",\\n      \"name\": \"P·J·伯恩 P.J. Byrne\"\\n    }\\n    ,\\n    {\\n      \"@type\": \"Person\",\\n      \"url\": \"/celebrity/1071361/\",\\n      \"name\": \"乔·柯蒂斯 Joe Cortese\"\\n    }\\n    ,\\n    {\\n      \"@type\": \"Person\",\\n      \"url\": \"/celebrity/1406428/\",\\n      \"name\": \"玛姬·尼克松 Maggie Nixon\"\\n    }\\n    ,\\n    {\\n      \"@type\": \"Person\",\\n      \"url\": \"/celebrity/1406429/\",\\n      \"name\": \"冯·刘易斯 Von Lewis\"\\n    }\\n    ,\\n    {\\n      \"@type\": \"Person\",\\n      \"url\": \"/celebrity/1406430/\",\\n      \"name\": \"乔恩·索特兰 Jon Sortland\"\\n    }\\n    ,\\n    {\\n      \"@type\": \"Person\",\\n      \"url\": \"/celebrity/1150369/\",\\n      \"name\": \"唐·斯达克 Don Stark\"\\n    }\\n    ,\\n    {\\n      \"@type\": \"Person\",\\n      \"url\": \"/celebrity/1406431/\",\\n      \"name\": \"安东尼·曼加诺 Anthony Mangano\"\\n    }\\n    ,\\n    {\\n      \"@type\": \"Person\",\\n      \"url\": \"/celebrity/1000788/\",\\n      \"name\": \"保罗·斯隆 Paul Sloan\"\\n    }\\n    ,\\n    {\\n      \"@type\": \"Person\",\\n      \"url\": \"/celebrity/1408234/\",\\n      \"name\": \"珍娜·劳伦索 Jenna Laurenzo\"\\n    }\\n    ,\\n    {\\n      \"@type\": \"Person\",\\n      \"url\": \"/celebrity/1405785/\",\\n      \"name\": \"肯尼斯·以色列 Kenneth Israel\"\\n    }\\n    ,\\n    {\\n      \"@type\": \"Person\",\\n      \"url\": \"/celebrity/1160244/\",\\n      \"name\": \"伊克博·塞巴 Iqbal Theba\"\\n    }\\n    ,\\n    {\\n      \"@type\": \"Person\",\\n      \"url\": \"/celebrity/1050517/\",\\n      \"name\": \"尼克·瓦莱隆加 Nick Vallelonga\"\\n    }\\n    ,\\n    {\\n      \"@type\": \"Person\",\\n      \"url\": \"/celebrity/1392831/\",\\n      \"name\": \"大卫·安 David An\"\\n    }\\n    ,\\n    {\\n      \"@type\": \"Person\",\\n      \"url\": \"/celebrity/1018627/\",\\n      \"name\": \"迈克·切罗内 Mike Cerrone\"\\n    }\\n    ,\\n    {\\n      \"@type\": \"Person\",\\n      \"url\": \"/celebrity/1369577/\",\\n      \"name\": \"杰拉尔丁·辛格 Geraldine Singer\"\\n    }\\n    ,\\n    {\\n      \"@type\": \"Person\",\\n      \"url\": \"/celebrity/1389734/\",\\n      \"name\": \"马丁·巴特斯·布拉德福德 Martin Bats Bradford\"\\n    }\\n    ,\\n    {\\n      \"@type\": \"Person\",\\n      \"url\": \"/celebrity/1391091/\",\\n      \"name\": \"格拉伦·布莱恩特·班克斯 Gralen Bryant Banks\"\\n    }\\n    ,\\n    {\\n      \"@type\": \"Person\",\\n      \"url\": \"/celebrity/1148744/\",\\n      \"name\": \"汤姆·维图 Tom Virtue\"\\n    }\\n    ,\\n    {\\n      \"@type\": \"Person\",\\n      \"url\": \"/celebrity/1029175/\",\\n      \"name\": \"夏恩·帕特洛 Shane Partlow\"\\n    }\\n    ,\\n    {\\n      \"@type\": \"Person\",\\n      \"url\": \"/celebrity/1214567/\",\\n      \"name\": \"丹尼斯·W·霍尔 Dennis W. Hall\"\\n    }\\n    ,\\n    {\\n      \"@type\": \"Person\",\\n      \"url\": \"/celebrity/1352771/\",\\n      \"name\": \"吉姆·克洛克 Jim Klock\"\\n    }\\n    ,\\n    {\\n      \"@type\": \"Person\",\\n      \"url\": \"/celebrity/1330957/\",\\n      \"name\": \"戴恩·罗兹 Dane Rhodes\"\\n    }\\n    ,\\n    {\\n      \"@type\": \"Person\",\\n      \"url\": \"/celebrity/1151972/\",\\n      \"name\": \"布赖恩·斯特帕尼克 Brian Stepanek\"\\n    }\\n    ,\\n    {\\n      \"@type\": \"Person\",\\n      \"url\": \"/celebrity/1239387/\",\\n      \"name\": \"乔恩·迈克尔·戴维斯 Jon Michael Davis\"\\n    }\\n    ,\\n    {\\n      \"@type\": \"Person\",\\n      \"url\": \"/celebrity/1403831/\",\\n      \"name\": \"布莱恩·海耶斯·库瑞 Brian Hayes Currie\"\\n    }\\n    ,\\n    {\\n      \"@type\": \"Person\",\\n      \"url\": \"/celebrity/1400847/\",\\n      \"name\": \"托尼亚·马尔多纳多 Tonya Maldonado\"\\n    }\\n    ,\\n    {\\n      \"@type\": \"Person\",\\n      \"url\": \"/celebrity/1409710/\",\\n      \"name\": \"加文·莱尔·弗雷 Gavin Lyle Foley\"\\n    }\\n    ,\\n    {\\n      \"@type\": \"Person\",\\n      \"url\": \"/celebrity/1409711/\",\\n      \"name\": \"奎恩·达菲 Quinn Duffy\"\\n    }\\n    ,\\n    {\\n      \"@type\": \"Person\",\\n      \"url\": \"/celebrity/1409712/\",\\n      \"name\": \"哈里森·斯通 Harrison Stone\"\\n    }\\n    ,\\n    {\\n      \"@type\": \"Person\",\\n      \"url\": \"/celebrity/1409713/\",\\n      \"name\": \"比利·布里德 Billy Breed\"\\n    }\\n    ,\\n    {\\n      \"@type\": \"Person\",\\n      \"url\": \"/celebrity/1409715/\",\\n      \"name\": \"莱斯利·卡斯泰 Leslie Castay\"\\n    }\\n    ,\\n    {\\n      \"@type\": \"Person\",\\n      \"url\": \"/celebrity/1409714/\",\\n      \"name\": \"克雷格·迪弗朗西亚 Craig DiFrancia\"\\n    }\\n    ,\\n    {\\n      \"@type\": \"Person\",\\n      \"url\": \"/celebrity/1412029/\",\\n      \"name\": \"Frank Vallelonga\"\\n    }\\n  ]\\n,\\n  \"datePublished\": \"2018-09-11\",\\n  \"genre\": [\"\\\\u5267\\\\u60c5\", \"\\\\u559c\\\\u5267\", \"\\\\u4f20\\\\u8bb0\"],\\n  \"duration\": \"PT2H10M\",\\n  \"description\": \"托尼（维果·莫腾森 Viggo Mortensen 饰）是一个吊儿郎当游手好闲的混混，在一家夜总会做侍者。这间夜总会因故要停业几个月，可托尼所要支付的房租和生活费不会因此取消，所以他的当务之急是去寻找...\",\\n  \"@type\": \"Movie\",\\n  \"aggregateRating\": {\\n    \"@type\": \"AggregateRating\",\\n    \"ratingCount\": \"718187\",\\n    \"bestRating\": \"10\",\\n    \"worstRating\": \"2\",\\n    \"ratingValue\": \"8.9\"\\n  }\\n}\\n</script>\\n\\n\\n    <style type=\"text/css\">\\n  \\n</style>\\n    <style type=\"text/css\">img { max-width: 100%; }</style>\\n    <script type=\"text/javascript\"></script>\\n    <link rel=\"stylesheet\" href=\"https://img3.doubanio.com/misc/mixed_static/3ec890df550a76f7.css\">\\n\\n    <link rel=\"shortcut icon\" href=\"https://img3.doubanio.com/favicon.ico\" type=\"image/x-icon\">\\n</head>\\n\\n<body>\\n  \\n    <script type=\"text/javascript\">var _body_start = new Date();</script>\\n\\n    \\n    \\n\\n\\n\\n    <link href=\"//img3.doubanio.com/dae/accounts/resources/2f48733/shire/bundle.css\" rel=\"stylesheet\" type=\"text/css\">\\n\\n\\n\\n<div id=\"db-global-nav\" class=\"global-nav\">\\n  <div class=\"bd\">\\n    \\n<div class=\"top-nav-info\">\\n  <a href=\"https://accounts.douban.com/passport/login?source=movie\" class=\"nav-login\" rel=\"nofollow\">登录/注册</a>\\n</div>\\n\\n\\n    <div class=\"top-nav-doubanapp\">\\n  <a href=\"https://www.douban.com/doubanapp/app?channel=top-nav\" class=\"lnk-doubanapp\">下载豆瓣客户端</a>\\n  <div id=\"doubanapp-tip\">\\n    <a href=\"https://www.douban.com/doubanapp/app?channel=qipao\" class=\"tip-link\">豆瓣 <span class=\"version\">6.0</span> 全新发布</a>\\n    <a href=\"javascript: void 0;\" class=\"tip-close\">×</a>\\n  </div>\\n  <div id=\"top-nav-appintro\" class=\"more-items\">\\n    <p class=\"appintro-title\">豆瓣</p>\\n    <p class=\"qrcode\">扫码直接下载</p>\\n    <div class=\"download\">\\n      <a href=\"https://www.douban.com/doubanapp/redirect?channel=top-nav&direct_dl=1&download=iOS\">iPhone</a>\\n      <span>·</span>\\n      <a href=\"https://www.douban.com/doubanapp/redirect?channel=top-nav&direct_dl=1&download=Android\" class=\"download-android\">Android</a>\\n    </div>\\n  </div>\\n</div>\\n\\n    \\n\\n\\n<div class=\"global-nav-items\">\\n  <ul>\\n    <li class=\"\">\\n      <a href=\"https://www.douban.com\" target=\"_blank\" data-moreurl-dict=\"{&quot;from&quot;:&quot;top-nav-click-main&quot;,&quot;uid&quot;:&quot;0&quot;}\">豆瓣</a>\\n    </li>\\n    <li class=\"\">\\n      <a href=\"https://book.douban.com\" target=\"_blank\" data-moreurl-dict=\"{&quot;from&quot;:&quot;top-nav-click-book&quot;,&quot;uid&quot;:&quot;0&quot;}\">读书</a>\\n    </li>\\n    <li class=\"on\">\\n      <a href=\"https://movie.douban.com\"  data-moreurl-dict=\"{&quot;from&quot;:&quot;top-nav-click-movie&quot;,&quot;uid&quot;:&quot;0&quot;}\">电影</a>\\n    </li>\\n    <li class=\"\">\\n      <a href=\"https://music.douban.com\" target=\"_blank\" data-moreurl-dict=\"{&quot;from&quot;:&quot;top-nav-click-music&quot;,&quot;uid&quot;:&quot;0&quot;}\">音乐</a>\\n    </li>\\n    <li class=\"\">\\n      <a href=\"https://www.douban.com/location\" target=\"_blank\" data-moreurl-dict=\"{&quot;from&quot;:&quot;top-nav-click-location&quot;,&quot;uid&quot;:&quot;0&quot;}\">同城</a>\\n    </li>\\n    <li class=\"\">\\n      <a href=\"https://www.douban.com/group\" target=\"_blank\" data-moreurl-dict=\"{&quot;from&quot;:&quot;top-nav-click-group&quot;,&quot;uid&quot;:&quot;0&quot;}\">小组</a>\\n    </li>\\n    <li class=\"\">\\n      <a href=\"https://read.douban.com&#47;?dcs=top-nav&amp;dcm=douban\" target=\"_blank\" data-moreurl-dict=\"{&quot;from&quot;:&quot;top-nav-click-read&quot;,&quot;uid&quot;:&quot;0&quot;}\">阅读</a>\\n    </li>\\n    <li class=\"\">\\n      <a href=\"https://douban.fm&#47;?from_=shire_top_nav\" target=\"_blank\" data-moreurl-dict=\"{&quot;from&quot;:&quot;top-nav-click-fm&quot;,&quot;uid&quot;:&quot;0&quot;}\">FM</a>\\n    </li>\\n    <li class=\"\">\\n      <a href=\"https://time.douban.com&#47;?dt_time_source=douban-web_top_nav\" target=\"_blank\" data-moreurl-dict=\"{&quot;from&quot;:&quot;top-nav-click-time&quot;,&quot;uid&quot;:&quot;0&quot;}\">时间</a>\\n    </li>\\n    <li class=\"\">\\n      <a href=\"https://market.douban.com&#47;?utm_campaign=douban_top_nav&amp;utm_source=douban&amp;utm_medium=pc_web\" target=\"_blank\" data-moreurl-dict=\"{&quot;from&quot;:&quot;top-nav-click-market&quot;,&quot;uid&quot;:&quot;0&quot;}\">豆品</a>\\n    </li>\\n    <li>\\n      <a href=\"#more\" class=\"bn-more\"><span>更多</span></a>\\n      <div class=\"more-items\">\\n        <table cellpadding=\"0\" cellspacing=\"0\">\\n          <tbody>\\n            <tr>\\n              <td>\\n                <a href=\"https://ypy.douban.com\" target=\"_blank\" data-moreurl-dict=\"{&quot;from&quot;:&quot;top-nav-click-ypy&quot;,&quot;uid&quot;:&quot;0&quot;}\">豆瓣摄影</a>\\n              </td>\\n            </tr>\\n          </tbody>\\n        </table>\\n      </div>\\n    </li>\\n  </ul>\\n</div>\\n\\n  </div>\\n</div>\\n<script>\\n  ;window._GLOBAL_NAV = {\\n    DOUBAN_URL: \"https://www.douban.com\",\\n    N_NEW_NOTIS: 0,\\n    N_NEW_DOUMAIL: 0\\n  };\\n</script>\\n\\n\\n\\n    <script src=\"//img3.doubanio.com/dae/accounts/resources/2f48733/shire/bundle.js\" defer=\"defer\"></script>\\n\\n\\n\\n\\n    \\n\\n\\n\\n    <link href=\"//img3.doubanio.com/dae/accounts/resources/2f48733/movie/bundle.css\" rel=\"stylesheet\" type=\"text/css\">\\n\\n\\n\\n\\n<div id=\"db-nav-movie\" class=\"nav\">\\n  <div class=\"nav-wrap\">\\n  <div class=\"nav-primary\">\\n    <div class=\"nav-logo\">\\n      <a href=\"https:&#47;&#47;movie.douban.com\">豆瓣电影</a>\\n    </div>\\n    <div class=\"nav-search\">\\n      <form action=\"https:&#47;&#47;movie.douban.com/subject_search\" method=\"get\">\\n        <fieldset>\\n          <legend>搜索：</legend>\\n          <label for=\"inp-query\">\\n          </label>\\n          <div class=\"inp\"><input id=\"inp-query\" name=\"search_text\" size=\"22\" maxlength=\"60\" placeholder=\"搜索电影、电视剧、综艺、影人\" value=\"\"></div>\\n          <div class=\"inp-btn\"><input type=\"submit\" value=\"搜索\"></div>\\n          <input type=\"hidden\" name=\"cat\" value=\"1002\" />\\n        </fieldset>\\n      </form>\\n    </div>\\n  </div>\\n  </div>\\n  <div class=\"nav-secondary\">\\n    \\n\\n<div class=\"nav-items\">\\n  <ul>\\n    <li    ><a href=\"https://movie.douban.com/cinema/nowplaying/\"\\n     >影讯&购票</a>\\n    </li>\\n    <li    ><a href=\"https://movie.douban.com/explore\"\\n     >选电影</a>\\n    </li>\\n    <li    ><a href=\"https://movie.douban.com/tv/\"\\n     >电视剧</a>\\n    </li>\\n    <li    ><a href=\"https://movie.douban.com/chart\"\\n     >排行榜</a>\\n    </li>\\n    <li    ><a href=\"https://movie.douban.com/tag/\"\\n     >分类</a>\\n    </li>\\n    <li    ><a href=\"https://movie.douban.com/review/best/\"\\n     >影评</a>\\n    </li>\\n    <li    ><a href=\"https://movie.douban.com/annual/2018?source=navigation\"\\n     >2018年度榜单</a>\\n    </li>\\n    <li    ><a href=\"https://www.douban.com/standbyme/2018?source=navigation\"\\n     >2018书影音报告</a>\\n    </li>\\n  </ul>\\n</div>\\n\\n    <a href=\"https://movie.douban.com/annual/2018?source=movie_navigation\" class=\"movieannual2018\"></a>\\n  </div>\\n</div>\\n\\n<script id=\"suggResult\" type=\"text/x-jquery-tmpl\">\\n  <li data-link=\"{{= url}}\">\\n            <a href=\"{{= url}}\" onclick=\"moreurl(this, {from:\\'movie_search_sugg\\', query:\\'{{= keyword }}\\', subject_id:\\'{{= id}}\\', i: \\'{{= index}}\\', type: \\'{{= type}}\\'})\">\\n            <img src=\"{{= img}}\" width=\"40\" />\\n            <p>\\n                <em>{{= title}}</em>\\n                {{if year}}\\n                    <span>{{= year}}</span>\\n                {{/if}}\\n                {{if sub_title}}\\n                    <br /><span>{{= sub_title}}</span>\\n                {{/if}}\\n                {{if address}}\\n                    <br /><span>{{= address}}</span>\\n                {{/if}}\\n                {{if episode}}\\n                    {{if episode==\"unknow\"}}\\n                        <br /><span>集数未知</span>\\n                    {{else}}\\n                        <br /><span>共{{= episode}}集</span>\\n                    {{/if}}\\n                {{/if}}\\n            </p>\\n        </a>\\n        </li>\\n  </script>\\n\\n\\n\\n\\n    <script src=\"//img3.doubanio.com/dae/accounts/resources/2f48733/movie/bundle.js\" defer=\"defer\"></script>\\n\\n\\n\\n\\n\\n    \\n    <div id=\"wrapper\">\\n        \\n\\n        \\n    <div id=\"content\">\\n        \\n\\n    <div id=\"dale_movie_subject_top_icon\"></div>\\n    <h1>\\n        <span property=\"v:itemreviewed\">绿皮书 Green Book</span>\\n            <span class=\"year\">(2018)</span>\\n    </h1>\\n\\n        <div class=\"grid-16-8 clearfix\">\\n            \\n\\n            \\n            <div class=\"article\">\\n                \\n    \\n\\n    \\n\\n\\n\\n\\n\\n        <div class=\"indent clearfix\">\\n            <div class=\"subjectwrap clearfix\">\\n                <div class=\"subject clearfix\">\\n                    \\n\\n\\n\\n<div id=\"mainpic\" class=\"\">\\n    <a class=\"nbgnbg\" href=\"https://movie.douban.com/subject/27060077/photos?type=R\" title=\"点击看更多海报\">\\n        <img src=\"https://img3.doubanio.com/view/photo/s_ratio_poster/public/p2549177902.jpg\" title=\"点击看更多海报\" alt=\"Green Book\" rel=\"v:image\" />\\n   </a>\\n</div>\\n\\n                    \\n\\n\\n<div id=\"info\">\\n        <span ><span class=\\'pl\\'>导演</span>: <span class=\\'attrs\\'><a href=\"/celebrity/1036662/\" rel=\"v:directedBy\">彼得·法雷里</a></span></span><br/>\\n        <span ><span class=\\'pl\\'>编剧</span>: <span class=\\'attrs\\'><a href=\"/celebrity/1050517/\">尼克·瓦莱隆加</a> / <a href=\"/celebrity/1403831/\">布莱恩·海耶斯·库瑞</a> / <a href=\"/celebrity/1036662/\">彼得·法雷里</a></span></span><br/>\\n        <span class=\"actor\"><span class=\\'pl\\'>主演</span>: <span class=\\'attrs\\'><a href=\"/celebrity/1054520/\" rel=\"v:starring\">维果·莫腾森</a> / <a href=\"/celebrity/1004702/\" rel=\"v:starring\">马赫沙拉·阿里</a> / <a href=\"/celebrity/1010545/\" rel=\"v:starring\">琳达·卡德里尼</a> / <a href=\"/celebrity/1379169/\" rel=\"v:starring\">塞巴斯蒂安·马尼斯科</a> / <a href=\"/celebrity/1406427/\" rel=\"v:starring\">迪米特·D·马里诺夫</a> / <a href=\"/celebrity/1228545/\" rel=\"v:starring\">迈克·哈顿</a> / <a href=\"/celebrity/1321106/\" rel=\"v:starring\">P·J·伯恩</a> / <a href=\"/celebrity/1071361/\" rel=\"v:starring\">乔·柯蒂斯</a> / <a href=\"/celebrity/1406428/\" rel=\"v:starring\">玛姬·尼克松</a> / <a href=\"/celebrity/1406429/\" rel=\"v:starring\">冯·刘易斯</a> / <a href=\"/celebrity/1406430/\" rel=\"v:starring\">乔恩·索特兰</a> / <a href=\"/celebrity/1150369/\" rel=\"v:starring\">唐·斯达克</a> / <a href=\"/celebrity/1406431/\" rel=\"v:starring\">安东尼·曼加诺</a> / <a href=\"/celebrity/1000788/\" rel=\"v:starring\">保罗·斯隆</a> / <a href=\"/celebrity/1408234/\" rel=\"v:starring\">珍娜·劳伦索</a> / <a href=\"/celebrity/1405785/\" rel=\"v:starring\">肯尼斯·以色列</a> / <a href=\"/celebrity/1160244/\" rel=\"v:starring\">伊克博·塞巴</a> / <a href=\"/celebrity/1050517/\" rel=\"v:starring\">尼克·瓦莱隆加</a> / <a href=\"/celebrity/1392831/\" rel=\"v:starring\">大卫·安</a> / <a href=\"/celebrity/1018627/\" rel=\"v:starring\">迈克·切罗内</a> / <a href=\"/celebrity/1369577/\" rel=\"v:starring\">杰拉尔丁·辛格</a> / <a href=\"/celebrity/1389734/\" rel=\"v:starring\">马丁·巴特斯·布拉德福德</a> / <a href=\"/celebrity/1391091/\" rel=\"v:starring\">格拉伦·布莱恩特·班克斯</a> / <a href=\"/celebrity/1148744/\" rel=\"v:starring\">汤姆·维图</a> / <a href=\"/celebrity/1029175/\" rel=\"v:starring\">夏恩·帕特洛</a> / <a href=\"/celebrity/1214567/\" rel=\"v:starring\">丹尼斯·W·霍尔</a> / <a href=\"/celebrity/1352771/\" rel=\"v:starring\">吉姆·克洛克</a> / <a href=\"/celebrity/1330957/\" rel=\"v:starring\">戴恩·罗兹</a> / <a href=\"/celebrity/1151972/\" rel=\"v:starring\">布赖恩·斯特帕尼克</a> / <a href=\"/celebrity/1239387/\" rel=\"v:starring\">乔恩·迈克尔·戴维斯</a> / <a href=\"/celebrity/1403831/\" rel=\"v:starring\">布莱恩·海耶斯·库瑞</a> / <a href=\"/celebrity/1400847/\" rel=\"v:starring\">托尼亚·马尔多纳多</a></span></span><br/>\\n        <span class=\"pl\">类型:</span> <span property=\"v:genre\">剧情</span> / <span property=\"v:genre\">喜剧</span> / <span property=\"v:genre\">传记</span><br/>\\n        \\n        <span class=\"pl\">制片国家/地区:</span> 美国<br/>\\n        <span class=\"pl\">语言:</span> 英语 / 意大利语 / 俄语 / 德语<br/>\\n        <span class=\"pl\">上映日期:</span> <span property=\"v:initialReleaseDate\" content=\"2019-03-01(中国大陆)\">2019-03-01(中国大陆)</span> / <span property=\"v:initialReleaseDate\" content=\"2018-09-11(多伦多电影节)\">2018-09-11(多伦多电影节)</span> / <span property=\"v:initialReleaseDate\" content=\"2018-11-16(美国)\">2018-11-16(美国)</span><br/>\\n        <span class=\"pl\">片长:</span> <span property=\"v:runtime\" content=\"130\">130分钟</span><br/>\\n        <span class=\"pl\">又名:</span> 绿簿旅友(港) / 幸福绿皮书(台) / 绿书<br/>\\n        <span class=\"pl\">IMDb链接:</span> <a href=\"http://www.imdb.com/title/tt6966692\" target=\"_blank\" rel=\"nofollow\">tt6966692</a><br>\\n\\n</div>\\n\\n\\n\\n\\n                </div>\\n                    \\n\\n\\n<div id=\"interest_sectl\">\\n    <div class=\"rating_wrap clearbox\" rel=\"v:rating\">\\n        <div class=\"clearfix\">\\n          <div class=\"rating_logo ll\">豆瓣评分</div>\\n          <div class=\"output-btn-wrap rr\" style=\"display:none\">\\n            <img src=\"https://img3.doubanio.com/f/movie/692e86756648f29457847c5cc5e161d6f6b8aaac/pics/movie/reference.png\" />\\n            <a class=\"download-output-image\" href=\"#\">引用</a>\\n          </div>\\n          \\n          \\n        </div>\\n        \\n\\n\\n\\n<div class=\"rating_self clearfix\" typeof=\"v:Rating\">\\n    <strong class=\"ll rating_num\" property=\"v:average\">8.9</strong>\\n    <span property=\"v:best\" content=\"10.0\"></span>\\n    <div class=\"rating_right \">\\n        <div class=\"ll bigstar bigstar45\"></div>\\n        <div class=\"rating_sum\">\\n                <a href=\"collections\" class=\"rating_people\">\\n                    <span property=\"v:votes\">718187</span>人评价\\n                </a>\\n        </div>\\n    </div>\\n</div>\\n<div class=\"ratings-on-weight\">\\n    \\n        <div class=\"item\">\\n        \\n        <span class=\"stars5 starstop\" title=\"力荐\">\\n            5星\\n        </span>\\n        <div class=\"power\" style=\"width:64px\"></div>\\n        <span class=\"rating_per\">54.1%</span>\\n        <br />\\n        </div>\\n        <div class=\"item\">\\n        \\n        <span class=\"stars4 starstop\" title=\"推荐\">\\n            4星\\n        </span>\\n        <div class=\"power\" style=\"width:45px\"></div>\\n        <span class=\"rating_per\">38.7%</span>\\n        <br />\\n        </div>\\n        <div class=\"item\">\\n        \\n        <span class=\"stars3 starstop\" title=\"还行\">\\n            3星\\n        </span>\\n        <div class=\"power\" style=\"width:7px\"></div>\\n        <span class=\"rating_per\">6.7%</span>\\n        <br />\\n        </div>\\n        <div class=\"item\">\\n        \\n        <span class=\"stars2 starstop\" title=\"较差\">\\n            2星\\n        </span>\\n        <div class=\"power\" style=\"width:0px\"></div>\\n        <span class=\"rating_per\">0.3%</span>\\n        <br />\\n        </div>\\n        <div class=\"item\">\\n        \\n        <span class=\"stars1 starstop\" title=\"很差\">\\n            1星\\n        </span>\\n        <div class=\"power\" style=\"width:0px\"></div>\\n        <span class=\"rating_per\">0.1%</span>\\n        <br />\\n        </div>\\n</div>\\n\\n    </div>\\n        <div class=\"rating_betterthan\">\\n            好于 <a href=\"/typerank?type_name=剧情&type=11&interval_id=100:90&action=\">97% 剧情片</a><br/>\\n            好于 <a href=\"/typerank?type_name=喜剧&type=24&interval_id=100:90&action=\">98% 喜剧片</a><br/>\\n        </div>\\n</div>\\n\\n\\n                \\n            </div>\\n                \\n\\n\\n\\n\\n<div id=\"interest_sect_level\" class=\"clearfix\">\\n        \\n            <a href=\"https://www.douban.com/reason=collectwish&amp;ck=\" rel=\"nofollow\" class=\"j a_show_login colbutt ll\" name=\"pbtn-27060077-wish\">\\n                <span>想看</span>\\n            </a>\\n            <a href=\"https://www.douban.com/reason=collectcollect&amp;ck=\" rel=\"nofollow\" class=\"j a_show_login colbutt ll\" name=\"pbtn-27060077-collect\">\\n                <span>看过</span>\\n            </a>\\n        <div class=\"ll j a_stars\">\\n            \\n    \\n    评价:\\n    <span id=\"rating\"> <span id=\"stars\" data-solid=\"https://img3.doubanio.com/f/shire/5a2327c04c0c231bced131ddf3f4467eb80c1c86/pics/rating_icons/star_onmouseover.png\" data-hollow=\"https://img3.doubanio.com/f/shire/2520c01967207a1735171056ec588c8c1257e5f8/pics/rating_icons/star_hollow_hover.png\" data-solid-2x=\"https://img3.doubanio.com/f/shire/7258904022439076d57303c3b06ad195bf1dc41a/pics/rating_icons/star_onmouseover@2x.png\" data-hollow-2x=\"https://img3.doubanio.com/f/shire/95cc2fa733221bb8edd28ad56a7145a5ad33383e/pics/rating_icons/star_hollow_hover@2x.png\">\\n\\n            <a href=\"https://www.douban.com/register?reason=rate\" class=\"j a_show_login\" name=\"pbtn-27060077-1\">\\n        <img src=\"https://img3.doubanio.com/f/shire/2520c01967207a1735171056ec588c8c1257e5f8/pics/rating_icons/star_hollow_hover.png\" id=\"star1\" width=\"16\" height=\"16\"/></a>\\n            <a href=\"https://www.douban.com/register?reason=rate\" class=\"j a_show_login\" name=\"pbtn-27060077-2\">\\n        <img src=\"https://img3.doubanio.com/f/shire/2520c01967207a1735171056ec588c8c1257e5f8/pics/rating_icons/star_hollow_hover.png\" id=\"star2\" width=\"16\" height=\"16\"/></a>\\n            <a href=\"https://www.douban.com/register?reason=rate\" class=\"j a_show_login\" name=\"pbtn-27060077-3\">\\n        <img src=\"https://img3.doubanio.com/f/shire/2520c01967207a1735171056ec588c8c1257e5f8/pics/rating_icons/star_hollow_hover.png\" id=\"star3\" width=\"16\" height=\"16\"/></a>\\n            <a href=\"https://www.douban.com/register?reason=rate\" class=\"j a_show_login\" name=\"pbtn-27060077-4\">\\n        <img src=\"https://img3.doubanio.com/f/shire/2520c01967207a1735171056ec588c8c1257e5f8/pics/rating_icons/star_hollow_hover.png\" id=\"star4\" width=\"16\" height=\"16\"/></a>\\n            <a href=\"https://www.douban.com/register?reason=rate\" class=\"j a_show_login\" name=\"pbtn-27060077-5\">\\n        <img src=\"https://img3.doubanio.com/f/shire/2520c01967207a1735171056ec588c8c1257e5f8/pics/rating_icons/star_hollow_hover.png\" id=\"star5\" width=\"16\" height=\"16\"/></a>\\n    </span><span id=\"rateword\" class=\"pl\"></span>\\n    <input id=\"n_rating\" type=\"hidden\" value=\"\"  />\\n    </span>\\n\\n        </div>\\n    \\n\\n</div>\\n\\n\\n            \\n\\n\\n\\n\\n\\n\\n\\n\\n\\n\\n\\n\\n\\n\\n\\n\\n\\n\\n<div class=\"gtleft\">\\n    <ul class=\"ul_subject_menu bicelink color_gray pt6 clearfix\">\\n        \\n    \\n        \\n                <li> \\n    <img src=\"https://img3.doubanio.com/f/shire/cc03d0fcf32b7ce3af7b160a0b85e5e66b47cc42/pics/short-comment.gif\" />&nbsp;\\n        <a onclick=\"moreurl(this, {from:\\'mv_sbj_wr_cmnt_login\\'})\" class=\"j a_show_login\" href=\"https://www.douban.com/register?reason=review\" rel=\"nofollow\">写短评</a>\\n </li>\\n                    <li> \\n    \\n    <img src=\"https://img3.doubanio.com/f/shire/5bbf02b7b5ec12b23e214a580b6f9e481108488c/pics/add-review.gif\" />&nbsp;\\n        <a onclick=\"moreurl(this, {from:\\'mv_sbj_wr_rv_login\\'})\" class=\"j a_show_login\" href=\"https://www.douban.com/register?reason=review\" rel=\"nofollow\">写影评</a>\\n </li>\\n                    <li> \\n    <img src=\"https://img3.doubanio.com/f/shire/61cc48ba7c40e0272d46bb93fe0dc514f3b71ec5/pics/add-doulist.gif\" />&nbsp;\\n    <a class=\"\" href=\"/subject/27060077/questions/ask?from=subject_top\">提问题</a>\\n </li>\\n                <li> \\n    \\n\\n\\n\\n </li>\\n                <li> \\n   \\n\\n   \\n    \\n    <span class=\"rec\" id=\"电影-27060077\">\\n    <a href= \"#\"\\n        data-type=\"电影\"\\n        data-url=\"https://movie.douban.com/subject/27060077/\"\\n        data-desc=\"电影《绿皮书 Green Book》 (来自豆瓣) \"\\n        data-title=\"电影《绿皮书 Green Book》 (来自豆瓣) \"\\n        data-pic=\"https://img3.doubanio.com/view/photo/s_ratio_poster/public/p2549177902.jpeg\"\\n        class=\"bn-sharing \">\\n        分享到\\n    </a> &nbsp;&nbsp;\\n    </span>\\n\\n    <script>\\n        if (!window.DoubanShareMenuList) {\\n            window.DoubanShareMenuList = [];\\n        }\\n        var __cache_url = __cache_url || {};\\n\\n        (function(u){\\n            if(__cache_url[u]) return;\\n            __cache_url[u] = true;\\n            window.DoubanShareIcons = \\'https://img3.doubanio.com/f/shire/d15ffd71f3f10a7210448fec5a68eaec66e7f7d0/pics/ic_shares.png\\';\\n\\n            var initShareButton = function() {\\n                $.ajax({url:u,dataType:\\'script\\',cache:true});\\n            };\\n\\n            if (typeof Do == \\'function\\' && \\'ready\\' in Do) {\\n                Do(\\n                    \\'https://img3.doubanio.com/f/shire/8377b9498330a2e6f056d863987cc7a37eb4d486/css/ui/dialog.css\\',\\n                    \\'https://img3.doubanio.com/f/shire/383a6e43f2108dc69e3ff2681bc4dc6c72a5ffb0/js/ui/dialog.js\\',\\n                    \\'https://img3.doubanio.com/f/movie/c4ab132ff4d3d64a83854c875ea79b8b541faf12/js/movie/lib/qrcode.min.js\\',\\n                    initShareButton\\n                );\\n            } else if(typeof Douban == \\'object\\' && \\'loader\\' in Douban) {\\n                Douban.loader.batch(\\n                    \\'https://img3.doubanio.com/f/shire/8377b9498330a2e6f056d863987cc7a37eb4d486/css/ui/dialog.css\\',\\n                    \\'https://img3.doubanio.com/f/shire/383a6e43f2108dc69e3ff2681bc4dc6c72a5ffb0/js/ui/dialog.js\\',\\n                    \\'https://img3.doubanio.com/f/movie/c4ab132ff4d3d64a83854c875ea79b8b541faf12/js/movie/lib/qrcode.min.js\\'\\n                ).done(initShareButton);\\n            }\\n\\n        })(\\'https://img3.doubanio.com/f/movie/32be6727ed3ad8f6c4a417d8a086355c3e7d1d27/js/movie/lib/sharebutton.js\\');\\n    </script>\\n\\n\\n  </li>\\n            \\n\\n    </ul>\\n\\n    <script type=\"text/javascript\">\\n        $(function(){\\n            $(\".ul_subject_menu li.rec .bn-sharing\").bind(\"click\", function(){\\n                $.get(\"/blank?sbj_page_click=bn_sharing\");\\n            });\\n            $(\".ul_subject_menu .create_from_menu\").bind(\"click\", function(e){\\n                e.preventDefault();\\n                var $el = $(this);\\n                var glRoot = document.getElementById(\\'gallery-topics-selection\\');\\n                if (window.has_gallery_topics && glRoot) {\\n                    // 判断是否有话题\\n                    glRoot.style.display = \\'block\\';\\n                } else {\\n                    location.href = $el.attr(\\'href\\');\\n                }\\n            });\\n        });\\n    </script>\\n</div>\\n\\n\\n\\n\\n                \\n\\n\\n\\n\\n\\n<div class=\"rec-sec\">\\n<span class=\"rec\">\\n    <script id=\"movie-share\" type=\"text/x-html-snippet\">\\n        \\n    <form class=\"movie-share\" action=\"/j/share\" method=\"POST\">\\n        <div class=\"clearfix form-bd\">\\n            <div class=\"input-area\">\\n                <textarea name=\"text\" class=\"share-text\" cols=\"72\" data-mention-api=\"https://api.douban.com/shuo/in/complete?alt=xd&amp;callback=?\"></textarea>\\n                <input type=\"hidden\" name=\"target-id\" value=\"27060077\">\\n                <input type=\"hidden\" name=\"target-type\" value=\"0\">\\n                <input type=\"hidden\" name=\"title\" value=\"绿皮书 Green Book\\u200e (2018)\">\\n                <input type=\"hidden\" name=\"desc\" value=\"导演 彼得·法雷里 主演 维果·莫腾森 / 马赫沙拉·阿里 / 美国 / 8.9分(718187评价)\">\\n                <input type=\"hidden\" name=\"redir\" value=\"\"/>\\n                <div class=\"mentioned-highlighter\"></div>\\n            </div>\\n\\n            <div class=\"info-area\">\\n                    <img class=\"media\" src=\"https://img3.doubanio.com/view/photo/s_ratio_poster/public/p2549177902.jpg\" />\\n                <strong>绿皮书 Green Book\\u200e (2018)</strong>\\n                <p>导演 彼得·法雷里 主演 维果·莫腾森 / 马赫沙拉·阿里 / 美国 / 8.9分(718187评价)</p>\\n                <p class=\"error server-error\">&nbsp;</p>\\n            </div>\\n        </div>\\n        <div class=\"form-ft\">\\n            <div class=\"form-ft-inner\">\\n                \\n\\n\\n\\n                <span class=\"avail-num-indicator\">140</span>\\n                <span class=\"bn-flat\">\\n                    <input type=\"submit\" value=\"推荐\" />\\n                </span>\\n            </div>\\n        </div>\\n    </form>\\n    \\n    <div id=\"suggest-mention-tmpl\" style=\"display:none;\">\\n        <ul>\\n            {{#users}}\\n            <li id=\"{{uid}}\">\\n              <img src=\"{{avatar}}\">{{{username}}}&nbsp;<span>({{{uid}}})</span>\\n            </li>\\n            {{/users}}\\n        </ul>\\n    </div>\\n\\n\\n    </script>\\n\\n        \\n        <a href=\"/accounts/register?reason=recommend\"  class=\"j a_show_login lnk-sharing\" share-id=\"27060077\" data-mode=\"plain\" data-name=\"绿皮书 Green Book\\u200e (2018)\" data-type=\"movie\" data-desc=\"导演 彼得·法雷里 主演 维果·莫腾森 / 马赫沙拉·阿里 / 美国 / 8.9分(718187评价)\" data-href=\"https://movie.douban.com/subject/27060077/\" data-image=\"https://img3.doubanio.com/view/photo/s_ratio_poster/public/p2549177902.jpg\" data-properties=\"{}\" data-redir=\"\" data-text=\"\" data-apikey=\"\" data-curl=\"\" data-count=\"10\" data-object_kind=\"1002\" data-object_id=\"27060077\" data-target_type=\"rec\" data-target_action=\"0\" data-action_props=\"{&#34;subject_url&#34;:&#34;https:\\\\/\\\\/movie.douban.com\\\\/subject\\\\/27060077\\\\/&#34;,&#34;subject_title&#34;:&#34;绿皮书 Green Book\\u200e (2018)&#34;}\">推荐</a>\\n</span>\\n\\n\\n</div>\\n\\n\\n\\n\\n\\n\\n            <script type=\"text/javascript\">\\n                $(function() {\\n                    $(\\'.collect_btn\\', \\'#interest_sect_level\\').each(function() {\\n                        Douban.init_collect_btn(this);\\n                    });\\n                    $(\\'html\\').delegate(\".indent .rec-sec .lnk-sharing\", \"click\", function() {\\n                        moreurl(this, {\\n                            from : \\'mv_sbj_db_share\\'\\n                        });\\n                    });\\n                });\\n            </script>\\n        </div>\\n            \\n\\n\\n    <div id=\"collect_form_27060077\"></div>\\n\\n\\n        \\n\\n\\n\\n<div class=\"related-info\" style=\"margin-bottom:-10px;\">\\n    <a name=\"intro\"></a>\\n    \\n        \\n            \\n            \\n    <h2>\\n        <i class=\"\">绿皮书的剧情简介</i>\\n              · · · · · ·\\n    </h2>\\n\\n            <div class=\"indent\" id=\"link-report\">\\n                    \\n                        <span property=\"v:summary\" class=\"\">\\n                                \\u3000\\u3000托尼（维果·莫腾森 Viggo Mortensen 饰）是一个吊儿郎当游手好闲的混混，在一家夜总会做侍者。这间夜总会因故要停业几个月，可托尼所要支付的房租和生活费不会因此取消，所以他的当务之急是去寻找另一份工作来填补这几个月的空缺。在这个节骨眼上，一位名叫唐雪莉（马赫沙拉·阿里 Mahershala Ali 饰）的黑人钢琴家提出雇佣托尼。\\n                                    <br />\\n                                \\u3000\\u3000唐雪莉即将开始为期八个星期的南下巡回演出，可是，那个时候南方对黑人的歧视非常的严重，于是托尼便成为了唐雪莉的司机兼保镖。一路上，两人迥异的性格使得他们之间产生了很多的矛盾，与此同时，唐雪莉在南方所遭受的种种不公平的对待也让托尼对种族歧视感到深恶痛绝。\\n                        </span>\\n                        <span class=\"pl\"><a href=\"https://movie.douban.com/help/movie#t0-qs\">&copy;豆瓣</a></span>\\n            </div>\\n</div>\\n\\n\\n    \\n\\n\\n\\n\\n\\n\\n\\n\\n<div id=\"celebrities\" class=\"celebrities related-celebrities\">\\n\\n  \\n    <h2>\\n        <i class=\"\">绿皮书的演职员</i>\\n              · · · · · ·\\n            <span class=\"pl\">\\n            (\\n                <a href=\"/subject/27060077/celebrities\">全部 48</a>\\n            )\\n            </span>\\n    </h2>\\n\\n\\n  <ul class=\"celebrities-list from-subject __oneline\">\\n        \\n    \\n\\n    \\n  \\n  <li class=\"celebrity\">\\n    \\n\\n  <a href=\"https://movie.douban.com/celebrity/1036662/\" title=\"彼得·法雷里 Peter Farrelly\" class=\"\">\\n      <div class=\"avatar\" style=\"background-image: url(https://img3.doubanio.com/view/celebrity/s_ratio_celebrity/public/p29610.jpg)\">\\n    </div>\\n  </a>\\n\\n    <div class=\"info\">\\n      <span class=\"name\"><a href=\"https://movie.douban.com/celebrity/1036662/\" title=\"彼得·法雷里 Peter Farrelly\" class=\"name\">彼得·法雷里</a></span>\\n\\n      <span class=\"role\" title=\"导演\">导演</span>\\n\\n    </div>\\n  </li>\\n\\n\\n        \\n    \\n\\n    \\n  \\n  <li class=\"celebrity\">\\n    \\n\\n  <a href=\"https://movie.douban.com/celebrity/1054520/\" title=\"维果·莫腾森 Viggo Mortensen\" class=\"\">\\n      <div class=\"avatar\" style=\"background-image: url(https://img3.doubanio.com/view/celebrity/s_ratio_celebrity/public/p29922.jpg)\">\\n    </div>\\n  </a>\\n\\n    <div class=\"info\">\\n      <span class=\"name\"><a href=\"https://movie.douban.com/celebrity/1054520/\" title=\"维果·莫腾森 Viggo Mortensen\" class=\"name\">维果·莫腾森</a></span>\\n\\n      <span class=\"role\" title=\"饰 托尼·利普 Tony Lip\">饰 托尼·利普 Tony Lip</span>\\n\\n    </div>\\n  </li>\\n\\n\\n        \\n    \\n\\n    \\n  \\n  <li class=\"celebrity\">\\n    \\n\\n  <a href=\"https://movie.douban.com/celebrity/1004702/\" title=\"马赫沙拉·阿里 Mahershala Ali\" class=\"\">\\n      <div class=\"avatar\" style=\"background-image: url(https://img3.doubanio.com/view/celebrity/s_ratio_celebrity/public/p1488440651.5.jpg)\">\\n    </div>\\n  </a>\\n\\n    <div class=\"info\">\\n      <span class=\"name\"><a href=\"https://movie.douban.com/celebrity/1004702/\" title=\"马赫沙拉·阿里 Mahershala Ali\" class=\"name\">马赫沙拉·阿里</a></span>\\n\\n      <span class=\"role\" title=\"饰 唐·雪利 Don Shirley\">饰 唐·雪利 Don Shirley</span>\\n\\n    </div>\\n  </li>\\n\\n\\n        \\n    \\n\\n    \\n  \\n  <li class=\"celebrity\">\\n    \\n\\n  <a href=\"https://movie.douban.com/celebrity/1010545/\" title=\"琳达·卡德里尼 Linda Cardellini\" class=\"\">\\n      <div class=\"avatar\" style=\"background-image: url(https://img3.doubanio.com/view/celebrity/s_ratio_celebrity/public/p1405786644.35.jpg)\">\\n    </div>\\n  </a>\\n\\n    <div class=\"info\">\\n      <span class=\"name\"><a href=\"https://movie.douban.com/celebrity/1010545/\" title=\"琳达·卡德里尼 Linda Cardellini\" class=\"name\">琳达·卡德里尼</a></span>\\n\\n      <span class=\"role\" title=\"饰 德洛瑞丝 Dolores\">饰 德洛瑞丝 Dolores</span>\\n\\n    </div>\\n  </li>\\n\\n\\n        \\n    \\n\\n    \\n  \\n  <li class=\"celebrity\">\\n    \\n\\n  <a href=\"https://movie.douban.com/celebrity/1379169/\" title=\"塞巴斯蒂安·马尼斯科 Sebastian Maniscalco\" class=\"\">\\n      <div class=\"avatar\" style=\"background-image: url(https://img3.doubanio.com/view/celebrity/s_ratio_celebrity/public/p1502701147.13.jpg)\">\\n    </div>\\n  </a>\\n\\n    <div class=\"info\">\\n      <span class=\"name\"><a href=\"https://movie.douban.com/celebrity/1379169/\" title=\"塞巴斯蒂安·马尼斯科 Sebastian Maniscalco\" class=\"name\">塞巴斯蒂安·马尼斯科</a></span>\\n\\n      <span class=\"role\" title=\"饰 约翰尼 Johnny Venere\">饰 约翰尼 Johnny Venere</span>\\n\\n    </div>\\n  </li>\\n\\n\\n        \\n    \\n\\n    \\n  \\n  <li class=\"celebrity\">\\n    \\n\\n  <a href=\"https://movie.douban.com/celebrity/1406427/\" title=\"迪米特·D·马里诺夫 Dimiter D. Marinov\" class=\"\">\\n      <div class=\"avatar\" style=\"background-image: url(https://img3.doubanio.com/view/celebrity/s_ratio_celebrity/public/p1546845924.75.jpg)\">\\n    </div>\\n  </a>\\n\\n    <div class=\"info\">\\n      <span class=\"name\"><a href=\"https://movie.douban.com/celebrity/1406427/\" title=\"迪米特·D·马里诺夫 Dimiter D. Marinov\" class=\"name\">迪米特·D·马里诺夫</a></span>\\n\\n      <span class=\"role\" title=\"饰 奥列格 Oleg\">饰 奥列格 Oleg</span>\\n\\n    </div>\\n  </li>\\n\\n\\n  </ul>\\n</div>\\n\\n\\n    \\n\\n\\n<link rel=\"stylesheet\" href=\"https://img3.doubanio.com/f/verify/16c7e943aee3b1dc6d65f600fcc0f6d62db7dfb4/entry_creator/dist/author_subject/style.css\">\\n<div id=\"author_subject\" class=\"author-wrapper\">\\n    <div class=\"loading\"></div>\\n</div>\\n<script type=\"text/javascript\">\\n    var answerObj = {\\n      ISALL: \\'False\\',\\n      TYPE: \\'movie\\',\\n      SUBJECT_ID: \\'27060077\\',\\n      USER_ID: \\'None\\'\\n    }\\n</script>\\n<script type=\"text/javascript\" src=\"https://img3.doubanio.com/f/movie/61252f2f9b35f08b37f69d17dfe48310dd295347/js/movie/lib/react/15.4/bundle.js\"></script>\\n<script type=\"text/javascript\" src=\"https://img3.doubanio.com/f/verify/ac140ef86262b845d2be7b859e352d8196f3f6d4/entry_creator/dist/author_subject/index.js\"></script>\\n\\n\\n    \\n\\n\\n\\n\\n\\n\\n\\n\\n\\n    \\n    <div id=\"related-pic\" class=\"related-pic\">\\n        \\n    \\n    \\n    <h2>\\n        <i class=\"\">绿皮书的视频和图片</i>\\n              · · · · · ·\\n            <span class=\"pl\">\\n            (\\n                <a href=\"https://movie.douban.com/subject/27060077/trailer#trailer\">预告片21</a>&nbsp;|&nbsp;<a href=\"https://movie.douban.com/subject/27060077/trailer#short_video\">视频评论1</a>&nbsp;·&nbsp;<a href=\"/video/create?subject_id=27060077\">添加</a>&nbsp;|&nbsp;<a href=\"https://movie.douban.com/subject/27060077/all_photos\">图片761</a>&nbsp;·&nbsp;<a href=\"https://movie.douban.com/subject/27060077/mupload\">添加</a>\\n            )\\n            </span>\\n    </h2>\\n\\n\\n        <ul class=\"related-pic-bd  wide_videos\">\\n                <li class=\"label-trailer\">\\n                    <a class=\"related-pic-video\" href=\"https://movie.douban.com/trailer/243698/#content\" title=\"预告片\" style=\"background-image:url(https://img3.doubanio.com/img/trailer/medium/2549239616.jpg?)\">\\n                    </a>\\n                </li>\\n                \\n                <li class=\"label-short-video\">\\n                    <a class=\"related-pic-video\" href=\"https://movie.douban.com/video/101534/\" title=\"视频评论\" style=\"background-image:url(https://img1.doubanio.com/view/photo/photo/public/p2540565337.jpg?)\">\\n                    </a>\\n                </li>\\n                <li>\\n                    <a href=\"https://movie.douban.com/photos/photo/2542144239/\"><img src=\"https://img1.doubanio.com/view/photo/sqxs/public/p2542144239.jpg\" alt=\"图片\" /></a>\\n                </li>\\n                <li>\\n                    <a href=\"https://movie.douban.com/photos/photo/2542144458/\"><img src=\"https://img1.doubanio.com/view/photo/sqxs/public/p2542144458.jpg\" alt=\"图片\" /></a>\\n                </li>\\n        </ul>\\n    </div>\\n\\n\\n\\n\\n    \\n    \\n\\n\\n\\n<style type=\"text/css\">\\n.award li { display: inline; margin-right: 5px }\\n.awards { margin-bottom: 20px }\\n.awards h2 { background: none; color: #000; font-size: 14px; padding-bottom: 5px; margin-bottom: 8px; border-bottom: 1px dashed #dddddd }\\n.awards .year { color: #666666; margin-left: -5px }\\n.mod { margin-bottom: 25px }\\n.mod .hd { margin-bottom: 10px }\\n.mod .hd h2 {margin:24px 0 3px 0}\\n</style>\\n\\n\\n<div class=\"mod\">\\n    <div class=\"hd\">\\n        \\n    <h2>\\n        <i class=\"\">绿皮书的获奖情况</i>\\n              · · · · · ·\\n            <span class=\"pl\">\\n            (\\n                <a href=\"https://movie.douban.com/subject/27060077/awards/\">全部</a>\\n            )\\n            </span>\\n    </h2>\\n\\n    </div>\\n        \\n        <ul class=\"award\">\\n            <li>\\n                <a href=\"https://movie.douban.com/awards/Oscar/91/\">第91届奥斯卡金像奖</a>\\n            </li>\\n            <li>最佳影片</li>\\n            <li></li>\\n        </ul>\\n        \\n        <ul class=\"award\">\\n            <li>\\n                <a href=\"https://movie.douban.com/awards/golden-globes/76/\">第76届金球奖</a>\\n            </li>\\n            <li>电影类 最佳音乐/喜剧片</li>\\n            <li></li>\\n        </ul>\\n        \\n        <ul class=\"award\">\\n            <li>\\n                <a href=\"https://movie.douban.com/awards/bafta/72/\">第72届英国电影学院奖</a>\\n            </li>\\n            <li>电影奖 最佳影片(提名)</li>\\n            <li></li>\\n        </ul>\\n</div>\\n\\n    \\n\\n\\n\\n\\n\\n\\n\\n\\n    <div id=\"recommendations\" class=\"\">\\n        \\n        \\n    <h2>\\n        <i class=\"\">喜欢这部电影的人也喜欢</i>\\n              · · · · · ·\\n    </h2>\\n\\n        \\n    \\n    <div class=\"recommendations-bd\">\\n        <dl class=\"\">\\n            <dt>\\n                <a href=\"https://movie.douban.com/subject/6786002/?from=subject-page\" >\\n                    <img src=\"https://img3.doubanio.com/view/photo/s_ratio_poster/public/p1454261925.jpg\" alt=\"触不可及\" class=\"\" />\\n                </a>\\n            </dt>\\n            <dd>\\n                <a href=\"https://movie.douban.com/subject/6786002/?from=subject-page\" class=\"\" >触不可及</a>\\n            </dd>\\n        </dl>\\n        <dl class=\"\">\\n            <dt>\\n                <a href=\"https://movie.douban.com/subject/3011091/?from=subject-page\" >\\n                    <img src=\"https://img3.doubanio.com/view/photo/s_ratio_poster/public/p524964016.jpg\" alt=\"忠犬八公的故事\" class=\"\" />\\n                </a>\\n            </dt>\\n            <dd>\\n                <a href=\"https://movie.douban.com/subject/3011091/?from=subject-page\" class=\"\" >忠犬八公的故事</a>\\n            </dd>\\n        </dl>\\n        <dl class=\"\">\\n            <dt>\\n                <a href=\"https://movie.douban.com/subject/26628357/?from=subject-page\" >\\n                    <img src=\"https://img3.doubanio.com/view/photo/s_ratio_poster/public/p2406624993.jpg\" alt=\"一个叫欧维的男人决定去死\" class=\"\" />\\n                </a>\\n            </dt>\\n            <dd>\\n                <a href=\"https://movie.douban.com/subject/26628357/?from=subject-page\" class=\"\" >一个叫欧维的男人决定去死</a>\\n            </dd>\\n        </dl>\\n        <dl class=\"\">\\n            <dt>\\n                <a href=\"https://movie.douban.com/subject/26752088/?from=subject-page\" >\\n                    <img src=\"https://img3.doubanio.com/view/photo/s_ratio_poster/public/p2561305376.jpg\" alt=\"我不是药神\" class=\"\" />\\n                </a>\\n            </dt>\\n            <dd>\\n                <a href=\"https://movie.douban.com/subject/26752088/?from=subject-page\" class=\"\" >我不是药神</a>\\n            </dd>\\n        </dl>\\n        <dl class=\"\">\\n            <dt>\\n                <a href=\"https://movie.douban.com/subject/1295644/?from=subject-page\" >\\n                    <img src=\"https://img3.doubanio.com/view/photo/s_ratio_poster/public/p511118051.jpg\" alt=\"这个杀手不太冷\" class=\"\" />\\n                </a>\\n            </dt>\\n            <dd>\\n                <a href=\"https://movie.douban.com/subject/1295644/?from=subject-page\" class=\"\" >这个杀手不太冷</a>\\n            </dd>\\n        </dl>\\n        <dl class=\"\">\\n            <dt>\\n                <a href=\"https://movie.douban.com/subject/27110296/?from=subject-page\" >\\n                    <img src=\"https://img3.doubanio.com/view/photo/s_ratio_poster/public/p2539661066.jpg\" alt=\"无名之辈\" class=\"\" />\\n                </a>\\n            </dt>\\n            <dd>\\n                <a href=\"https://movie.douban.com/subject/27110296/?from=subject-page\" class=\"\" >无名之辈</a>\\n            </dd>\\n        </dl>\\n        <dl class=\"\">\\n            <dt>\\n                <a href=\"https://movie.douban.com/subject/21937445/?from=subject-page\" >\\n                    <img src=\"https://img3.doubanio.com/view/photo/s_ratio_poster/public/p2158166535.jpg\" alt=\"辩护人\" class=\"\" />\\n                </a>\\n            </dt>\\n            <dd>\\n                <a href=\"https://movie.douban.com/subject/21937445/?from=subject-page\" class=\"\" >辩护人</a>\\n            </dd>\\n        </dl>\\n        <dl class=\"\">\\n            <dt>\\n                <a href=\"https://movie.douban.com/subject/1292064/?from=subject-page\" >\\n                    <img src=\"https://img3.doubanio.com/view/photo/s_ratio_poster/public/p479682972.jpg\" alt=\"楚门的世界\" class=\"\" />\\n                </a>\\n            </dt>\\n            <dd>\\n                <a href=\"https://movie.douban.com/subject/1292064/?from=subject-page\" class=\"\" >楚门的世界</a>\\n            </dd>\\n        </dl>\\n        <dl class=\"\">\\n            <dt>\\n                <a href=\"https://movie.douban.com/subject/27622447/?from=subject-page\" >\\n                    <img src=\"https://img3.doubanio.com/view/photo/s_ratio_poster/public/p2530599636.jpg\" alt=\"小偷家族\" class=\"\" />\\n                </a>\\n            </dt>\\n            <dd>\\n                <a href=\"https://movie.douban.com/subject/27622447/?from=subject-page\" class=\"\" >小偷家族</a>\\n            </dd>\\n        </dl>\\n        <dl class=\"\">\\n            <dt>\\n                <a href=\"https://movie.douban.com/subject/5912992/?from=subject-page\" >\\n                    <img src=\"https://img3.doubanio.com/view/photo/s_ratio_poster/public/p1363250216.jpg\" alt=\"熔炉\" class=\"\" />\\n                </a>\\n            </dt>\\n            <dd>\\n                <a href=\"https://movie.douban.com/subject/5912992/?from=subject-page\" class=\"\" >熔炉</a>\\n            </dd>\\n        </dl>\\n    </div>\\n\\n    </div>\\n\\n\\n\\n        \\n\\n\\n<script type=\"text/x-handlebar-tmpl\" id=\"comment-tmpl\">\\n    <div class=\"dummy-fold\">\\n        {{#each comments}}\\n        <div class=\"comment-item\" data-cid=\"id\">\\n            <div class=\"comment\">\\n                <h3>\\n                    <span class=\"comment-vote\">\\n                            <span class=\"votes\">{{votes}}</span>\\n                        <input value=\"{{id}}\" type=\"hidden\"/>\\n                        <a href=\"javascript:;\" class=\"j {{#if ../if_logined}}a_vote_comment{{else}}a_show_login{{/if}}\">有用</a>\\n                    </span>\\n                    <span class=\"comment-info\">\\n                        <a href=\"{{user.path}}\" class=\"\">{{user.name}}</a>\\n                        {{#if rating}}\\n                        <span class=\"allstar{{rating}}0 rating\" title=\"{{rating_word}}\"></span>\\n                        {{/if}}\\n                        <span>\\n                            {{time}}\\n                        </span>\\n                        <p> {{content_tmpl content}} </p>\\n                    </span>\\n            </div>\\n        </div>\\n        {{/each}}\\n    </div>\\n</script>\\n\\n\\n\\n\\n\\n\\n\\n\\n\\n\\n\\n\\n    \\n\\n    <div id=\"comments-section\">\\n        <div class=\"mod-hd\">\\n            \\n        <a class=\"comment_btn j a_show_login\" href=\"https://www.douban.com/register?reason=review\" rel=\"nofollow\">\\n            <span>我要写短评</span>\\n        </a>\\n\\n            \\n            \\n    <h2>\\n        <i class=\"\">绿皮书的短评</i>\\n              · · · · · ·\\n            <span class=\"pl\">\\n            (\\n                <a href=\"https://movie.douban.com/subject/27060077/comments?status=P\">全部 212880 条</a>\\n            )\\n            </span>\\n    </h2>\\n\\n        </div>\\n        <div class=\"mod-bd\">\\n                \\n    <div class=\"tab-hd\">\\n        <a id=\"hot-comments-tab\" href=\"comments\" data-id=\"hot\" class=\"on\">热门</a>&nbsp;/&nbsp;\\n            <a id=\"new-comments-tab\" href=\"comments?sort=time\" data-id=\"new\">最新</a>&nbsp;/&nbsp;\\n        <a id=\"following-comments-tab\" href=\"follows_comments\" data-id=\"following\"  class=\"j a_show_login\">好友</a>\\n    </div>\\n\\n    <div class=\"tab-bd\">\\n        <div id=\"hot-comments\" class=\"tab\">\\n            \\n    \\n        \\n        <div class=\"comment-item\" data-cid=\"1694243468\">\\n            \\n    \\n    <div class=\"comment\">\\n        <h3>\\n            <span class=\"comment-vote\">\\n                <span class=\"votes\">12395</span>\\n                <input value=\"1694243468\" type=\"hidden\"/>\\n                <a href=\"javascript:;\" class=\"j a_show_login\" onclick=\"\">有用</a>\\n            </span>\\n            <span class=\"comment-info\">\\n                <a href=\"https://www.douban.com/people/ljgyhj/\" class=\"\">易老邪</a>\\n                    <span>看过</span>\\n                    <span class=\"allstar30 rating\" title=\"还行\"></span>\\n                <span class=\"comment-time \" title=\"2019-02-26 15:05:41\">\\n                    2019-02-26\\n                </span>\\n            </span>\\n        </h3>\\n        <p class=\"\">\\n            \\n                <span class=\"short\">“如果我不够黑人，也不够白人，又或不够男人，那请你告诉我，托尼，那我到底算是什么人？！”——恭喜，你是最政治正确的人。</span>\\n        </p>\\n    </div>\\n\\n        </div>\\n        \\n        <div class=\"comment-item\" data-cid=\"1698324017\">\\n            \\n    \\n    <div class=\"comment\">\\n        <h3>\\n            <span class=\"comment-vote\">\\n                <span class=\"votes\">8217</span>\\n                <input value=\"1698324017\" type=\"hidden\"/>\\n                <a href=\"javascript:;\" class=\"j a_show_login\" onclick=\"\">有用</a>\\n            </span>\\n            <span class=\"comment-info\">\\n                <a href=\"https://www.douban.com/people/diewithme/\" class=\"\">王大根</a>\\n                    <span>看过</span>\\n                    <span class=\"allstar40 rating\" title=\"推荐\"></span>\\n                <span class=\"comment-time \" title=\"2019-03-01 14:36:16\">\\n                    2019-03-01\\n                </span>\\n            </span>\\n        </h3>\\n        <p class=\"\">\\n            \\n                <span class=\"short\">肯德基年度推广大电影</span>\\n        </p>\\n    </div>\\n\\n        </div>\\n        \\n        <div class=\"comment-item\" data-cid=\"1558702616\">\\n            \\n    \\n    <div class=\"comment\">\\n        <h3>\\n            <span class=\"comment-vote\">\\n                <span class=\"votes\">4709</span>\\n                <input value=\"1558702616\" type=\"hidden\"/>\\n                <a href=\"javascript:;\" class=\"j a_show_login\" onclick=\"\">有用</a>\\n            </span>\\n            <span class=\"comment-info\">\\n                <a href=\"https://www.douban.com/people/3540441/\" class=\"\">同志亦凡人中文站</a>\\n                    <span>看过</span>\\n                    <span class=\"allstar40 rating\" title=\"推荐\"></span>\\n                <span class=\"comment-time \" title=\"2018-12-07 13:36:05\">\\n                    2018-12-07\\n                </span>\\n            </span>\\n        </h3>\\n        <p class=\"\">\\n            \\n                <span class=\"short\">肤色、阶层、性格和性取向天差地远的两个男人，因为音乐而结缘，因为公路旅行而成为一生朋友。有时候才华并不够，还需要勇敢，推倒心中那面墙才能开门见山。电影就像一颗绿色小石子，投入黑白分明的美国社会，激起轻小而美丽的涟漪。虽然有刻意营造的温暖感，但我就是愿意买单~！</span>\\n        </p>\\n    </div>\\n\\n        </div>\\n        \\n        <div class=\"comment-item\" data-cid=\"1540570431\">\\n            \\n    \\n    <div class=\"comment\">\\n        <h3>\\n            <span class=\"comment-vote\">\\n                <span class=\"votes\">3083</span>\\n                <input value=\"1540570431\" type=\"hidden\"/>\\n                <a href=\"javascript:;\" class=\"j a_show_login\" onclick=\"\">有用</a>\\n            </span>\\n            <span class=\"comment-info\">\\n                <a href=\"https://www.douban.com/people/thomasneeson/\" class=\"\">技术原因</a>\\n                    <span>看过</span>\\n                    <span class=\"allstar50 rating\" title=\"力荐\"></span>\\n                <span class=\"comment-time \" title=\"2018-12-09 23:45:34\">\\n                    2018-12-09\\n                </span>\\n            </span>\\n        </h3>\\n        <p class=\"\">\\n            \\n                <span class=\"short\">你知道这个故事要讲什么，你也知道这段旅程会经历什么。你明白这其中并不会触及什么过于深刻的东西，却也展示了许多直白，你明白身份是每个人无法避开的东西，也知道相互理解是多么难得。你会自然地喜欢这些描写得并不太像真实人物的角色，你会跟着那些好笑或其实并不太好笑的片段笑出声来。或许也只是将发笑作为第一反应来化解或掩藏其他的感受。你知道故事和片名说的绿皮书关系其实不算大，你也大概没有想到自己会喜欢这部影片。</span>\\n        </p>\\n    </div>\\n\\n        </div>\\n        \\n        <div class=\"comment-item\" data-cid=\"1627561221\">\\n            \\n    \\n    <div class=\"comment\">\\n        <h3>\\n            <span class=\"comment-vote\">\\n                <span class=\"votes\">1354</span>\\n                <input value=\"1627561221\" type=\"hidden\"/>\\n                <a href=\"javascript:;\" class=\"j a_show_login\" onclick=\"\">有用</a>\\n            </span>\\n            <span class=\"comment-info\">\\n                <a href=\"https://www.douban.com/people/zhangzongqian/\" class=\"\">亵渎电影</a>\\n                    <span>看过</span>\\n                    <span class=\"allstar40 rating\" title=\"推荐\"></span>\\n                <span class=\"comment-time \" title=\"2019-01-14 16:20:07\">\\n                    2019-01-14\\n                </span>\\n            </span>\\n        </h3>\\n        <p class=\"\">\\n            \\n                <span class=\"short\">这部电影的厉害之处就是剧本扎实，在人物塑造和细节上非常出彩。这趟一路向南的旅程到最后也不能让Dr. Don Shirley证明自己在白人心中的地位，他身陷孤独境地也没人帮得了他，除非他自己跟自己和解，自己去完成一场关于自我的救赎。它并没有刻意说教的去讲什么，但每个人都能从中看到不同时代某些群体的遭遇，不仅仅是黑人和白人这么简单。这部电影的主题正如片中那句点睛的台词所说的，因为天才还不够，唯有勇气才...</span>\\n                <span class=\"hide-item full\">这部电影的厉害之处就是剧本扎实，在人物塑造和细节上非常出彩。这趟一路向南的旅程到最后也不能让Dr. Don Shirley证明自己在白人心中的地位，他身陷孤独境地也没人帮得了他，除非他自己跟自己和解，自己去完成一场关于自我的救赎。它并没有刻意说教的去讲什么，但每个人都能从中看到不同时代某些群体的遭遇，不仅仅是黑人和白人这么简单。这部电影的主题正如片中那句点睛的台词所说的，因为天才还不够，唯有勇气才能改变人心，而这就是一部关于勇气和改变的电影。虽然是非常套路化的公路片，拍的却是异常的温暖，剧本非常加分，应该会拿今年奥斯卡的最佳原创剧本吧。★★★★</span>\\n                <span class=\"expand\">(<a href=\"javascript:;\">展开</a>)</span>\\n        </p>\\n    </div>\\n\\n        </div>\\n\\n\\n\\n                \\n                &gt; <a href=\"comments?sort=new_score&status=P\" >更多短评212880条</a>\\n        </div>\\n        <div id=\"new-comments\" class=\"tab\">\\n            <div id=\"normal\">\\n            </div>\\n            <div class=\"fold-hd hide\">\\n                <a class=\"qa\" href=\"/help/opinion#t2-q0\" target=\"_blank\">为什么被折叠？</a>\\n                <a class=\"btn-unfold\" href=\"#\">有一些短评被折叠了</a>\\n                <div class=\"qa-tip\">\\n                    评论被折叠，是因为发布这条评论的帐号行为异常。评论仍可以被展开阅读，对发布人的账号不造成其他影响。如果认为有问题，可以<a href=\"https://help.douban.com/help/ask?category=movie\">联系</a>豆瓣电影。\\n                </div>\\n            </div>\\n            <div class=\"fold-bd\">\\n            </div>\\n            <span id=\"total-num\"></span>\\n        </div>\\n        <div id=\"following-comments\" class=\"tab\">\\n            \\n    \\n\\n\\n        <div class=\"comment-item\">\\n            你关注的人还没写过短评\\n        </div>\\n\\n        </div>\\n    </div>\\n\\n\\n            \\n            \\n        </div>\\n    </div>\\n\\n\\n\\n        \\n\\n<link rel=\"stylesheet\" href=\"https://img3.doubanio.com/misc/mixed_static/5b893040c800d5cd.css\">\\n\\n<section class=\"topics mod\">\\n    <header>\\n        <h2>\\n            绿皮书的话题 · · · · · ·\\n            <span class=\"pl\">( <span class=\"gallery_topics\">全部 <span id=\"topic-count\"></span> 条</span> )</span>\\n        </h2>\\n    </header>\\n\\n    \\n\\n\\n\\n\\n<section class=\"subject-topics\">\\n    <div class=\"topic-guide\" id=\"topic-guide\">\\n        <img class=\"ic_question\" src=\"//img3.doubanio.com/f/ithildin/b1a3edea3d04805f899e9d77c0bfc0d158df10d5/pics/export/icon_question.png\">\\n        <div class=\"tip_content\">\\n            <div class=\"tip_title\">什么是话题</div>\\n            <div class=\"tip_desc\">\\n                <div>无论是一部作品、一个人，还是一件事，都往往可以衍生出许多不同的话题。将这些话题细分出来，分别进行讨论，会有更多收获。</div>\\n            </div>\\n        </div>\\n        <img class=\"ic_guide\" src=\"//img3.doubanio.com/f/ithildin/529f46d86bc08f55cd0b1843d0492242ebbd22de/pics/export/icon_guide_arrow.png\">\\n        <img class=\"ic_close\" id=\"topic-guide-close\" src=\"//img3.doubanio.com/f/ithildin/2eb4ad488cb0854644b23f20b6fa312404429589/pics/export/close@3x.png\">\\n    </div>\\n\\n    <div id=\"topic-items\"></div>\\n\\n    <script>\\n        window.subject_id = 27060077;\\n        window.join_label_text = \\'写影评参与\\';\\n\\n        window.topic_display_count = 4;\\n        window.topic_item_display_count = 1;\\n        window.no_content_fun_call_name = \"no_topic\";\\n\\n        window.guideNode = document.getElementById(\\'topic-guide\\');\\n        window.guideNodeClose = document.getElementById(\\'topic-guide-close\\');\\n    </script>\\n    \\n        <link rel=\"stylesheet\" href=\"https://img3.doubanio.com/f/ithildin/f731c9ea474da58c516290b3a6b1dd1237c07c5e/css/export/subject_topics.css\">\\n        <script src=\"https://img3.doubanio.com/f/ithildin/d3590fc6ac47b33c804037a1aa7eec49075428c8/js/export/moment-with-locales-only-zh.js\"></script>\\n        <script src=\"https://img3.doubanio.com/f/ithildin/c600fdbe69e3ffa5a3919c81ae8c8b4140e99a3e/js/export/subject_topics.js\"></script>\\n\\n</section>\\n\\n    <script>\\n        function no_topic(){\\n            $(\\'#content .topics\\').remove();\\n        }\\n    </script>\\n</section>\\n\\n<section class=\"reviews mod movie-content\">\\n    <header>\\n        <a href=\"new_review\" rel=\"nofollow\" class=\"create-review comment_btn \"\\n            data-isverify=\"False\"\\n            data-verify-url=\"https://www.douban.com/accounts/phone/verify?redir=http://movie.douban.com/subject/27060077/new_review\">\\n            <span>我要写影评</span>\\n        </a>\\n        <h2>\\n            绿皮书的影评 · · · · · ·\\n            <span class=\"pl\">( <a href=\"reviews\">全部 4782 条</a> )</span>\\n        </h2>\\n    </header>\\n\\n    \\n\\n<style>\\n#gallery-topics-selection {\\n  position: fixed;\\n  width: 595px;\\n  padding: 40px 40px 33px 40px;\\n  background: #fff;\\n  border-radius: 10px;\\n  box-shadow: 0 2px 16px 0 rgba(0, 0, 0, 0.2);\\n  top: 50%;\\n  left: 50%;\\n  -webkit-transform: translate(-50%, -50%);\\n  transform: translate(-50%, -50%);\\n  z-index: 9999;\\n}\\n#gallery-topics-selection h1 {\\n  font-size: 18px;\\n  color: #007722;\\n  margin-bottom: 36px;\\n  padding: 0;\\n  line-height: 28px;\\n  font-weight: normal;\\n}\\n#gallery-topics-selection .gl_topics {\\n  border-bottom: 1px solid #dfdfdf;\\n  max-height: 298px;\\n  overflow-y: scroll;\\n}\\n#gallery-topics-selection .topic {\\n  margin-bottom: 24px;\\n}\\n#gallery-topics-selection .topic_name {\\n  font-size: 15px;\\n  color: #333;\\n  margin: 0;\\n  line-height: inherit;\\n}\\n#gallery-topics-selection .topic_meta {\\n  font-size: 13px;\\n  color: #999;\\n}\\n#gallery-topics-selection .topics_skip {\\n  display: block;\\n  cursor: pointer;\\n  font-size: 16px;\\n  color: #3377AA;\\n  text-align: center;\\n  margin-top: 33px;\\n}\\n#gallery-topics-selection .topics_skip:hover {\\n  background: transparent;\\n}\\n#gallery-topics-selection .close_selection {\\n  position: absolute;\\n  width: 30px;\\n  height: 20px;\\n  top: 46px;\\n  right: 40px;\\n  background: #fff;\\n  color: #999;\\n  text-align: right;\\n}\\n#gallery-topics-selection .close_selection:hover{\\n  background: #fff;\\n  color: #999;\\n}\\n</style>\\n\\n\\n\\n\\n        <div class=\"review_filter\">\\n            <a href=\"javascript:;;\" class=\"cur\" data-sort=\"\">热门</a href=\"javascript:;;\"> /\\n            <a href=\"javascript:;;\" data-sort=\"time\">最新</a href=\"javascript:;;\"> /\\n            <a href=\"javascript:;;\" data-sort=\"follow\">好友</a href=\"javascript:;;\">\\n            \\n        </div>\\n\\n\\n        \\n\\n\\n\\n<div class=\"review-list  \">\\n        \\n    \\n\\n        \\n    \\n    <div data-cid=\"9832773\">\\n        <div class=\"main review-item\" id=\"9832773\">\\n\\n            \\n    \\n    <header class=\"main-hd\">\\n        <a href=\"https://www.douban.com/people/2289723/\" class=\"avator\">\\n            <img width=\"24\" height=\"24\" src=\"https://img3.doubanio.com/icon/u2289723-3.jpg\">\\n        </a>\\n\\n        <a href=\"https://www.douban.com/people/2289723/\" class=\"name\">Zzzxueying</a>\\n\\n            <span class=\"allstar50 main-title-rating\" title=\"力荐\"></span>\\n\\n        <span content=\"2018-12-17\" class=\"main-meta\">2018-12-17 08:08:31</span>\\n\\n\\n    </header>\\n\\n\\n            <div class=\"main-bd\">\\n\\n                <h2><a href=\"https://movie.douban.com/review/9832773/\">你看起来像是个爱吃炸鸡的人</a></h2>\\n\\n                <div id=\"review_9832773_short\" class=\"review-short\" data-rid=\"9832773\">\\n                    <div class=\"short-content\">\\n                            <p class=\"spoiler-tip\">这篇影评可能有剧透</p>\\n\\n                        电影名《绿皮书》是一本历史上真实存在的黑人出行指南。在1962年，白人至上运动在美国又一次掀起小高潮，黑人邮政员维克多雨果格林编写了这么一本小册子，指出哪些旅店和餐厅可以让黑人入住和就餐。小册子的名字“Green Book”中的Green即取自格林（Green），又似乎采用了绿色...\\n\\n                        &nbsp;(<a href=\"javascript:;\" id=\"toggle-9832773-copy\" class=\"unfold\" title=\"展开\">展开</a>)\\n                    </div>\\n                </div>\\n\\n                <div id=\"review_9832773_full\" class=\"hidden\">\\n                    <div id=\"review_9832773_full_content\" class=\"full-content\"></div>\\n                </div>\\n\\n                <div class=\"action\">\\n                    <a href=\"javascript:;\" class=\"action-btn up\" data-rid=\"9832773\" title=\"有用\">\\n                        <img src=\"https://img3.doubanio.com/f/zerkalo/536fd337139250b5fb3cf9e79cb65c6193f8b20b/pics/up.png\" />\\n                        <span id=\"r-useful_count-9832773\">\\n                                6237\\n                        </span>\\n                    </a>\\n                    <a href=\"javascript:;\" class=\"action-btn down\" data-rid=\"9832773\" title=\"没用\">\\n                        <img src=\"https://img3.doubanio.com/f/zerkalo/68849027911140623cf338c9845893c4566db851/pics/down.png\" />\\n                        <span id=\"r-useless_count-9832773\">\\n                                220\\n                        </span>\\n                    </a>\\n                    <a href=\"https://movie.douban.com/review/9832773/#comments\" class=\"reply \">740回应</a>\\n\\n                    <a href=\"javascript:;;\" class=\"fold hidden\">收起</a>\\n                </div>\\n            </div>\\n        </div>\\n    </div>\\n\\n        \\n    \\n    <div data-cid=\"10005770\">\\n        <div class=\"main review-item\" id=\"10005770\">\\n\\n            \\n    \\n    <header class=\"main-hd\">\\n        <a href=\"https://www.douban.com/people/Uvo/\" class=\"avator\">\\n            <img width=\"24\" height=\"24\" src=\"https://img1.doubanio.com/icon/u1030253-159.jpg\">\\n        </a>\\n\\n        <a href=\"https://www.douban.com/people/Uvo/\" class=\"name\">咱说</a>\\n\\n            <span class=\"allstar40 main-title-rating\" title=\"推荐\"></span>\\n\\n        <span content=\"2019-02-25\" class=\"main-meta\">2019-02-25 22:50:43</span>\\n\\n\\n    </header>\\n\\n\\n            <div class=\"main-bd\">\\n\\n                <h2><a href=\"https://movie.douban.com/review/10005770/\">自《撞车》以来最逊的奥斯卡最佳影片</a></h2>\\n\\n                <div id=\"review_10005770_short\" class=\"review-short\" data-rid=\"10005770\">\\n                    <div class=\"short-content\">\\n\\n                        今天中午，在《绿皮书》获得奥斯卡最佳影片的那一刻，推特就炸锅了。一位黑人编剧Ira发推吐槽：“《绿皮书》？我看更像是‘白皮’书。”目前这条推已经获得超过四万个赞。接着他还说了一句：“《撞车》正在目睹《绿皮书》取代它成为最逊的奥斯卡赢家。” 美国主流媒体当然也是...\\n\\n                        &nbsp;(<a href=\"javascript:;\" id=\"toggle-10005770-copy\" class=\"unfold\" title=\"展开\">展开</a>)\\n                    </div>\\n                </div>\\n\\n                <div id=\"review_10005770_full\" class=\"hidden\">\\n                    <div id=\"review_10005770_full_content\" class=\"full-content\"></div>\\n                </div>\\n\\n                <div class=\"action\">\\n                    <a href=\"javascript:;\" class=\"action-btn up\" data-rid=\"10005770\" title=\"有用\">\\n                        <img src=\"https://img3.doubanio.com/f/zerkalo/536fd337139250b5fb3cf9e79cb65c6193f8b20b/pics/up.png\" />\\n                        <span id=\"r-useful_count-10005770\">\\n                                3776\\n                        </span>\\n                    </a>\\n                    <a href=\"javascript:;\" class=\"action-btn down\" data-rid=\"10005770\" title=\"没用\">\\n                        <img src=\"https://img3.doubanio.com/f/zerkalo/68849027911140623cf338c9845893c4566db851/pics/down.png\" />\\n                        <span id=\"r-useless_count-10005770\">\\n                                902\\n                        </span>\\n                    </a>\\n                    <a href=\"https://movie.douban.com/review/10005770/#comments\" class=\"reply \">1353回应</a>\\n\\n                    <a href=\"javascript:;;\" class=\"fold hidden\">收起</a>\\n                </div>\\n            </div>\\n        </div>\\n    </div>\\n\\n        \\n    \\n    <div data-cid=\"9892009\">\\n        <div class=\"main review-item\" id=\"9892009\">\\n\\n            \\n    \\n    <header class=\"main-hd\">\\n        <a href=\"https://www.douban.com/people/46894371/\" class=\"avator\">\\n            <img width=\"24\" height=\"24\" src=\"https://img1.doubanio.com/icon/u46894371-18.jpg\">\\n        </a>\\n\\n        <a href=\"https://www.douban.com/people/46894371/\" class=\"name\">Herring</a>\\n\\n            <span class=\"allstar40 main-title-rating\" title=\"推荐\"></span>\\n\\n        <span content=\"2019-01-13\" class=\"main-meta\">2019-01-13 02:01:44</span>\\n\\n            <a class=\"rel-topic\" target=\"_blank\" href=\"//www.douban.com/gallery/topic/《绿皮书》和真实的事件相比，有哪些差异？\">#《绿皮书》和真实的事件相比，有哪些差异？</a>\\n\\n    </header>\\n\\n\\n            <div class=\"main-bd\">\\n\\n                <h2><a href=\"https://movie.douban.com/review/9892009/\">DO and DO NOT List 关于真实的Donald Shirley</a></h2>\\n\\n                <div id=\"review_9892009_short\" class=\"review-short\" data-rid=\"9892009\">\\n                    <div class=\"short-content\">\\n\\n                        原载于 个人公众号：一只开山怪（或搜索：herringcat） 1/15/2019已更新 ----------------------------------------- 5/9再更新： 本文诸多资料均来自外网，我没有翻译的义务，我的义务是陈述我的观点。所以本文有多处英文，如果你看不懂英文，或者不习惯看英文，请不要继续阅...\\n\\n                        &nbsp;(<a href=\"javascript:;\" id=\"toggle-9892009-copy\" class=\"unfold\" title=\"展开\">展开</a>)\\n                    </div>\\n                </div>\\n\\n                <div id=\"review_9892009_full\" class=\"hidden\">\\n                    <div id=\"review_9892009_full_content\" class=\"full-content\"></div>\\n                </div>\\n\\n                <div class=\"action\">\\n                    <a href=\"javascript:;\" class=\"action-btn up\" data-rid=\"9892009\" title=\"有用\">\\n                        <img src=\"https://img3.doubanio.com/f/zerkalo/536fd337139250b5fb3cf9e79cb65c6193f8b20b/pics/up.png\" />\\n                        <span id=\"r-useful_count-9892009\">\\n                                1916\\n                        </span>\\n                    </a>\\n                    <a href=\"javascript:;\" class=\"action-btn down\" data-rid=\"9892009\" title=\"没用\">\\n                        <img src=\"https://img3.doubanio.com/f/zerkalo/68849027911140623cf338c9845893c4566db851/pics/down.png\" />\\n                        <span id=\"r-useless_count-9892009\">\\n                                73\\n                        </span>\\n                    </a>\\n                    <a href=\"https://movie.douban.com/review/9892009/#comments\" class=\"reply \">226回应</a>\\n\\n                    <a href=\"javascript:;;\" class=\"fold hidden\">收起</a>\\n                </div>\\n            </div>\\n        </div>\\n    </div>\\n\\n        \\n    \\n    <div data-cid=\"10035639\">\\n        <div class=\"main review-item\" id=\"10035639\">\\n\\n            \\n    \\n    <header class=\"main-hd\">\\n        <a href=\"https://www.douban.com/people/49510128/\" class=\"avator\">\\n            <img width=\"24\" height=\"24\" src=\"https://img3.doubanio.com/icon/u49510128-10.jpg\">\\n        </a>\\n\\n        <a href=\"https://www.douban.com/people/49510128/\" class=\"name\">Chocolette</a>\\n\\n            <span class=\"allstar50 main-title-rating\" title=\"力荐\"></span>\\n\\n        <span content=\"2019-03-10\" class=\"main-meta\">2019-03-10 23:35:03</span>\\n\\n\\n    </header>\\n\\n\\n            <div class=\"main-bd\">\\n\\n                <h2><a href=\"https://movie.douban.com/review/10035639/\">论《绿皮书》的院线中文字幕有多少错误</a></h2>\\n\\n                <div id=\"review_10035639_short\" class=\"review-short\" data-rid=\"10035639\">\\n                    <div class=\"short-content\">\\n\\n                        二刷《绿皮书》的时候，记录了四十个字幕问题，多数是没有顾及上下文的翻译错误。低级错误的数量之多让我觉得，这部电影的字幕翻译不仅能力有限，而且不负责任。回到家以后，我整理了： 1）所有影响观众对剧情理解的错译和漏译； 2）一些虽不影响剧情理解，但拉低观感的翻译纰...\\n\\n                        &nbsp;(<a href=\"javascript:;\" id=\"toggle-10035639-copy\" class=\"unfold\" title=\"展开\">展开</a>)\\n                    </div>\\n                </div>\\n\\n                <div id=\"review_10035639_full\" class=\"hidden\">\\n                    <div id=\"review_10035639_full_content\" class=\"full-content\"></div>\\n                </div>\\n\\n                <div class=\"action\">\\n                    <a href=\"javascript:;\" class=\"action-btn up\" data-rid=\"10035639\" title=\"有用\">\\n                        <img src=\"https://img3.doubanio.com/f/zerkalo/536fd337139250b5fb3cf9e79cb65c6193f8b20b/pics/up.png\" />\\n                        <span id=\"r-useful_count-10035639\">\\n                                1786\\n                        </span>\\n                    </a>\\n                    <a href=\"javascript:;\" class=\"action-btn down\" data-rid=\"10035639\" title=\"没用\">\\n                        <img src=\"https://img3.doubanio.com/f/zerkalo/68849027911140623cf338c9845893c4566db851/pics/down.png\" />\\n                        <span id=\"r-useless_count-10035639\">\\n                                15\\n                        </span>\\n                    </a>\\n                    <a href=\"https://movie.douban.com/review/10035639/#comments\" class=\"reply \">239回应</a>\\n\\n                    <a href=\"javascript:;;\" class=\"fold hidden\">收起</a>\\n                </div>\\n            </div>\\n        </div>\\n    </div>\\n\\n        \\n    \\n    <div data-cid=\"10007941\">\\n        <div class=\"main review-item\" id=\"10007941\">\\n\\n            \\n    \\n    <header class=\"main-hd\">\\n        <a href=\"https://www.douban.com/people/53518120/\" class=\"avator\">\\n            <img width=\"24\" height=\"24\" src=\"https://img3.doubanio.com/icon/u53518120-2.jpg\">\\n        </a>\\n\\n        <a href=\"https://www.douban.com/people/53518120/\" class=\"name\">咸鱼小橘</a>\\n\\n            <span class=\"allstar50 main-title-rating\" title=\"力荐\"></span>\\n\\n        <span content=\"2019-02-26\" class=\"main-meta\">2019-02-26 23:38:17</span>\\n\\n            <a class=\"rel-topic\" target=\"_blank\" href=\"//www.douban.com/gallery/topic/《绿皮书》有哪些有趣的设定？\">#《绿皮书》有哪些有趣的设定？</a>\\n\\n    </header>\\n\\n\\n            <div class=\"main-bd\">\\n\\n                <h2><a href=\"https://movie.douban.com/review/10007941/\">《绿皮书》有哪些有趣的设定？</a></h2>\\n\\n                <div id=\"review_10007941_short\" class=\"review-short\" data-rid=\"10007941\">\\n                    <div class=\"short-content\">\\n                            <p class=\"spoiler-tip\">这篇影评可能有剧透</p>\\n\\n                        个人微信公众号：咸鱼小橘   以后的影评会首发于该微信公众号 1、接地气的炸鸡梗。Tony向Shirley强势安利黑人爱吃的炸鸡，刚开始Shirley一脸嫌弃，后来翘着兰花指吃得超享受（这一幕绝对名场面），再后来有一站巡演富丽堂皇的餐厅里端出来Shirley最爱的食物居然是炸鸡。高雅的...\\n\\n                        &nbsp;(<a href=\"javascript:;\" id=\"toggle-10007941-copy\" class=\"unfold\" title=\"展开\">展开</a>)\\n                    </div>\\n                </div>\\n\\n                <div id=\"review_10007941_full\" class=\"hidden\">\\n                    <div id=\"review_10007941_full_content\" class=\"full-content\"></div>\\n                </div>\\n\\n                <div class=\"action\">\\n                    <a href=\"javascript:;\" class=\"action-btn up\" data-rid=\"10007941\" title=\"有用\">\\n                        <img src=\"https://img3.doubanio.com/f/zerkalo/536fd337139250b5fb3cf9e79cb65c6193f8b20b/pics/up.png\" />\\n                        <span id=\"r-useful_count-10007941\">\\n                                3476\\n                        </span>\\n                    </a>\\n                    <a href=\"javascript:;\" class=\"action-btn down\" data-rid=\"10007941\" title=\"没用\">\\n                        <img src=\"https://img3.doubanio.com/f/zerkalo/68849027911140623cf338c9845893c4566db851/pics/down.png\" />\\n                        <span id=\"r-useless_count-10007941\">\\n                                76\\n                        </span>\\n                    </a>\\n                    <a href=\"https://movie.douban.com/review/10007941/#comments\" class=\"reply \">519回应</a>\\n\\n                    <a href=\"javascript:;;\" class=\"fold hidden\">收起</a>\\n                </div>\\n            </div>\\n        </div>\\n    </div>\\n\\n        \\n    \\n    <div data-cid=\"9913222\">\\n        <div class=\"main review-item\" id=\"9913222\">\\n\\n            \\n    \\n    <header class=\"main-hd\">\\n        <a href=\"https://www.douban.com/people/pocier/\" class=\"avator\">\\n            <img width=\"24\" height=\"24\" src=\"https://img3.doubanio.com/icon/u182164233-5.jpg\">\\n        </a>\\n\\n        <a href=\"https://www.douban.com/people/pocier/\" class=\"name\">破词儿</a>\\n\\n            <span class=\"allstar50 main-title-rating\" title=\"力荐\"></span>\\n\\n        <span content=\"2019-01-23\" class=\"main-meta\">2019-01-23 09:57:25</span>\\n\\n\\n    </header>\\n\\n\\n            <div class=\"main-bd\">\\n\\n                <h2><a href=\"https://movie.douban.com/review/9913222/\">你不知道的“绿皮书”背后的故事</a></h2>\\n\\n                <div id=\"review_9913222_short\" class=\"review-short\" data-rid=\"9913222\">\\n                    <div class=\"short-content\">\\n\\n                        1956年，爵士音乐人纳金高尔(Nat King Cole)受邀在美国南部的伯明翰地区为观众作表演。 台下的观众都是全白人，而纳金高尔是第一个受邀在白人机构演出的黑人，结果，他刚开始演出，就被3K党的人推下了舞台、遭到了暴烈殴打。 [绿皮书]里，当白人司机好奇唐谢利(Don Shirley)为...\\n\\n                        &nbsp;(<a href=\"javascript:;\" id=\"toggle-9913222-copy\" class=\"unfold\" title=\"展开\">展开</a>)\\n                    </div>\\n                </div>\\n\\n                <div id=\"review_9913222_full\" class=\"hidden\">\\n                    <div id=\"review_9913222_full_content\" class=\"full-content\"></div>\\n                </div>\\n\\n                <div class=\"action\">\\n                    <a href=\"javascript:;\" class=\"action-btn up\" data-rid=\"9913222\" title=\"有用\">\\n                        <img src=\"https://img3.doubanio.com/f/zerkalo/536fd337139250b5fb3cf9e79cb65c6193f8b20b/pics/up.png\" />\\n                        <span id=\"r-useful_count-9913222\">\\n                                1108\\n                        </span>\\n                    </a>\\n                    <a href=\"javascript:;\" class=\"action-btn down\" data-rid=\"9913222\" title=\"没用\">\\n                        <img src=\"https://img3.doubanio.com/f/zerkalo/68849027911140623cf338c9845893c4566db851/pics/down.png\" />\\n                        <span id=\"r-useless_count-9913222\">\\n                                18\\n                        </span>\\n                    </a>\\n                    <a href=\"https://movie.douban.com/review/9913222/#comments\" class=\"reply \">66回应</a>\\n\\n                    <a href=\"javascript:;;\" class=\"fold hidden\">收起</a>\\n                </div>\\n            </div>\\n        </div>\\n    </div>\\n\\n        \\n    \\n    <div data-cid=\"9902850\">\\n        <div class=\"main review-item\" id=\"9902850\">\\n\\n            \\n    \\n    <header class=\"main-hd\">\\n        <a href=\"https://www.douban.com/people/161866367/\" class=\"avator\">\\n            <img width=\"24\" height=\"24\" src=\"https://img3.doubanio.com/icon/u161866367-1.jpg\">\\n        </a>\\n\\n        <a href=\"https://www.douban.com/people/161866367/\" class=\"name\">Heilger</a>\\n\\n            <span class=\"allstar30 main-title-rating\" title=\"还行\"></span>\\n\\n        <span content=\"2019-01-18\" class=\"main-meta\">2019-01-18 09:53:52</span>\\n\\n            <a class=\"rel-topic\" target=\"_blank\" href=\"//www.douban.com/gallery/topic/《绿皮书》和真实的事件相比，有哪些差异？\">#《绿皮书》和真实的事件相比，有哪些差异？</a>\\n\\n    </header>\\n\\n\\n            <div class=\"main-bd\">\\n\\n                <h2><a href=\"https://movie.douban.com/review/9902850/\">《绿皮书》和真实的事件相比，有哪些差异？</a></h2>\\n\\n                <div id=\"review_9902850_short\" class=\"review-short\" data-rid=\"9902850\">\\n                    <div class=\"short-content\">\\n\\n                        真实的 Don Shirley，不是一个远离黑人社区，不懂黑人音乐的人。他积极参与黑人民权运动，他是 Dr. King的朋友，一起参与过在Selma的游行。他和黑人音乐家 Nina Simone，Duke Ellington和Sarah Vaughn 都是极为亲密的朋友。 真实的Don Shirley，并没有跟家人疏远。电影里面说他...\\n\\n                        &nbsp;(<a href=\"javascript:;\" id=\"toggle-9902850-copy\" class=\"unfold\" title=\"展开\">展开</a>)\\n                    </div>\\n                </div>\\n\\n                <div id=\"review_9902850_full\" class=\"hidden\">\\n                    <div id=\"review_9902850_full_content\" class=\"full-content\"></div>\\n                </div>\\n\\n                <div class=\"action\">\\n                    <a href=\"javascript:;\" class=\"action-btn up\" data-rid=\"9902850\" title=\"有用\">\\n                        <img src=\"https://img3.doubanio.com/f/zerkalo/536fd337139250b5fb3cf9e79cb65c6193f8b20b/pics/up.png\" />\\n                        <span id=\"r-useful_count-9902850\">\\n                                466\\n                        </span>\\n                    </a>\\n                    <a href=\"javascript:;\" class=\"action-btn down\" data-rid=\"9902850\" title=\"没用\">\\n                        <img src=\"https://img3.doubanio.com/f/zerkalo/68849027911140623cf338c9845893c4566db851/pics/down.png\" />\\n                        <span id=\"r-useless_count-9902850\">\\n                                25\\n                        </span>\\n                    </a>\\n                    <a href=\"https://movie.douban.com/review/9902850/#comments\" class=\"reply \">131回应</a>\\n\\n                    <a href=\"javascript:;;\" class=\"fold hidden\">收起</a>\\n                </div>\\n            </div>\\n        </div>\\n    </div>\\n\\n        \\n    \\n    <div data-cid=\"9949635\">\\n        <div class=\"main review-item\" id=\"9949635\">\\n\\n            \\n    \\n    <header class=\"main-hd\">\\n        <a href=\"https://www.douban.com/people/4448539/\" class=\"avator\">\\n            <img width=\"24\" height=\"24\" src=\"https://img3.doubanio.com/icon/u4448539-32.jpg\">\\n        </a>\\n\\n        <a href=\"https://www.douban.com/people/4448539/\" class=\"name\">夜第七章</a>\\n\\n            <span class=\"allstar40 main-title-rating\" title=\"推荐\"></span>\\n\\n        <span content=\"2019-02-08\" class=\"main-meta\">2019-02-08 09:16:24</span>\\n\\n            <a class=\"rel-topic\" target=\"_blank\" href=\"//www.douban.com/gallery/topic/《绿皮书》和真实的事件相比，有哪些差异？\">#《绿皮书》和真实的事件相比，有哪些差异？</a>\\n\\n    </header>\\n\\n\\n            <div class=\"main-bd\">\\n\\n                <h2><a href=\"https://movie.douban.com/review/9949635/\">喧嚣与孤独，构成人生的全部迷局</a></h2>\\n\\n                <div id=\"review_9949635_short\" class=\"review-short\" data-rid=\"9949635\">\\n                    <div class=\"short-content\">\\n\\n                        一 列维-斯特劳斯在《忧郁的热带》写道：「有些属于过去的小细节，现在却突耸如山峰，而我自己生命里整层整层的过去却消逝无迹。一些看起来毫不相关的事件，发生于不同的地方，来源于不同的时期，都互相接触交错，突然结晶成某种纪念物。」 在《绿皮书》的最后，当我看到Don把T...\\n\\n                        &nbsp;(<a href=\"javascript:;\" id=\"toggle-9949635-copy\" class=\"unfold\" title=\"展开\">展开</a>)\\n                    </div>\\n                </div>\\n\\n                <div id=\"review_9949635_full\" class=\"hidden\">\\n                    <div id=\"review_9949635_full_content\" class=\"full-content\"></div>\\n                </div>\\n\\n                <div class=\"action\">\\n                    <a href=\"javascript:;\" class=\"action-btn up\" data-rid=\"9949635\" title=\"有用\">\\n                        <img src=\"https://img3.doubanio.com/f/zerkalo/536fd337139250b5fb3cf9e79cb65c6193f8b20b/pics/up.png\" />\\n                        <span id=\"r-useful_count-9949635\">\\n                                1229\\n                        </span>\\n                    </a>\\n                    <a href=\"javascript:;\" class=\"action-btn down\" data-rid=\"9949635\" title=\"没用\">\\n                        <img src=\"https://img3.doubanio.com/f/zerkalo/68849027911140623cf338c9845893c4566db851/pics/down.png\" />\\n                        <span id=\"r-useless_count-9949635\">\\n                                21\\n                        </span>\\n                    </a>\\n                    <a href=\"https://movie.douban.com/review/9949635/#comments\" class=\"reply \">90回应</a>\\n\\n                    <a href=\"javascript:;;\" class=\"fold hidden\">收起</a>\\n                </div>\\n            </div>\\n        </div>\\n    </div>\\n\\n        \\n    \\n    <div data-cid=\"9910387\">\\n        <div class=\"main review-item\" id=\"9910387\">\\n\\n            \\n    \\n    <header class=\"main-hd\">\\n        <a href=\"https://www.douban.com/people/IvanLaw7/\" class=\"avator\">\\n            <img width=\"24\" height=\"24\" src=\"https://img3.doubanio.com/icon/u75627328-13.jpg\">\\n        </a>\\n\\n        <a href=\"https://www.douban.com/people/IvanLaw7/\" class=\"name\">狗意志零年</a>\\n\\n            <span class=\"allstar50 main-title-rating\" title=\"力荐\"></span>\\n\\n        <span content=\"2019-01-21\" class=\"main-meta\">2019-01-21 20:58:49</span>\\n\\n\\n    </header>\\n\\n\\n            <div class=\"main-bd\">\\n\\n                <h2><a href=\"https://movie.douban.com/review/9910387/\">《绿皮书》拉片笔记</a></h2>\\n\\n                <div id=\"review_9910387_short\" class=\"review-short\" data-rid=\"9910387\">\\n                    <div class=\"short-content\">\\n\\n                        第一幕 第一序列：（人物出场） 1.大佬罗斯古德将珍贵的帽子放在酒吧衣帽间，托尼偷偷拿走 2.托尼在酒吧里用武力结局麻烦 3.罗斯古德因帽子丢失暴怒，致酒吧停业（激励事件，伏笔） 4.托尼将帽子送还罗斯古德，赢得好感 第二序列：（托尼的家庭） 5.托尼起床后发现两名黑人工人...\\n\\n                        &nbsp;(<a href=\"javascript:;\" id=\"toggle-9910387-copy\" class=\"unfold\" title=\"展开\">展开</a>)\\n                    </div>\\n                </div>\\n\\n                <div id=\"review_9910387_full\" class=\"hidden\">\\n                    <div id=\"review_9910387_full_content\" class=\"full-content\"></div>\\n                </div>\\n\\n                <div class=\"action\">\\n                    <a href=\"javascript:;\" class=\"action-btn up\" data-rid=\"9910387\" title=\"有用\">\\n                        <img src=\"https://img3.doubanio.com/f/zerkalo/536fd337139250b5fb3cf9e79cb65c6193f8b20b/pics/up.png\" />\\n                        <span id=\"r-useful_count-9910387\">\\n                                445\\n                        </span>\\n                    </a>\\n                    <a href=\"javascript:;\" class=\"action-btn down\" data-rid=\"9910387\" title=\"没用\">\\n                        <img src=\"https://img3.doubanio.com/f/zerkalo/68849027911140623cf338c9845893c4566db851/pics/down.png\" />\\n                        <span id=\"r-useless_count-9910387\">\\n                                19\\n                        </span>\\n                    </a>\\n                    <a href=\"https://movie.douban.com/review/9910387/#comments\" class=\"reply \">93回应</a>\\n\\n                    <a href=\"javascript:;;\" class=\"fold hidden\">收起</a>\\n                </div>\\n            </div>\\n        </div>\\n    </div>\\n\\n        \\n    \\n    <div data-cid=\"9984921\">\\n        <div class=\"main review-item\" id=\"9984921\">\\n\\n            \\n    \\n    <header class=\"main-hd\">\\n        <a href=\"https://www.douban.com/people/colinpark/\" class=\"avator\">\\n            <img width=\"24\" height=\"24\" src=\"https://img3.doubanio.com/icon/u49097402-173.jpg\">\\n        </a>\\n\\n        <a href=\"https://www.douban.com/people/colinpark/\" class=\"name\">西帕克</a>\\n\\n            <span class=\"allstar30 main-title-rating\" title=\"还行\"></span>\\n\\n        <span content=\"2019-02-17\" class=\"main-meta\">2019-02-17 14:27:08</span>\\n\\n\\n    </header>\\n\\n\\n            <div class=\"main-bd\">\\n\\n                <h2><a href=\"https://movie.douban.com/review/9984921/\">世界上有两种黑人，一种是家养黑人，一种是田野黑人</a></h2>\\n\\n                <div id=\"review_9984921_short\" class=\"review-short\" data-rid=\"9984921\">\\n                    <div class=\"short-content\">\\n\\n                        文：西帕克 1989年，由摩根·弗里曼主演的《为黛西小姐开车》以黑马的姿态杀入奥斯卡，最终拿下包括最佳影片和最佳女主角在内的四项大奖，然而演技爆棚的弗里曼并未拿奖。在整整30年之后，由彼得·法雷利执导的《绿皮书》则是一部黑白反转的《为黛西小姐开车》，并以黑马的姿态...\\n\\n                        &nbsp;(<a href=\"javascript:;\" id=\"toggle-9984921-copy\" class=\"unfold\" title=\"展开\">展开</a>)\\n                    </div>\\n                </div>\\n\\n                <div id=\"review_9984921_full\" class=\"hidden\">\\n                    <div id=\"review_9984921_full_content\" class=\"full-content\"></div>\\n                </div>\\n\\n                <div class=\"action\">\\n                    <a href=\"javascript:;\" class=\"action-btn up\" data-rid=\"9984921\" title=\"有用\">\\n                        <img src=\"https://img3.doubanio.com/f/zerkalo/536fd337139250b5fb3cf9e79cb65c6193f8b20b/pics/up.png\" />\\n                        <span id=\"r-useful_count-9984921\">\\n                                139\\n                        </span>\\n                    </a>\\n                    <a href=\"javascript:;\" class=\"action-btn down\" data-rid=\"9984921\" title=\"没用\">\\n                        <img src=\"https://img3.doubanio.com/f/zerkalo/68849027911140623cf338c9845893c4566db851/pics/down.png\" />\\n                        <span id=\"r-useless_count-9984921\">\\n                                16\\n                        </span>\\n                    </a>\\n                    <a href=\"https://movie.douban.com/review/9984921/#comments\" class=\"reply \">23回应</a>\\n\\n                    <a href=\"javascript:;;\" class=\"fold hidden\">收起</a>\\n                </div>\\n            </div>\\n        </div>\\n    </div>\\n\\n\\n\\n\\n    \\n\\n    \\n\\n    <script type=\"text/javascript\" src=\"https://img3.doubanio.com/misc/mixed_static/15e1d7f0cbfda4d8.js\"></script>\\n    <!-- COLLECTED CSS -->\\n</div>\\n\\n\\n\\n\\n\\n\\n\\n\\n            <p class=\"pl\">\\n                &gt;\\n                <a href=\"reviews\">\\n                    更多影评4782篇\\n                </a>\\n            </p>\\n</section>\\n\\n<!-- COLLECTED JS -->\\n\\n    <br/>\\n\\n            \\n    <div class=\"section-discussion\">\\n        <div class=\"hd-ops\">\\n            <a class=\"comment_btn j a_show_login\" href=\"https://www.douban.com/register?reason=discussion\" rel=\"nofollow\"><span>发起新的讨论</span></a>\\n        </div>\\n        <div class=\"mod-hd\">\\n            \\n    <h2>\\n        小组讨论\\n         &nbsp; &middot;&nbsp; &middot;&nbsp; &middot;&nbsp; &middot;&nbsp; &middot;&nbsp; &middot;\\n    </h2>\\n\\n        </div>\\n        \\n  <table class=\"olt\"><tr><td><td><td><td></tr>\\n        \\n        <tr>\\n          <td class=\"pl\"><a href=\"https://www.douban.com/group/topic/136300559/\" title=\"你认为的世界不是真实的（绿皮书观后记）\">你认为的世界不是真实的（绿皮书观后记）</a></td>\\n          <td class=\"pl\"><span>来自</span><a href=\"https://www.douban.com/people/84053073/\">和飞机赛跑</a></td>\\n          <td class=\"pl\"><span>25 回应</span></td>\\n          <td class=\"pl\"><span>2019-07-15</span></td>\\n        </tr>\\n        \\n        <tr>\\n          <td class=\"pl\"><a href=\"https://www.douban.com/group/topic/145238738/\" title=\"为什么黑人最后一次不去演出？\">为什么黑人最后一次不去演出？</a></td>\\n          <td class=\"pl\"><span>来自</span><a href=\"https://www.douban.com/people/192358836/\">沐辰独秀</a></td>\\n          <td class=\"pl\"><span>2 回应</span></td>\\n          <td class=\"pl\"><span>2019-07-14</span></td>\\n        </tr>\\n        \\n        <tr>\\n          <td class=\"pl\"><a href=\"https://www.douban.com/group/topic/134979584/\" title=\"高达8.9分？黑人主题、音乐家故事，这些隔了一个太贫洋的东西，也不知道能戳中中国观众身上哪个点？\">高达8.9分？黑人主题、音乐家故事，这些隔了一个太...</a></td>\\n          <td class=\"pl\"><span>来自</span><a href=\"https://www.douban.com/people/119123665/\">term2000</a></td>\\n          <td class=\"pl\"><span>19 回应</span></td>\\n          <td class=\"pl\"><span>2019-07-14</span></td>\\n        </tr>\\n        \\n        <tr>\\n          <td class=\"pl\"><a href=\"https://www.douban.com/group/topic/145706408/\" title=\"为什么两人没有合照？\">为什么两人没有合照？</a></td>\\n          <td class=\"pl\"><span>来自</span><a href=\"https://www.douban.com/people/56171917/\">浅山</a></td>\\n          <td class=\"pl\"><span></span></td>\\n          <td class=\"pl\"><span>2019-07-14</span></td>\\n        </tr>\\n        \\n        <tr>\\n          <td class=\"pl\"><a href=\"https://www.douban.com/group/topic/145626667/\" title=\"本人很早看过，结尾睡着了啊\">本人很早看过，结尾睡着了啊</a></td>\\n          <td class=\"pl\"><span>来自</span><a href=\"https://www.douban.com/people/199510238/\">郭璟GJ</a></td>\\n          <td class=\"pl\"><span>2 回应</span></td>\\n          <td class=\"pl\"><span>2019-07-13</span></td>\\n        </tr>\\n        \\n        <tr>\\n          <td class=\"pl\"><a href=\"https://www.douban.com/group/topic/136449161/\" title=\"所以托尼到底有没有偷绿宝石？\">所以托尼到底有没有偷绿宝石？</a></td>\\n          <td class=\"pl\"><span>来自</span><a href=\"https://www.douban.com/people/lovevani/\">迷幻小飞碟</a></td>\\n          <td class=\"pl\"><span>16 回应</span></td>\\n          <td class=\"pl\"><span>2019-07-12</span></td>\\n        </tr>\\n        \\n        <tr>\\n          <td class=\"pl\"><a href=\"https://www.douban.com/group/topic/134753169/\" title=\"绿皮书和触不可及 大家觉得哪个更好\">绿皮书和触不可及 大家觉得哪个更好</a></td>\\n          <td class=\"pl\"><span>来自</span><a href=\"https://www.douban.com/people/163937040/\">Kai</a></td>\\n          <td class=\"pl\"><span>32 回应</span></td>\\n          <td class=\"pl\"><span>2019-07-12</span></td>\\n        </tr>\\n        \\n        <tr>\\n          <td class=\"pl\"><a href=\"https://www.douban.com/group/topic/143832831/\" title=\"托尼哪来的枪？\">托尼哪来的枪？</a></td>\\n          <td class=\"pl\"><span>来自</span><a href=\"https://www.douban.com/people/197508343/\">已注销</a></td>\\n          <td class=\"pl\"><span>16 回应</span></td>\\n          <td class=\"pl\"><span>2019-07-11</span></td>\\n        </tr>\\n        \\n        <tr>\\n          <td class=\"pl\"><a href=\"https://www.douban.com/group/topic/142179172/\" title=\"就我一个人看出来了吗？黑人雇个白人当司机，明显是向人们尤其是黑奴展示黑人可以雇白人做仆人！\">就我一个人看出来了吗？黑人雇个白人当司机，明显...</a></td>\\n          <td class=\"pl\"><span>来自</span><a href=\"https://www.douban.com/people/66826848/\">chenyqswu</a></td>\\n          <td class=\"pl\"><span>19 回应</span></td>\\n          <td class=\"pl\"><span>2019-07-09</span></td>\\n        </tr>\\n        \\n        <tr>\\n          <td class=\"pl\"><a href=\"https://www.douban.com/group/topic/142252267/\" title=\"为什么电影名叫绿皮书\">为什么电影名叫绿皮书</a></td>\\n          <td class=\"pl\"><span>来自</span><a href=\"https://www.douban.com/people/130278316/\">步履不停</a></td>\\n          <td class=\"pl\"><span>2 回应</span></td>\\n          <td class=\"pl\"><span>2019-07-08</span></td>\\n        </tr>\\n  </table>\\n\\n        <p class=\"pl\" align=\"right\">\\n            <a href=\"//www.douban.com/group/655862\" rel=\"nofollow\">\\n                &gt; 去这部电影的小组讨论（全部590条）\\n            </a>\\n        </p>\\n    </div>\\n\\n\\n        \\n    \\n        \\n                \\n\\n\\n\\n\\n\\n<div id=\"askmatrix\">\\n    <div class=\"mod-hd\">\\n        <h2>\\n            关于《绿皮书》的问题\\n            · · · · · ·\\n            <span class=\"pl\">\\n                (<a href=\\'https://movie.douban.com/subject/27060077/questions/?from=subject\\'>\\n                    全部59个\\n                </a>)\\n            </span>\\n        </h2>\\n\\n\\n        \\n    \\n    <a class=\\'j a_show_login comment_btn\\'\\n        href=\\'https://movie.douban.com/subject/27060077/questions/ask/?from=subject\\'>我来提问</a>\\n\\n    </div>\\n\\n    <div class=\"mod-bd\">\\n        <ul class=\"\">\\n            <li class=\"\">\\n                <span class=\"tit\">\\n                    <a href=\"https://movie.douban.com/subject/27060077/questions/823880/?from=subject\" class=\"\">\\n                            为什么男主开始很不待见黑人？但是和黑人音乐家上路之后，对他这么好？\\n                    </a>\\n                </span>\\n                <span class=\"meta\">\\n                    12人回答\\n                </span>\\n            </li>\\n            <li class=\"\">\\n                <span class=\"tit\">\\n                    <a href=\"https://movie.douban.com/subject/27060077/questions/823884/?from=subject\" class=\"\">\\n                            为什么跟音乐家叫doctor?医生？\\n                    </a>\\n                </span>\\n                <span class=\"meta\">\\n                    6人回答\\n                </span>\\n            </li>\\n        </ul>\\n\\n        <p>&gt;\\n            <a href=\\'https://movie.douban.com/subject/27060077/questions/?from=subject\\'>\\n                全部59个问题\\n            </a>\\n        </p>\\n\\n    </div>\\n</div>\\n\\n\\n\\n            \\n\\n\\n    <script type=\"text/javascript\">\\n        $(function(){if($.browser.msie && $.browser.version == 6.0){\\n            var $info = $(\\'#info\\'),\\n                maxWidth = parseInt($info.css(\\'max-width\\'));\\n            if($info.width() > maxWidth) {\\n                $info.width(maxWidth);\\n            }\\n        }});\\n    </script>\\n\\n\\n            </div>\\n            <div class=\"aside\">\\n                \\n\\n\\n    \\n\\n\\n\\n\\n\\n\\n\\n\\n        \\n\\n\\n\\n\\n\\n\\n    \\n\\n<script id=\"episode-tmpl\" type=\"text/x-jsrender\">\\n<div id=\"tv-play-source\" class=\"play-source\">\\n    <div class=\"cross\">\\n        <span style=\"color:#494949; font-size:16px\">{{:cn}}</span>\\n        <span style=\"cursor:pointer\">✕</span>\\n    </div>\\n    <div class=\"episode-list\">\\n        {{for playlist}}\\n            <a href=\"{{:play_link}}&episode={{:ep}}\" target=\"_blank\">{{:ep}}集</a>\\n        {{/for}}\\n     <div>\\n </div>\\n</script>\\n\\n<div class=\"gray_ad\">\\n    \\n    <h2>\\n        在哪儿看这部电影\\n            &nbsp;&middot;&nbsp;&middot;&nbsp;&middot;&nbsp;&middot;&nbsp;&middot;&nbsp;&middot;\\n    </h2>\\n\\n    \\n    <ul class=\"bs\">\\n                <li>\\n                        <a class=\"playBtn\" data-cn=\"优酷视频\" href=\"https://www.douban.com/link2/?url=http%3A%2F%2Fv.youku.com%2Fv_show%2Fid_XNDA4MDcyMDI0OA%3D%3D.html%3Ftpa%3DdW5pb25faWQ9MzAwMDA4XzEwMDAwMl8wMl8wMQ%26refer%3Desfhz_operation.xuka.xj_00003036_000000_FNZfau_19010900&amp;subtype=3&amp;type=online-video\" target=\"_blank\">\\n                            优酷视频\\n                        </a>\\n                    <span class=\"buylink-price\"><span>\\n                        VIP免费观看\\n                    </span></span>\\n                </li>\\n                <li>\\n                        <a class=\"playBtn\" data-cn=\"腾讯视频\" href=\"https://www.douban.com/link2/?url=http%3A%2F%2Fv.qq.com%2Fx%2Fcover%2Fr9umzdo0yjelfg1.html%3Fptag%3Ddouban.movie&amp;subtype=1&amp;type=online-video\" target=\"_blank\">\\n                            腾讯视频\\n                        </a>\\n                    <span class=\"buylink-price\"><span>\\n                        VIP免费观看\\n                    </span></span>\\n                </li>\\n\\n    </ul>\\n</div>\\n\\n\\n    <!-- douban ad begin -->\\n    <div id=\"dale_movie_subject_top_right\"></div>\\n    <div id=\"dale_movie_subject_top_middle\"></div>\\n    <!-- douban ad end -->\\n\\n    \\n\\n\\n\\n<style type=\"text/css\">\\n    .m4 {margin-bottom:8px; padding-bottom:8px;}\\n    .movieOnline {background:#FFF6ED; padding:10px; margin-bottom:20px;}\\n    .movieOnline h2 {margin:0 0 5px;}\\n    .movieOnline .sitename {line-height:2em; width:160px;}\\n    .movieOnline td,.movieOnline td a:link,.movieOnline td a:visited{color:#666;}\\n    .movieOnline td a:hover {color:#fff;}\\n    .link-bt:link,\\n    .link-bt:visited,\\n    .link-bt:hover,\\n    .link-bt:active {margin:5px 0 0; padding:2px 8px; background:#a8c598; color:#fff; -moz-border-radius: 3px; -webkit-border-radius: 3px; border-radius: 3px; display:inline-block;}\\n</style>\\n\\n\\n\\n    \\n\\n\\n\\n\\n\\n\\n\\n    \\n    <div class=\"tags\">\\n        \\n        \\n    <h2>\\n        <i class=\"\">豆瓣成员常用的标签</i>\\n              · · · · · ·\\n    </h2>\\n\\n        <div class=\"tags-body\">\\n                <a href=\"/tag/黑人平权\" class=\"\">黑人平权</a>\\n                <a href=\"/tag/种族\" class=\"\">种族</a>\\n                <a href=\"/tag/温情\" class=\"\">温情</a>\\n                <a href=\"/tag/美国\" class=\"\">美国</a>\\n                <a href=\"/tag/真实事件改编\" class=\"\">真实事件改编</a>\\n                <a href=\"/tag/公路\" class=\"\">公路</a>\\n                <a href=\"/tag/剧情\" class=\"\">剧情</a>\\n                <a href=\"/tag/喜剧\" class=\"\">喜剧</a>\\n        </div>\\n    </div>\\n\\n\\n    <div id=\"dale_movie_review_right_guess_you_like\"></div>\\n    <div id=\"dale_movie_subject_inner_middle\"></div>\\n    <div id=\"dale_movie_subject_download_middle\"></div>\\n        \\n\\n\\n\\n\\n\\n\\n\\n\\n<div id=\"subject-doulist\">\\n    \\n    \\n    <h2>\\n        <i class=\"\">以下豆列推荐</i>\\n              · · · · · ·\\n            <span class=\"pl\">\\n            (\\n                <a href=\"https://movie.douban.com/subject/27060077/doulists\">全部</a>\\n            )\\n            </span>\\n    </h2>\\n\\n\\n    \\n    <ul>\\n            <li>\\n                <a href=\"https://www.douban.com/doulist/17057/\" target=\"_blank\">奥斯卡最佳影片</a>\\n                <span>(Boward)</span>\\n            </li>\\n            <li>\\n                <a href=\"https://www.douban.com/doulist/30299/\" target=\"_blank\">豆瓣电影【口碑榜】2019-07-02 更新</a>\\n                <span>(影志)</span>\\n            </li>\\n            <li>\\n                <a href=\"https://www.douban.com/doulist/30711/\" target=\"_blank\">怪盗披头三【五星乱炖】</a>\\n                <span>(怪盗披头三)</span>\\n            </li>\\n            <li>\\n                <a href=\"https://www.douban.com/doulist/1518184/\" target=\"_blank\">IMDB TOP 250 UPDATE 20190713</a>\\n                <span>(lelechen)</span>\\n            </li>\\n            <li>\\n                <a href=\"https://www.douban.com/doulist/13712178/\" target=\"_blank\">评价人数超过十万的电影（按人数排序）</a>\\n                <span>(依然饭特稀)</span>\\n            </li>\\n    </ul>\\n\\n</div>\\n\\n            \\n\\n\\n\\n\\n\\n\\n\\n\\n<div id=\"subject-others-interests\">\\n    \\n    \\n    <h2>\\n        <i class=\"\">谁在看这部电影</i>\\n              · · · · · ·\\n    </h2>\\n\\n    \\n    <ul class=\"\">\\n            \\n            <li class=\"\">\\n                <a href=\"https://www.douban.com/people/199775288/\" class=\"others-interest-avatar\">\\n                    <img src=\"https://img3.doubanio.com/icon/u199775288-1.jpg\" class=\"pil\" alt=\"够钟\">\\n                </a>\\n                <div class=\"others-interest-info\">\\n                    <a href=\"https://www.douban.com/people/199775288/\" class=\"\">够钟</a>\\n                    <div class=\"\">\\n                        刚刚\\n                        想看\\n                        \\n                    </div>\\n                </div>\\n            </li>\\n            \\n            <li class=\"\">\\n                <a href=\"https://www.douban.com/people/194499334/\" class=\"others-interest-avatar\">\\n                    <img src=\"https://img3.doubanio.com/icon/u194499334-4.jpg\" class=\"pil\" alt=\"只只\">\\n                </a>\\n                <div class=\"others-interest-info\">\\n                    <a href=\"https://www.douban.com/people/194499334/\" class=\"\">只只</a>\\n                    <div class=\"\">\\n                        刚刚\\n                        看过\\n                        <span class=\"allstar50\" title=\"力荐\"></span>\\n                    </div>\\n                </div>\\n            </li>\\n            \\n            <li class=\"\">\\n                <a href=\"https://www.douban.com/people/164796971/\" class=\"others-interest-avatar\">\\n                    <img src=\"https://img3.doubanio.com/icon/u164796971-1.jpg\" class=\"pil\" alt=\"孟小蓓\">\\n                </a>\\n                <div class=\"others-interest-info\">\\n                    <a href=\"https://www.douban.com/people/164796971/\" class=\"\">孟小蓓</a>\\n                    <div class=\"\">\\n                        1分钟前\\n                        看过\\n                        <span class=\"allstar50\" title=\"力荐\"></span>\\n                    </div>\\n                </div>\\n            </li>\\n    </ul>\\n\\n    \\n    <div class=\"subject-others-interests-ft\">\\n        \\n            <a href=\"https://movie.douban.com/subject/27060077/collections\">866273人看过</a>\\n                &nbsp;/&nbsp;\\n            <a href=\"https://movie.douban.com/subject/27060077/wishes\">379152人想看</a>\\n    </div>\\n\\n</div>\\n\\n\\n\\n    \\n    \\n\\n<!-- douban ad begin -->\\n<div id=\"dale_movie_subject_middle_right\"></div>\\n<script type=\"text/javascript\">\\n    (function (global) {\\n        if(!document.getElementsByClassName) {\\n            document.getElementsByClassName = function(className) {\\n                return this.querySelectorAll(\".\" + className);\\n            };\\n            Element.prototype.getElementsByClassName = document.getElementsByClassName;\\n\\n        }\\n        var articles = global.document.getElementsByClassName(\\'article\\'),\\n            asides = global.document.getElementsByClassName(\\'aside\\');\\n\\n        if (articles.length > 0 && asides.length > 0 && articles[0].offsetHeight >= asides[0].offsetHeight) {\\n            (global.DoubanAdSlots = global.DoubanAdSlots || []).push(\\'dale_movie_subject_middle_right\\');\\n        }\\n    })(this);\\n</script>\\n<!-- douban ad end -->\\n\\n\\n\\n    <br/>\\n\\n    \\n<p class=\"pl\">订阅绿皮书的评论: <br/><span class=\"feed\">\\n    <a href=\"https://movie.douban.com/feed/subject/27060077/reviews\"> feed: rss 2.0</a></span></p>\\n\\n\\n            </div>\\n            <div class=\"extra\">\\n                \\n    \\n<!-- douban ad begin -->\\n<div id=\"dale_movie_subject_bottom_super_banner\"></div>\\n<script type=\"text/javascript\">\\n    (function (global) {\\n        var body = global.document.body,\\n            html = global.document.documentElement;\\n\\n        var height = Math.max(body.scrollHeight, body.offsetHeight, html.clientHeight, html.scrollHeight, html.offsetHeight);\\n        if (height >= 2000) {\\n            (global.DoubanAdSlots = global.DoubanAdSlots || []).push(\\'dale_movie_subject_bottom_super_banner\\');\\n        }\\n    })(this);\\n</script>\\n<!-- douban ad end -->\\n\\n\\n            </div>\\n        </div>\\n    </div>\\n\\n        \\n    <div id=\"footer\">\\n            <div class=\"footer-extra\"></div>\\n        \\n<span id=\"icp\" class=\"fleft gray-link\">\\n    &copy; 2005－2019 douban.com, all rights reserved 北京豆网科技有限公司\\n</span>\\n\\n<a href=\"https://www.douban.com/hnypt/variformcyst.py\" style=\"display: none;\"></a>\\n\\n<span class=\"fright\">\\n    <a href=\"https://www.douban.com/about\">关于豆瓣</a>\\n    · <a href=\"https://www.douban.com/jobs\">在豆瓣工作</a>\\n    · <a href=\"https://www.douban.com/about?topic=contactus\">联系我们</a>\\n    · <a href=\"https://www.douban.com/about/legal\">法律声明</a>\\n    \\n    · <a href=\"https://help.douban.com/?app=movie\" target=\"_blank\">帮助中心</a>\\n    · <a href=\"https://www.douban.com/doubanapp/\">移动应用</a>\\n    · <a href=\"https://www.douban.com/partner/\">豆瓣广告</a>\\n</span>\\n\\n    </div>\\n\\n    </div>\\n    <script type=\"text/javascript\" src=\"https://img3.doubanio.com/misc/mixed_static/5cbc4995cade0fad.js\"></script>\\n        \\n        \\n    <link rel=\"stylesheet\" type=\"text/css\" href=\"https://img3.doubanio.com/f/shire/8377b9498330a2e6f056d863987cc7a37eb4d486/css/ui/dialog.css\" />\\n    <link rel=\"stylesheet\" type=\"text/css\" href=\"https://img3.doubanio.com/f/movie/4aca95d66d37ec0712b3d19973b5d8feb75f2f05/css/movie/mod/reg_login_pop.css\" />\\n    <script type=\"text/javascript\" src=\"https://img3.doubanio.com/f/shire/77323ae72a612bba8b65f845491513ff3329b1bb/js/do.js\" data-cfg-autoload=\"false\"></script>\\n    <script type=\"text/javascript\" src=\"https://img3.doubanio.com/f/shire/383a6e43f2108dc69e3ff2681bc4dc6c72a5ffb0/js/ui/dialog.js\"></script>\\n    <script type=\"text/javascript\">\\n        var HTTPS_DB=\\'https://www.douban.com\\';\\nvar account_pop={open:function(o,e){e?referrer=\"?referrer=\"+encodeURIComponent(e):referrer=\"?referrer=\"+window.location.href;var n=\"\",i=\"\",t=448;n=\"用户登录\",i=\"https://accounts.douban.com/passport/login_popup?source=movie\";var r=document.location.protocol+\"//\"+document.location.hostname,a=dui.Dialog({width:340,title:n,height:t,cls:\"account_pop\",isHideTitle:!0,modal:!0,content:\"<iframe scrolling=\\'no\\' frameborder=\\'0\\' width=\\'340\\' height=\\'\"+t+\"\\' src=\\'\"+i+\"\\' name=\\'\"+r+\"\\'></iframe>\"},!0),c=a.node;if(c.undelegate(),c.delegate(\".dui-dialog-close\",\"click\",function(){var o=$(\"body\");o.find(\"#login_msk\").hide(),o.find(\".account_pop\").remove()}),$(window).width()<478){var d=\"\";\"reg\"===o?d=HTTPS_DB+\"/accounts/register\"+referrer:\"login\"===o&&(d=HTTPS_DB+\"/accounts/login\"+referrer),window.location.href=d}else a.open();$(window).bind(\"message\",function(o){\"https://accounts.douban.com\"===o.originalEvent.origin&&(c.find(\"iframe\").css(\"height\",o.originalEvent.data),c.height(o.originalEvent.data),a.update())})}};Douban&&Douban.init_show_login&&(Douban.init_show_login=function(o){var e=$(o);e.click(function(){var o=e.data(\"ref\")||\"\";return account_pop.open(\"login\",o),!1})}),Do(function(){$(\"body\").delegate(\".pop_register\",\"click\",function(o){o.preventDefault();var e=$(this).data(\"ref\")||\"\";return account_pop.open(\"reg\",e),!1}),$(\"body\").delegate(\".pop_login\",\"click\",function(o){o.preventDefault();var e=$(this).data(\"ref\")||\"\";return account_pop.open(\"login\",e),!1})});\\n    </script>\\n\\n    \\n    \\n    \\n    \\n\\n\\n\\n\\n    \\n<script type=\"text/javascript\">\\n    (function (global) {\\n        var newNode = global.document.createElement(\\'script\\'),\\n            existingNode = global.document.getElementsByTagName(\\'script\\')[0],\\n            adSource = \\'//erebor.douban.com/\\',\\n            userId = \\'\\',\\n            browserId = \\'47pyZC0zmvQ\\',\\n            criteria = \\'7:马赫沙拉·阿里|7:彼得·法雷里|7:剧情|7:尼克·瓦莱隆加|7:音乐|7:珍娜·劳伦索|7:乔·柯蒂斯|7:琳达·卡德里尼|7:温情|7:维果·莫腾森|7:伊克博·塞巴|7:迈克·切罗内|7:传记|7:美国|7:安东尼·曼加诺|7:肯尼斯·以色列|7:迈克·哈顿|7:黑人平权|7:人性|7:塞巴斯蒂安·马尼斯科|7:大卫·安|7:保罗·斯隆|7:冯·刘易斯|7:玛姬·尼克松|7:公路|7:迪米特·D·马里诺夫|7:乔恩·索特兰|7:唐·斯达克|7:P·J·伯恩|7:喜剧|7:真实事件改编|7:种族|3:/subject/27060077/?tag=%E7%83%AD%E9%97%A8&amp;from=gaia_video\\',\\n            preview = \\'\\',\\n            debug = false,\\n            adSlots = [\\'dale_movie_subject_top_icon\\', \\'dale_movie_subject_top_right\\', \\'dale_movie_subject_top_middle\\', \\'dale_movie_subject_inner_middle\\', \\'dale_movie_subject_download_middle\\', \\'dale_movie_review_right_guess_you_like\\'];\\n\\n        global.DoubanAdRequest = {src: adSource, uid: userId, bid: browserId, crtr: criteria, prv: preview, debug: debug};\\n        global.DoubanAdSlots = (global.DoubanAdSlots || []).concat(adSlots);\\n\\n        newNode.setAttribute(\\'type\\', \\'text/javascript\\');\\n        newNode.setAttribute(\\'src\\', \\'https://img3.doubanio.com/f/adjs/5ec0e90cac83524d8c3e7f7bf95260c9c1875bca/ad.release.js\\');\\n        newNode.setAttribute(\\'async\\', true);\\n        existingNode.parentNode.insertBefore(newNode, existingNode);\\n    })(this);\\n</script>\\n\\n\\n\\n\\n\\n\\n\\n\\n\\n\\n\\n    \\n  \\n\\n\\n\\n\\n\\n\\n\\n\\n\\n<script type=\"text/javascript\">\\nvar _paq = _paq || [];\\n_paq.push([\\'trackPageView\\']);\\n_paq.push([\\'enableLinkTracking\\']);\\n(function() {\\n    var p=((\\'https:\\' == document.location.protocol) ? \\'https\\' : \\'http\\'), u=p+\\'://fundin.douban.com/\\';\\n    _paq.push([\\'setTrackerUrl\\', u+\\'piwik\\']);\\n    _paq.push([\\'setSiteId\\', \\'100001\\']);\\n    var d=document, g=d.createElement(\\'script\\'), s=d.getElementsByTagName(\\'script\\')[0];\\n    g.type=\\'text/javascript\\';\\n    g.defer=true;\\n    g.async=true;\\n    g.src=p+\\'://img3.doubanio.com/dae/fundin/piwik.js\\';\\n    s.parentNode.insertBefore(g,s);\\n})();\\n</script>\\n\\n<script type=\"text/javascript\">\\nvar setMethodWithNs = function(namespace) {\\n  var ns = namespace ? namespace + \\'.\\' : \\'\\'\\n    , fn = function(string) {\\n        if(!ns) {return string}\\n        return ns + string\\n      }\\n  return fn\\n}\\n\\nvar gaWithNamespace = function(fn, namespace) {\\n  var method = setMethodWithNs(namespace)\\n  fn.call(this, method)\\n}\\n\\nvar _gaq = _gaq || []\\n  , accounts = [\\n      { id: \\'UA-7019765-1\\', namespace: \\'douban\\' }\\n    , { id: \\'UA-7019765-19\\', namespace: \\'\\' }\\n    ]\\n  , gaInit = function(account) {\\n      gaWithNamespace(function(method) {\\n        gaInitFn.call(this, method, account)\\n      }, account.namespace)\\n    }\\n  , gaInitFn = function(method, account) {\\n      _gaq.push([method(\\'_setAccount\\'), account.id]);\\n      _gaq.push([method(\\'_setSampleRate\\'), \\'5\\']);\\n\\n      \\n  _gaq.push([method(\\'_addOrganic\\'), \\'google\\', \\'q\\'])\\n  _gaq.push([method(\\'_addOrganic\\'), \\'baidu\\', \\'wd\\'])\\n  _gaq.push([method(\\'_addOrganic\\'), \\'soso\\', \\'w\\'])\\n  _gaq.push([method(\\'_addOrganic\\'), \\'youdao\\', \\'q\\'])\\n  _gaq.push([method(\\'_addOrganic\\'), \\'so.360.cn\\', \\'q\\'])\\n  _gaq.push([method(\\'_addOrganic\\'), \\'sogou\\', \\'query\\'])\\n  if (account.namespace) {\\n    _gaq.push([method(\\'_addIgnoredOrganic\\'), \\'豆瓣\\'])\\n    _gaq.push([method(\\'_addIgnoredOrganic\\'), \\'douban\\'])\\n    _gaq.push([method(\\'_addIgnoredOrganic\\'), \\'豆瓣网\\'])\\n    _gaq.push([method(\\'_addIgnoredOrganic\\'), \\'www.douban.com\\'])\\n  }\\n\\n      if (account.namespace === \\'douban\\') {\\n        _gaq.push([method(\\'_setDomainName\\'), \\'.douban.com\\'])\\n      }\\n\\n        _gaq.push([method(\\'_setCustomVar\\'), 1, \\'responsive_view_mode\\', \\'desktop\\', 3])\\n\\n        _gaq.push([method(\\'_setCustomVar\\'), 2, \\'login_status\\', \\'0\\', 2]);\\n\\n      _gaq.push([method(\\'_trackPageview\\')])\\n    }\\n\\nfor(var i = 0, l = accounts.length; i < l; i++) {\\n  var account = accounts[i]\\n  gaInit(account)\\n}\\n\\n\\n;(function() {\\n    var ga = document.createElement(\\'script\\');\\n    ga.src = (\\'https:\\' == document.location.protocol ? \\'https://ssl\\' : \\'http://www\\') + \\'.google-analytics.com/ga.js\\';\\n    ga.setAttribute(\\'async\\', \\'true\\');\\n    document.documentElement.firstChild.appendChild(ga);\\n})()\\n</script>\\n\\n\\n\\n\\n\\n\\n\\n\\n      \\n    \\n\\n    <!-- brand16-docker-->\\n\\n  <script>_SPLITTEST=\\'\\'</script>\\n</body>\\n\\n</html>\\n\\n\\n'"
      ]
     },
     "execution_count": 7,
     "metadata": {},
     "output_type": "execute_result"
    }
   ],
   "source": [
    "response.text"
   ]
  },
  {
   "cell_type": "code",
   "execution_count": 8,
   "metadata": {},
   "outputs": [],
   "source": [
    "pattern = re.compile(r'<a href=\"https://(movie\\.douban\\.com/subject/\\d+/\\?from=subject-page)\" class=\"\" >')"
   ]
  },
  {
   "cell_type": "code",
   "execution_count": 11,
   "metadata": {},
   "outputs": [],
   "source": [
    "other_like = pattern.findall(response.text)"
   ]
  },
  {
   "cell_type": "code",
   "execution_count": 13,
   "metadata": {},
   "outputs": [
    {
     "name": "stdout",
     "output_type": "stream",
     "text": [
      "movie.douban.com/subject/6786002/?from=subject-page\n",
      "movie.douban.com/subject/3011091/?from=subject-page\n",
      "movie.douban.com/subject/26628357/?from=subject-page\n",
      "movie.douban.com/subject/26752088/?from=subject-page\n",
      "movie.douban.com/subject/1295644/?from=subject-page\n",
      "movie.douban.com/subject/27110296/?from=subject-page\n",
      "movie.douban.com/subject/21937445/?from=subject-page\n",
      "movie.douban.com/subject/1292064/?from=subject-page\n",
      "movie.douban.com/subject/27622447/?from=subject-page\n",
      "movie.douban.com/subject/5912992/?from=subject-page\n"
     ]
    }
   ],
   "source": [
    "for like in other_like:\n",
    "    print(like)"
   ]
  },
  {
   "cell_type": "code",
   "execution_count": null,
   "metadata": {},
   "outputs": [],
   "source": []
  }
 ],
 "metadata": {
  "kernelspec": {
   "display_name": "Python 3",
   "language": "python",
   "name": "python3"
  },
  "language_info": {
   "codemirror_mode": {
    "name": "ipython",
    "version": 3
   },
   "file_extension": ".py",
   "mimetype": "text/x-python",
   "name": "python",
   "nbconvert_exporter": "python",
   "pygments_lexer": "ipython3",
   "version": "3.6.8"
  }
 },
 "nbformat": 4,
 "nbformat_minor": 2
}
